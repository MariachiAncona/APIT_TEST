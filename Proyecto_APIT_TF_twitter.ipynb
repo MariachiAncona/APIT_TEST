{
  "nbformat": 4,
  "nbformat_minor": 0,
  "metadata": {
    "colab": {
      "name": "Proyecto_APIT.ipynb",
      "provenance": [],
      "collapsed_sections": [],
      "include_colab_link": true
    },
    "kernelspec": {
      "display_name": "Python 3",
      "name": "python3"
    }
  },
  "cells": [
    {
      "cell_type": "markdown",
      "metadata": {
        "id": "view-in-github",
        "colab_type": "text"
      },
      "source": [
        "<a href=\"https://colab.research.google.com/github/MariachiAncona/APIT_TEST/blob/main/Proyecto_APIT_TF_twitter.ipynb\" target=\"_parent\"><img src=\"https://colab.research.google.com/assets/colab-badge.svg\" alt=\"Open In Colab\"/></a>"
      ]
    },
    {
      "cell_type": "markdown",
      "metadata": {
        "id": "i7jevSdAJ8XK"
      },
      "source": [
        "### **Proyecto: Modelo de lenguaje para reconocer si una opinión es buena en twitter sobre un tema específico**\r\n",
        "\r\n",
        "*   Aquino Santiago Rogelio Gerardo\r\n",
        "*   Moreno Madrid Maria Guadalupe\r\n",
        "*   Ramírez Ancona Simón Eduardo\r\n",
        "*   Ruiz Pérez Ariel"
      ]
    },
    {
      "cell_type": "markdown",
      "metadata": {
        "id": "mtiFkpgzJ1J9"
      },
      "source": [
        "### **Objetivo:**\r\n",
        "A partir del corpus **corpusML.txt** realizar un modelo del lenguaje neuronal con base en la arquitectura propuesta por Bengio (2003)."
      ]
    },
    {
      "cell_type": "markdown",
      "metadata": {
        "id": "pj1Z6E69HHAX"
      },
      "source": [
        "### **Introducion:**\r\n"
      ]
    },
    {
      "cell_type": "markdown",
      "metadata": {
        "id": "imGiQvWwbuf2"
      },
      "source": [
        "Los modelos del lenguajes son una herramienta esencial en el PLN. Éstos se utilizan en múltiples aplicaciones. Su objetivo es estimar probabilidades de cadenas:"
      ]
    },
    {
      "cell_type": "markdown",
      "metadata": {
        "id": "BsP2aK_VNNcC"
      },
      "source": [
        "![Picture1.png](data:image/png;base64,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)"
      ]
    },
    {
      "cell_type": "markdown",
      "metadata": {
        "id": "D67pm7myNUfi"
      },
      "source": [
        "Aproximan estas probabilidades por medio de asumir la propiedad de Markov (n-gramas):"
      ]
    },
    {
      "cell_type": "markdown",
      "metadata": {
        "id": "JaZ2r3gBNckB"
      },
      "source": [
        "![Picture2.png](data:image/png;base64,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)"
      ]
    },
    {
      "cell_type": "markdown",
      "metadata": {
        "id": "Eh6gnROpOPTo"
      },
      "source": [
        "Un modelo (estadístico) del lenguaje es µ = (Σ, P), tal que Σ es vocabulario y P medida de probabilidad sobre $Σ^*$"
      ]
    },
    {
      "cell_type": "markdown",
      "metadata": {
        "id": "x3TXsbaVO1V8"
      },
      "source": [
        "Se busca estimar un modelo µ = (Σ, A, Π)tal que Σ es el vocabulario, A son probabilidades de transición:"
      ]
    },
    {
      "cell_type": "markdown",
      "metadata": {
        "id": "r2U1QieuP1b0"
      },
      "source": [
        "![Picture3.png](data:image/png;base64,iVBORw0KGgoAAAANSUhEUgAAAQEAAAAtCAMAAACZKy42AAAAAXNSR0IArs4c6QAAAARnQU1BAACxjwv8YQUAAABgUExURQAAAAAAAAAAAAAAAAAAAAAAAAAAAAAAAAAAAAAAAAAAAAAAAAAAAAAAAAAAAAAAAAAAAAAAAAAAAAAAAAAAAAAAAAAAAAAAAAAAAAAAAAAAAAAAAAAAAAAAAAAAAAAAAPpP6I0AAAAfdFJOUwAQEyAiLzA8QEpQWGBncHaAhY+Wn6ivuL/Lz9zf7u9EvwJ9AAAACXBIWXMAABcRAAAXEQHKJvM/AAAEr0lEQVRoQ+2ZYXObMAyGEw9CU5oSSl1CiKP//y8nWzJ2WozFbr3ddTxfELkErNeSJTu7jY2Njb/D/nxhK8n57RdbP5HD9f66ZzvF4QNe2fx5HO5Xyfye4Y2tn8b+dpcF+Ac8s/XDeIcXtjKIpZql0g1bs1TQszXP0BVsyVAGKjZzHODKVpYXeGdrNUqbRrE9S06BQpuaTREtiBU4w5mtLHu4s7UWNZiSzQQ5BXa7GhaD6JECxDGwv4E8tMUJ8xkNGQEECuC0HtnK02st/fazPAl2u1f4YGsdR+jYSiJQQI3jYiJFVKZopCFzXpPbhz9MgwGyy5hAgV0DJ7ZyjA1+WajAQ6Oj2hGMrsdUyO5BlDKVBnPcqc5A6+5LGNy1AgB7Ve6+ATD2jiAFeqBxU8Dj1x9cLmBkK8MJg+VRAfvqiFjtW1TkS4PrrRogPWN3eGILQRdiphdWQ3GEvuwL1ZMH02BOADaOcTj2ro0HQgqokUTr3S/U5/V8zMeSRaH++NI48xYUgOATvt5OfrOg9DWOmJQCSAXDgL6iEPaunxwhl7BS2ZsGovrGWdCQEPy0zyPp41+kae0z6El5MK4PbOLA3GsfxXvkItwcHMlVnuxQmMgaKcp07B8rcHKXGtwYys8Oy3K7cBNJT8rzK2Q2Cu9irOXk63zIDc4Nx0XYPLSkYkWZTjpYXDTUprWXgvxz9qQAXUaawM5JVIQZWZqcAC4mjtUK1Lxe9Vy7Rz9F0aOkCvRUjHkeYgVwEvumsV63/nXuMimAt5VR9q6w6WzHNUWCKLIrmrlKuGxGWdDSIoSh4G5nkSrAz+jokeGJNoxro2xZK2juPayA+y7WMhs83Rd3RQrgry2cgUx6JYwUoPV3+S3XuClMr4S4ELqroXCiCmBBBdRYuwa3p0rpiRQ44eSNYLsa90mEJAsaTl6pAlF94wpkyJUOuKvErAojiWvnggIc/TW/KayENegGxamgsSUbwWdQjHsFRqhs8PegRrccFcBqWgQroTL8dfRZ1kGG+kaloO94SIN/wBD1LbKOCLcB1h018naIVwUEk9OgGvbCH7W86ngFehisgRf25MhtlUVQDbUXTPspzPE2ZTYOSxW6xipdaBxl7xcSQ0OzHAByp2kO7CxLbIz8fjZMHU4MrwzeLc2xGhRwwd/QBakir7MdEfZgANpa1rBi53kJm52TAY0DNzDYd/qUK6LIE26jsHvtUITpTMN3xQiq7C62X3KMrK9XgHv/0C35vEbEXfEqUnv+yrfkxyiY3mWl4EjTEEjPnfLB4BX4Qh+SUL4zWsVlfs/fcH5ioobR30IDuYTvqSbSu+Ojn+ukAkFNZYxsbVtJ4ujL52c8B8/C44GwD/AkT0gmoVMKlCEJ15yQrGL+kAhbtc75EY3sEu8MF/h6RJc8JeOOMK0AFs6SoqCOisLf5Qnm/jCqYXSK4wjcPSI9KMUFn34bobQ5zYXw5HdKAdysd/aHhf6eRcCx+FfIaQq9w/0qKoUJKj3jQSme17Wn5et4W5BgWgaeZP8srWNaBv41h1uq05mOqM/5vxbXU0bd1r9mvsqdgJpzZP8N/oNpv6W8bWxsbGxsbGxs/E/sdr8BEmplfP5rSMgAAAAASUVORK5CYII=)"
      ]
    },
    {
      "cell_type": "markdown",
      "metadata": {
        "id": "fybUSVXsQB5k"
      },
      "source": [
        "Y Π son probabilidades iniciales:"
      ]
    },
    {
      "cell_type": "markdown",
      "metadata": {
        "id": "s7ogx1UeRPGh"
      },
      "source": [
        "![Picture4.png](data:image/png;base64,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)"
      ]
    },
    {
      "cell_type": "markdown",
      "metadata": {
        "id": "jh4-SR4HROwD"
      },
      "source": [
        "De esta forma, se pueden obtener las probabilidades de cadenas como:"
      ]
    },
    {
      "cell_type": "markdown",
      "metadata": {
        "id": "XCc6NfZbRmHO"
      },
      "source": [
        "![Picture5.png](data:image/png;base64,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)"
      ]
    },
    {
      "cell_type": "markdown",
      "metadata": {
        "id": "_MznXdtENwN9"
      },
      "source": [
        "Bengio (2003) propone estimar los modelos del lenguaje a partir de las redes neuronales.\r\n",
        "Sus objetivos son:\r\n",
        "\r\n",
        "1.   Asociar cada palabra en el vocabulario con un vector distribuido en $R^b$\r\n",
        "2.   Expresar la función de distribución conjunta de las secuencias de palabras por medio de estos vectores.\r\n",
        "3.   Aprender de manera simultánea los vectores distribuidos y los parámetros de la función de probabilidad.\r\n",
        "\r\n",
        "\r\n",
        "\r\n",
        "\r\n"
      ]
    },
    {
      "cell_type": "markdown",
      "metadata": {
        "id": "la5hjTwIPB-J"
      },
      "source": [
        "### **Desarrollo:**\n",
        "\n",
        "El corpus será una colección de tweets, cada uno de los que se obtengan con la herramienta twint será utilizado como una sentencia, que será almacenada como un elemento de la lista para entrenar y evaluar el modelo.\n"
      ]
    },
    {
      "cell_type": "markdown",
      "metadata": {
        "id": "2glSJH_UVoTu"
      },
      "source": [
        "---\n",
        "Instalando twint para obtener los datos que se usarán como entrada del modelo de clasificación.\n",
        "\n",
        "__Nota: se debe ejecutar esta celda y después reiniciar el runtime (solo reiniciar) porque algunas bibliotecas requieren el reinicio para poder ejecutarse, después volver a ejecutar todas las celdas__."
      ]
    },
    {
      "cell_type": "code",
      "metadata": {
        "colab": {
          "base_uri": "https://localhost:8080/"
        },
        "id": "VBne4cZoVZLZ",
        "collapsed": true,
        "outputId": "264c66fd-44fb-4941-e594-451895b8dd9a"
      },
      "source": [
        "!pip install -qq whatthelang\r\n",
        "!pip install nest_asyncio\r\n",
        "!pip install git+https://github.com/twintproject/twint.git@origin/master#egg=twint"
      ],
      "execution_count": 1,
      "outputs": [
        {
          "output_type": "stream",
          "text": [
            "Requirement already satisfied: nest_asyncio in /usr/local/lib/python3.6/dist-packages (1.4.3)\n",
            "Requirement already satisfied: twint from git+https://github.com/twintproject/twint.git@origin/master#egg=twint in /usr/local/lib/python3.6/dist-packages (2.1.21)\n",
            "Requirement already satisfied: aiohttp-socks in /usr/local/lib/python3.6/dist-packages (from twint) (0.5.5)\n",
            "Requirement already satisfied: pandas in /usr/local/lib/python3.6/dist-packages (from twint) (1.1.5)\n",
            "Requirement already satisfied: elasticsearch in /usr/local/lib/python3.6/dist-packages (from twint) (7.10.1)\n",
            "Requirement already satisfied: googletransx in /usr/local/lib/python3.6/dist-packages (from twint) (2.4.2)\n",
            "Requirement already satisfied: fake-useragent in /usr/local/lib/python3.6/dist-packages (from twint) (0.1.11)\n",
            "Requirement already satisfied: cchardet in /usr/local/lib/python3.6/dist-packages (from twint) (2.1.7)\n",
            "Requirement already satisfied: pysocks in /usr/local/lib/python3.6/dist-packages (from twint) (1.7.1)\n",
            "Requirement already satisfied: schedule in /usr/local/lib/python3.6/dist-packages (from twint) (0.6.0)\n",
            "Requirement already satisfied: aiohttp in /usr/local/lib/python3.6/dist-packages (from twint) (3.7.3)\n",
            "Requirement already satisfied: dataclasses in /usr/local/lib/python3.6/dist-packages (from twint) (0.8)\n",
            "Requirement already satisfied: geopy in /usr/local/lib/python3.6/dist-packages (from twint) (1.17.0)\n",
            "Requirement already satisfied: beautifulsoup4 in /usr/local/lib/python3.6/dist-packages (from twint) (4.6.3)\n",
            "Requirement already satisfied: aiodns in /usr/local/lib/python3.6/dist-packages (from twint) (2.0.0)\n",
            "Requirement already satisfied: attrs>=19.2.0 in /usr/local/lib/python3.6/dist-packages (from aiohttp-socks->twint) (20.3.0)\n",
            "Requirement already satisfied: python-socks[asyncio]>=1.0.1 in /usr/local/lib/python3.6/dist-packages (from aiohttp-socks->twint) (1.2.0)\n",
            "Requirement already satisfied: python-dateutil>=2.7.3 in /usr/local/lib/python3.6/dist-packages (from pandas->twint) (2.8.1)\n",
            "Requirement already satisfied: numpy>=1.15.4 in /usr/local/lib/python3.6/dist-packages (from pandas->twint) (1.19.5)\n",
            "Requirement already satisfied: pytz>=2017.2 in /usr/local/lib/python3.6/dist-packages (from pandas->twint) (2018.9)\n",
            "Requirement already satisfied: certifi in /usr/local/lib/python3.6/dist-packages (from elasticsearch->twint) (2020.12.5)\n",
            "Requirement already satisfied: urllib3<2,>=1.21.1 in /usr/local/lib/python3.6/dist-packages (from elasticsearch->twint) (1.24.3)\n",
            "Requirement already satisfied: requests in /usr/local/lib/python3.6/dist-packages (from googletransx->twint) (2.23.0)\n",
            "Requirement already satisfied: async-timeout<4.0,>=3.0 in /usr/local/lib/python3.6/dist-packages (from aiohttp->twint) (3.0.1)\n",
            "Requirement already satisfied: yarl<2.0,>=1.0 in /usr/local/lib/python3.6/dist-packages (from aiohttp->twint) (1.6.3)\n",
            "Requirement already satisfied: idna-ssl>=1.0; python_version < \"3.7\" in /usr/local/lib/python3.6/dist-packages (from aiohttp->twint) (1.1.0)\n",
            "Requirement already satisfied: typing-extensions>=3.6.5 in /usr/local/lib/python3.6/dist-packages (from aiohttp->twint) (3.7.4.3)\n",
            "Requirement already satisfied: chardet<4.0,>=2.0 in /usr/local/lib/python3.6/dist-packages (from aiohttp->twint) (3.0.4)\n",
            "Requirement already satisfied: multidict<7.0,>=4.5 in /usr/local/lib/python3.6/dist-packages (from aiohttp->twint) (5.1.0)\n",
            "Requirement already satisfied: geographiclib<2,>=1.49 in /usr/local/lib/python3.6/dist-packages (from geopy->twint) (1.50)\n",
            "Requirement already satisfied: pycares>=3.0.0 in /usr/local/lib/python3.6/dist-packages (from aiodns->twint) (3.1.1)\n",
            "Requirement already satisfied: typing; python_version < \"3.7\" in /usr/local/lib/python3.6/dist-packages (from aiodns->twint) (3.7.4.3)\n",
            "Requirement already satisfied: six>=1.5 in /usr/local/lib/python3.6/dist-packages (from python-dateutil>=2.7.3->pandas->twint) (1.15.0)\n",
            "Requirement already satisfied: idna<3,>=2.5 in /usr/local/lib/python3.6/dist-packages (from requests->googletransx->twint) (2.10)\n",
            "Requirement already satisfied: cffi>=1.5.0 in /usr/local/lib/python3.6/dist-packages (from pycares>=3.0.0->aiodns->twint) (1.14.4)\n",
            "Requirement already satisfied: pycparser in /usr/local/lib/python3.6/dist-packages (from cffi>=1.5.0->pycares>=3.0.0->aiodns->twint) (2.20)\n"
          ],
          "name": "stdout"
        }
      ]
    },
    {
      "cell_type": "markdown",
      "metadata": {
        "id": "sspljvbHqR2R"
      },
      "source": [
        "Como el modelo se entrena a partir de reseñas de peliculas en inglés los tweets deberán ser extraídos en inglés."
      ]
    },
    {
      "cell_type": "code",
      "metadata": {
        "id": "CJBFYZgiWgcO"
      },
      "source": [
        "import nest_asyncio\n",
        "nest_asyncio.apply()\n",
        "from whatthelang import WhatTheLang\n",
        "\n",
        "\n",
        "import twint\n",
        "\n",
        "def detect_lang(text):\n",
        "  wtl = WhatTheLang()\n",
        "  try: \n",
        "    return wtl.predict_lang(text)\n",
        "  except Exception:\n",
        "    return 'exp'\n",
        "\n",
        "# Function for instantiate and configure the twint-object\n",
        "def create_twint_object(target, date=\"2021-01-21\", limit=100):\n",
        "  c = twint.Config()\n",
        "  c.Store_object = True\n",
        "  c.Pandas =True\n",
        "  c.Search = target\n",
        "  c.Since = date\n",
        "  c.Limit = limit\n",
        "  c.Lang = 'en'\n",
        "  twint.run.Search(c)\n",
        "  # Quick check\n",
        "  #twint.storage.panda.Tweets_df.head()\n",
        "  # Cleanup duplicates.\n",
        "  tweets = twint.storage.panda.Tweets_df.drop_duplicates(subset=['id'])\n",
        "\n",
        "  # Reindex\n",
        "  tweets.index = range(len(tweets))\n",
        "  #Return english tweets\n",
        "  tweets['lang'] = tweets['tweet'].map(lambda t: detect_lang(t))\n",
        "  tweets = tweets[tweets.lang == 'en']\n",
        "\n",
        "  corpus = []\n",
        "\n",
        "  for row in tweets.index:\n",
        "    corpus.append(tweets['tweet'][row])\n",
        "    #print(tweets['tweet'][row])\n",
        "\n",
        "  return corpus"
      ],
      "execution_count": 57,
      "outputs": []
    },
    {
      "cell_type": "markdown",
      "metadata": {
        "id": "aBehmR1iqLow"
      },
      "source": [
        "Creando el corpus de prueba desde twitter."
      ]
    },
    {
      "cell_type": "code",
      "metadata": {
        "id": "gpCvAoeRd5AK",
        "colab": {
          "base_uri": "https://localhost:8080/"
        },
        "outputId": "4b85f4fb-b93e-4bea-dbee-5f3de835e0f8"
      },
      "source": [
        "corpus_capitol = create_twint_object(\"#Capitol\", \"2021-01-21\", 100)"
      ],
      "execution_count": 6,
      "outputs": [
        {
          "output_type": "stream",
          "text": [
            "1352441550333087744 2021-01-22 02:22:47 +0000 <jamiecbarnett> Anyone else uncomfortable with @GOP nutjobs bringing guns into the #Capitol? I wouldn't trust someone like @laurenboebert or @mtgreenee with a gun around a lawmaker I care about. C'mon, #Congress!\n",
            "1352439775005958147 2021-01-22 02:15:44 +0000 <clio_uncensored> Ohhh shiiit! #rap #hiphop #capitol\n",
            "1352439558756036608 2021-01-22 02:14:52 +0000 <Pandadollbaby> @TheView @MeghanMcCain #RepublicanTerrorists attacked OUR #Capitol   Tag who the #terrorist #Republicans are if they don't want to all be labeled #terrorists   .@FriendEden100  .@WiccanMethusela  .@JtOptimist  .@forevercats  .@JIMBO_Biden2020  .@sunny  .@JoyVBehar\n",
            "1352439373137145857 2021-01-22 02:14:08 +0000 <RuanoFaxas> @Newsweek \"#WhiteHouse Cleanup After Donald #Trump's Departure Cost at Least $127,000. With 132 rooms, 35 bathrooms, 412 doors and 28 fireplaces the #WH is not an easy building to deep-clean\" #Coronavirus #Covid #Melania #Pence #GOP #MAGA #Terrorism #Capitol #Election #USA #Biden #Jill  https://t.co/Syr9nnwo1I\n",
            "1352438707068915714 2021-01-22 02:11:29 +0000 <2haveandhavenot> The question re #CNN isn't why do the retain viewership,  but the more clinical,  why do they retain any advertisers?  @Adweek #Trump #Biden @GOP #dnc #capitol @MediaBuzzFNC @theMRC @foxbusiness  @fordautoads #Walgreens @cvpayne @MariaBartiromo @wsj @Digiday #GRP #Wallet #hannity\n",
            "1352438553347821573 2021-01-22 02:10:52 +0000 <TeckieGirle> You can steal a laptop from the #CapitolRiots and try to sell it to the Russians and get sent home arrest to your mom if you have #WhitePrivilege  Yep 👍🏾 we are not the same.  #Laptop #Capitol\n",
            "1352437576657997826 2021-01-22 02:07:00 +0000 <KingKathy11> Florida man accused of being in #Capitol riots was arrested at the inauguration, Justice Department says   https://t.co/inzjcVVbr0\n",
            "1352437493463826435 2021-01-22 02:06:40 +0000 <1RoguePoet> @politico Also concerned if our soldiers can't handle a heated garage in the #capitol, how on earth will they handle going to #war, sleeping in the dirt?\n",
            "1352437158477443079 2021-01-22 02:05:20 +0000 <Wish69> @ABC7Brian Great Capture @marthaswilson👍🏼📷👍🏼 👍🏼💚👍🏼  #WashingtonDC #photo #capitol #politics  \\X/ish ;0)\n",
            "1352437073597313024 2021-01-22 02:05:00 +0000 <fanfare100> Baker County man who recorded himself during failed #SeditiousGOP #Capitol #insurrection now arrested by #FBI  https://t.co/eysQGqAsZP\n",
            "1352436501360087040 2021-01-22 02:02:43 +0000 <DrT_Crit_Think> GREAT NEWS !! Another #MAGA #terrorist arrested!! 😎👍 #MAGATerrorist #Sedition #impeach #CapitolRiot #Capitol #terrorist #TrumpInsurrection #TrumpSupporters #TrumpCoupAttempt #BLM #GOP #GOPBetrayedAmerica #SeditionHasConsequences #NoFlyList #capitolbreach #UNMAGA\n",
            "1352436240491180032 2021-01-22 02:01:41 +0000 <bookwormwmb> there is no place for armed members, nor insurrectionists, in the #Capitol. @CapitolPolice\n",
            "1352436103106719746 2021-01-22 02:01:08 +0000 <DrT_Crit_Think> 😳😳SENATORS WITH GUNS? #MAGATerrorist #Sedition #impeach #CapitolRiot #Capitol #terrorist #TrumpInsurrection #TrumpSupporters #TrumpCoupAttempt #BLM #GOP #GOPBetrayedAmerica #SeditionHasConsequences #NoFlyList #capitolbreach #GOPComplicitTraitors #UNMAGA\n",
            "1352435942842380289 2021-01-22 02:00:30 +0000 <Doge4ferguson> I bet! But, I can tell you 2 things: racist know other racists! Racist hangouts with other racist! I hope I don’t offend  you when I hashtag Black People #BlackPeople #Trump #Whites #Capitol #Biden #1776Report #14thAmendmentSection3 #blacklivesmatter   #Ferguson\n",
            "1352435728651853825 2021-01-22 01:59:39 +0000 <Doge4ferguson> @freekyleusa I bet! But, I can tell you 2 things: racist know other racists! Racist hangouts with other racist! I hope I don’t offend  you when I hashtag Black People #BlackPeople #Trump #Whites #Capitol #Biden #1776Report #14thAmendmentSection3 #blacklivesmatter  #Ferguson\n",
            "1352434925895561216 2021-01-22 01:56:28 +0000 <fanfare100> Wixom man charged with attacking officers during failed #SeditiousGOP #insurrection attempt on US #Capitol   https://t.co/0ebZ4om1l0\n",
            "1352434791136817152 2021-01-22 01:55:55 +0000 <Stormbeast1994> This is heartbreaking! 5000 National Guardsmen were forced to vacate congressional grounds on Thursday and are now taking their rest breaks outside and in nearby parking garages. No internet, one bathroom with two stalls only. #FuckBiden #Capitol   https://t.co/xqBY63juSt\n",
            "1352433950493446144 2021-01-22 01:52:35 +0000 <Pandadollbaby> There is proof on VIDEO - The #Republican #terrorists in  #Congress who tried to deny a #PresidentialElection &amp; then encouraged a mob to #march to the #Capitol   We saw them try to deny #Election2020\n",
            "1352433862165614592 2021-01-22 01:52:14 +0000 <RuanoFaxas> @business \"#Trump will be represented at his #impeachment trial by #SC lawyer Butch #Bowers, who’s best known for helping save former governor Mark #Sanford from being removed from office\" #Terrorism #GOP #MAGA #Capitol #Incitement of #Insurrection #Coronavirus #Covid #Election #USA #Biden  https://t.co/HfS3SpqleX\n",
            "1352433809778683904 2021-01-22 01:52:01 +0000 <MercuryReports> THIS IS HOW NANCY PELOSI AND CONGRESS TREAT OUR NATIONS HEROES THAT HEEDED THE CALL AND CAME TO Washington DC TO SECURE THE #CAPITOL: Now they're tossing the #NationalGuard troops aside!   https://t.co/LaoEyYwkzm\n",
            "1352433666018992128 2021-01-22 01:51:27 +0000 <jenkers_en> #Army changes account of key phone call on response to #Capitol riot  https://t.co/UDLo2Nt6Y0  https://t.co/zbFC2SzvWp\n",
            "1352433333351768065 2021-01-22 01:50:08 +0000 <owhy3> #Prosecutors released  #conspiracy_charges against #Oath_Keepers  for their #alleged_attack on the #Capitol.   According to charging documents, Oath Keepers—  who count current and #former_law_enforcement and #military_among their #members—used a #walkie_Talkie app.. @DailyBeast_\n",
            "1352433119102644224 2021-01-22 01:49:17 +0000 <MercuryReports> DEMOCRATS GOT THEIR PHOTO OP OF WASHINGTON DC ON LOCKDOWN: \"We Feel Incredibly Betrayed!\" Congress is forcing the #NationalGuard out of areas where they were set up. Often without notice. Thousands of Guardsmen forced to vacate #Capitol!  https://t.co/K42iLwUzZO\n",
            "1352432900717817858 2021-01-22 01:48:25 +0000 <daniel_kurz> Dear Republicans, If you want us to take you seriously, renounce your party affiliation now. The leader of your party coordinated a deadly armed insurrection that damaged our #Capitol.  Otherwise, your words mean nothing. Sincerely, Everybody in America  #Rutgers #PrincetonU\n",
            "1352432896657682432 2021-01-22 01:48:24 +0000 <RoadToSuccess1> @ThomasSowell So true. You hear the same thing over and over again and you start believing it Unfortunately. As we have with people drinking the dem koolaid   https://t.co/XEyMp1QODV #capitol #trump #biden #fbi #impeachment #unity ❗ 🗣 🛏  https://t.co/CiNLK6SFre\n",
            "1352432274063712256 2021-01-22 01:45:55 +0000 <joybug73> #DemocratsAreDestroyingAmerica  #pathetic #americalast #nationalguard #capitol\n",
            "1352432184515309571 2021-01-22 01:45:34 +0000 <peggyjags> You, @NMalliotakis spread the #BigLie that gave comfort to the violent #insurrectionists at the #Capitol. You’re a disgrace &amp; should be expelled.\n",
            "1352432080840486917 2021-01-22 01:45:09 +0000 <gentXray> SUPPORT OUR POLITICAL PRISONERS HELD BY THE FBI  Tomorrow it may be you.  #Capitol #Protest\n",
            "1352431683006394369 2021-01-22 01:43:34 +0000 <zebbidi975> Holy shite!!! I knew these people were out of their minds but...WOW!   #QAnonCult  #QAnonmeltdown #Q #TrumpCult #Trump #CapitolRiot #Capitol #GOPComplicitTraitors #GOP #Parler\n",
            "1352431543302705153 2021-01-22 01:43:01 +0000 <BobMoranePrise2> By the power of editing, I compiled everything I saw in my feed during the #Storming of the #Capitol ⚡️ 🍿🍿👇  https://t.co/YCREZBAr9l  https://t.co/jud5ZRiQ1i\n",
            "1352430713405009920 2021-01-22 01:39:43 +0000 <bibi1581> #Capitol #Hill Security #Failures: Heads To Roll? 68 #Attackers Arrested Orderly #Transition Of Power: President #Trump e Scheme Against Medicare #Casino #Boss #Sheldon #Adelson Dead At 87: Major #GOP #Supporter Trump Rejects Responsibility For #Riots #  https://t.co/LDg3C2N7Ha\n",
            "1352428591351537665 2021-01-22 01:31:17 +0000 <armandovem> TBT, United States Capitol, Washington #tbt #me #memories #capitol #capitolio #washington #usa #unforgettable #amazing #pic #photography #followme #luchin482014 en United States Capitol  https://t.co/Vinroj2jKm\n",
            "1352428335691935745 2021-01-22 01:30:16 +0000 <peggyjags> Rep Malliotakis actions gave aid &amp; comfort to our enemy who stormed our #Capitol. She is just as guilty as the rest of the traitorous #seditionists..  She should be expelled. @NMalliotakis @Pelosi @SenSchumer\n",
            "1352428218729586690 2021-01-22 01:29:48 +0000 <RuanoFaxas> @nytimes \"Many types of Republicans — from 'Never Trumpers' to those derided as 'Republicans in name only' — are jostling for the future of their party after former President #Trump's departure from the #WhiteHouse\"  #Capitol #Terrorism #GOP #MAGA #Pence #Pelosi #Election #USA #Biden  https://t.co/uhtjHHVZHl\n",
            "1352428098176905217 2021-01-22 01:29:20 +0000 <liberte_ny> @ChuckGrassley Oh!!! Chuck... Nice try... W. the #Capitol, we are talking abt @GOP #DomesticTerrorism!!!!\n",
            "1352427405235920897 2021-01-22 01:26:34 +0000 <KarinDFW> 'We feel incredibly betrayed': Thousands of #Guardsmen forced to vacate #Capitol.    Thanks #Biden!    https://t.co/YYtMYauUbb via @politico\n",
            "1352426857736634373 2021-01-22 01:24:24 +0000 <MaryscottOC> @SenTedCruz PEACEFUL?  YOU LOUSY #SEDITIOUS SNAKE.  We will NEVER FORGET what you did. We will NEVER FORGET the part YOU played in the #SIEGE on our nation’s #CAPITOL, in the #MURDER of a police officer.  Run &amp; Hide, you #TRAITOR. Better yet, #RESIGN.\n",
            "1352426286862508033 2021-01-22 01:22:08 +0000 <tabup23> Most definitely, someone needs to get to the bottom of the #GOPComplicitTraitors swamp. #LockThemUp with #trump and his #insurrection on the United States #Capitol\n",
            "1352426070025400322 2021-01-22 01:21:16 +0000 <sam_oputa>  https://t.co/p1B3be4w7S #Faith #corona #SiguemeYTeSigo #BREAKING #Vtuber #coronavirus  #CoronaVaccine #buyingcontent #liveline  #coronadebat #Coronasverige #COVID19 #Instagram #Warzone #insurrection #lockdown #attackontitan #Capitol #win  #WWENXT #indiedev #INDvsAUS #art #WHO nk\n",
            "1352425201301118976 2021-01-22 01:17:49 +0000 <Hagenbeek> 'We feel incredibly betrayed': Thousands of Guardsmen forced to vacate #Capitol   https://t.co/O7eVqCPWsb via @politico\n",
            "1352425082925293568 2021-01-22 01:17:21 +0000 <KingKathy11> Nearly 1 in 5 defendants in #Capitol riot cases served in the military   https://t.co/ovXXgLMNpS\n",
            "1352425044065071105 2021-01-22 01:17:12 +0000 <CAFalk> FBI ups #reward to $75,000 for suspect who placed pipe bombs during #Capitol #riot #SmartNews   https://t.co/IgL1c37rIp\n",
            "1352424725356666880 2021-01-22 01:15:56 +0000 <daniel_kurz> Earlier this mo., #Nevada Assemblywoman Annie Black participated in the #Capitol attack. Traitors like her must be expelled from the halls of gov. I just wrote this letter to one of her counterparts asking for just that.   Treason: NOT a local issue. #Philately #PostboxSaturday  https://t.co/fPZPvDBG7P\n",
            "1352424614018904066 2021-01-22 01:15:29 +0000 <PromoterBoxing> #Facebook Gives #FBI Private Messages Of Users Discussing #Capitol Hill #Riot —Forbes  Amongst the data provided by Facebook were private messages with other users. When one contact told him to stay safe and to be on the lookout for Antifa.   https://t.co/RJFqSiPNrx\n",
            "1352423980838379528 2021-01-22 01:12:58 +0000 <SlBoekbinder> @RepMTG  actual Articles of #impeachment   #Senate #Capitol #CapitolRiots\n",
            "1352423368016846851 2021-01-22 01:10:32 +0000 <JayMidnyte> While the former president was being permanently banned from the #socialmedia platform in the wake of the riot at the U.S. #Capitol, #investors were seeing the value of their holdings shrink.  #Twitter stock is down 12% thus far in 2021.  https://t.co/2cTXOl5gjE\n",
            "1352423249620172801 2021-01-22 01:10:04 +0000 <nola_mba> @bennyjohnson I’m old enough to remember Obama strategically purged the officer ranks via the obscure SES then... Now, #Biden, weaponizing FBI, is purging pro-America foot soldiers... Interesting times ahead! #Military #Capitol #InaugurationDay    https://t.co/Xh0SMVag2G\n",
            "1352422992643551233 2021-01-22 01:09:02 +0000 <daniel_kurz> @AdamMilstein Man, you have got to be zany if you think this is scandalous at all. Trump is literally responsible for the deaths of over 410,000 Americans &amp; a direct attack on our #Capitol. This is just really weak stuff. #Rutgers #PrincetonU #MAGA  https://t.co/50sRl1t4so\n",
            "1352422169331048451 2021-01-22 01:05:46 +0000 <DrRonnesia> Can you imagine storming the #Capitol with your fully grown self not even thinking...I wondered what happens to me, to others, when I, as a mob outgrowth insurrectionist do coup illegal stuff like this. Because if you can imagine...\n",
            "1352421825494581254 2021-01-22 01:04:24 +0000 <Hervorrager> A hunch led to the storming of the #Capitol &amp; to death of 5 people🔥  Claim of #election fraud was based on lies &amp; allegations like #Trump's entire #presidency🎃  #RudyGiuliani Melts Down On Fox &amp; Admits He Has No Election Fraud Evidence  https://t.co/ziMBleIwPS via @politicususa\n",
            "1352421302246764546 2021-01-22 01:02:19 +0000 <Up4Yes> @NMalliotakis Funny @NMalliotakis it seems until yesterday that IS how it worked. What changed since Jan. 20th?  AND agree to disagree respectfully usually doesn't include killing police, smashing windows, stealing computers, trashing the #Capitol. Maybe u shld clean house b4 asking 4 respect.\n",
            "1352420994476961792 2021-01-22 01:01:06 +0000 <ArnePetter5> The media love fest for @JoeBiden has begun. NOW give him the Peace prize.  #usa #Capitol #Biden #trump #Peace\n",
            "1352418963502804993 2021-01-22 00:53:02 +0000 <HammerRagey> How To Win After Trump, Part II: All Politics Are Local   https://t.co/1gpVS3nRWE  #Trump #RepublicansDontCare #Democrats  #organizing #Capitol #CapitolRiots  https://t.co/BR0XiR1STf\n",
            "1352418027116105729 2021-01-22 00:49:19 +0000 <MargueriteEfde> why? #capitol #guardsmen --&gt; #parkinggarage ?\n",
            "1352417340080713728 2021-01-22 00:46:35 +0000 <grtamericanovel> @JRosenworcel @fenrir_71 @POTUS @FCC Congratulations. Pls investigate FoxNews/other RW media for blatant lies #IncitementToInsurrection. Dangerous propaganda is like yelling Fire in a crowd. Was used by Fox et. al to #incite Trumpers to trash #Capitol/kill police/hunt down elected officials. #SeditionHasConsequences\n",
            "1352416870247395331 2021-01-22 00:44:43 +0000 <jjfll> DOJ: 'Zip tie guy' #EricGavelekMunchel and mother, #LisaMarieEisenhart stashed weapons outside #Capitol.  https://t.co/aytNHSV0Yt via @WUSA9\n",
            "1352414429565087745 2021-01-22 00:35:01 +0000 <news_ntd> A #Maryland man who turned himself in with authorities earlier this week after allegedly assaulting law enforcement officers at the U.S. #Capitol on Jan. 6 said he was not there in support of former President Donald #Trump.   https://t.co/D8ky9M40Nu\n",
            "1352414270382718977 2021-01-22 00:34:23 +0000 <dallimore_m> Looks like the white-right is backpeddling hard now that many nof their fellow #Seditionists are being arrested. One exiled #OathKeeper who called for arms at the #Capitol is scared by #FBI arrests. Deterrence works, so #ProsecuteTrump   https://t.co/z55quwxx3h via @thedailybeast\n",
            "1352413923824328704 2021-01-22 00:33:00 +0000 <LaughOutNOW> Listen to \"Get Your Humor High! If Laughter is the Best Medicine? Why aren’t you laughing more? Be a Standup. \" by Grandpa Jim. ⚓  https://t.co/7M7b7PKmEt #uk #london #navy #camp #largo #capitol #rizzo #bryce #miketrout #california #angels #anaheim\n",
            "1352413907550429188 2021-01-22 00:32:56 +0000 <Wish69> @CarlB40 @ABC7Brian @capitalweather Great Capture @CarlB40! 👍🏼📷👍🏼 👍🏼💚👍🏼 #photo  @ABC7Brian @capitalweather #WashingtonDC #Capitol  \\X/ish ;0)\n",
            "1352413130253602816 2021-01-22 00:29:51 +0000 <MuffintopSpeedo> This isn't the kind of email I expected to see from the East High School superintendent in Madison, WI...  #madison #madisonwi #Wisconsin #capitol #news #schools @madisondotcom @channel_3000 @WISCTV_News3 @nbc15_madison @WKOW  https://t.co/7YTYpWSX0o\n",
            "1352412656179634181 2021-01-22 00:27:58 +0000 <GudlaugHawkinso> @ChuckGrassley Waiting for the #GOP to condemn the insurrection on the #Capitol\n",
            "1352411769050902528 2021-01-22 00:24:26 +0000 <stephanie9973> @VoteMarsha You mean the one that he completely ignored #COVID19 used tear gas to get rid of peaceful protestors to hold a bible upside down for a phot op or the insurgency he placed three weeks ago at the #Capitol\n",
            "1352411761559937025 2021-01-22 00:24:25 +0000 <MDAnderson314> @PressSec I am grateful for the regular press briefing you will be holding, and regular briefing on COVID. What I want to see is a regular briefing on the response to the the attack on the #Capitol. When will we hear where things are with investigation and arrests? #CapitolRiots\n",
            "1352410995067641856 2021-01-22 00:21:22 +0000 <cg_curtis> See she is liked playing whack a mole🔨 First she sucks me in liked a blackhole🕳️ Then she storms me liked I am the #Capitol With her #MeToo lies that has left me baffled While she runs off with this guy and cuts her ties Just to stick it to me &amp; get #married to him in a chapel💒  https://t.co/2Y7nJxnVV0\n",
            "1352410787374129153 2021-01-22 00:20:32 +0000 <cg_curtis> See she is liked playing whack a mole🔨 First she sucks me in liked a blackhole🕳️ Then she storms me liked I am the #Capitol With her #MeToo lies that has left me baffled While she runs off with this guy and cuts her ties Just to stick it to me &amp; get #married to him in a chapel💒  https://t.co/aZ0wdE9kaB\n",
            "1352410552006365184 2021-01-22 00:19:36 +0000 <CatsCornerCMari> Nearly 20% of those arrested for their desecration of our #Capitol have served in the military. #ProsecuteTheTraitors #US Military needs to restore respect for this country and its citizens, without bias or racism.   https://t.co/y4dwACIX3u\n",
            "1352410489268154375 2021-01-22 00:19:21 +0000 <pattijo9> @ChangeAbout1 @mcbradoc @SenTedCruz meanwhile it the bowels of the #Capitol .... ping ping ping pingpingping.......got'em got'em got'em\n",
            "1352410126750253056 2021-01-22 00:17:55 +0000 <BackToDecency> @dotjenna @EpochTimes @Parkerlator No, just in prison for your part in trying to overthrow democracy, #CapitolRiots #Capitol #OfficerSicknick #OfficerEugeneGoodman\n",
            "1352408912037703680 2021-01-22 00:13:05 +0000 <HulklingAwYeah> @bad_takes Imagine what #FoxNews they would say about a real things that happened! like the flags from the US #Capitol their loyal viewers and #seditionist #Traitors  threw into the ground to replace it with #Trump flags, or the ones they  used to beat to death #cops and other #Americans.\n",
            "1352408649973510148 2021-01-22 00:12:03 +0000 <CometsMum> “Kennedy doesn’t see the #Capitol rioters as the only symptom, and he doesn’t hold them solely responsible for the country’s current malady. Blame—and, he says, “shame”—also lie with elected leaders who furthered President #DonaldTrump’s efforts to delegitimize the election.”\n",
            "1352408452308623361 2021-01-22 00:11:16 +0000 <avtramontano> ***SUNDAY*** As we come off the events at the #capitol and move into a #Biden #presidency, many questions remain. What is #fascism? How is that connected to what we saw at the capitol? What happens to the right-wing now that Trumps presidency is over?  https://t.co/nSb8T1r9dc\n",
            "1352407347319201797 2021-01-22 00:06:52 +0000 <PressTV> #FBI offers $75,000 reward for #US #Capitol pipe #bomb suspect   https://t.co/Uhcz0TrhUn\n",
            "1352406975896825856 2021-01-22 00:05:24 +0000 <cg_curtis> See she is liked playing whack a mole🔨 First she sucks me in liked a blackhole🕳️ Then she storms me liked I am the #Capitol With her #MeToo lies that has left me baffled While she runs off with this guy and cuts her ties Just to stick it to me &amp; get #married to him in a chapel💒  https://t.co/Pi9fy0hjzj\n",
            "1352406617204129797 2021-01-22 00:03:58 +0000 <BackToDecency> @dotjenna The truth of the matter is that 'Q' doesn't exist; it was a myth to lure idiots and you just happen to be one of many.  You stormed the #Capitol, were sought by the #FBI and now have a court hearing.  No sympathy for you; it's your own doing.\n",
            "1352406412069056518 2021-01-22 00:03:09 +0000 <cg_curtis> See she is liked playing whack a mole🔨 First she sucks me in liked a blackhole🕳️ Then she storms me liked I am the #Capitol With her #MeToo lies that has left me baffled While she runs off with this guy and cuts her ties Just to stick it to me &amp; get #married to him in a chapel💒  https://t.co/ofFRaZ3tvl\n",
            "1352406027329826824 2021-01-22 00:01:38 +0000 <FireAndIce2020> #AlexJones  #Capitol\n",
            "1352405073029193729 2021-01-21 23:57:50 +0000 <supernova7> Former #Marine accused of assaulting officers during #Capitol #riot told #FBI he 'got caught up in the moment'  https://t.co/zLyOpIbVhy | @CNN\n",
            "1352404937557348353 2021-01-21 23:57:18 +0000 <SecretShopper10> #FYI, this is what President #Trump is about, #America. The #democrats are the ones who encouraged #violence &amp; started the riots at the #Capitol when they sent antifa &amp; other goons disguised as conservatives. Everyone knows this. @CNN #cnn @msnbc #msnbc @nytimes #newyorktimes\n",
            "1352403656650313728 2021-01-21 23:52:12 +0000 <FarahGhuznavi> @lotusflowah @pvdeveloper Very well put, thanks for a much-needed laugh! 😄😄😄  You think their #racism stems from their jealousy at not being able to get a proper toasty tan?😉  #CapitolHill #Capitol #CapitolRiots #capitolbreach #CapitolHillRiots #DomesticTerrorists #DomesticTerrorism #DomesticTerrorist\n",
            "1352401845918945281 2021-01-21 23:45:01 +0000 <elephantjournal> Not very #bluelivesmatter #lawandorder of him. \"...arrested a man suspected of using a hockey stick to repeatedly hit police officers during the Jan. 6 #riot at the #Capitol—incl beating one who had already fallen to the ground.\"#capitolriot   https://t.co/WhoJMPd0wW\n",
            "1352401758023110656 2021-01-21 23:44:40 +0000 <PixieHamm> @Sephardi_1492 @CNNPolitics @CNN @FBI @SpeakerPelosi @HouseDemocrats @MSNBC @maddow @JoyAnnReid @morningmika @Morning_Joe @ProjectLincoln Thank you for helping more people see this connection. I’m sure @FBI @FBIWFO &amp; @FBIDenver are all well aware. The more the people know, the louder the outcry will be. And I want her and her gun OUT of the #capitol. @RepBoebert is a national disgrace. #arresther\n",
            "1352398540614610944 2021-01-21 23:31:53 +0000 <Mr_Don_Auto> Why does #TrumpTerrorist #AndyHarris have a gun in the #Capitol?\n",
            "1352398474994708480 2021-01-21 23:31:37 +0000 <arifimimon> Fiiiuuuu !!!! ¿ Alguien recuerda a alguien llamado #Trump ?🤔🤔🤔🤔🙄🙄🙄  #EEUU #USA #JoeBiden #JoeBidenPresident #Washington #WashingtonDC #capitolioeeuu #Capitol  https://t.co/vh9XXE5slv\n",
            "1352397874638811136 2021-01-21 23:29:14 +0000 <underandover99> Holy 💩! Some Trumpists think #Biden is not in the White House but on a film set. It’s both hilarious and disturbing. #CapitolRiot #Capitol   #trump #Inauguration2021 #Inauguration\n",
            "1352397458475782146 2021-01-21 23:27:35 +0000 <Liberal_Forum> #FBI Accuses #capitol Rioters of Conspiracy #politics   https://t.co/O8IpomMI6x\n",
            "1352396440518205448 2021-01-21 23:23:32 +0000 <BackToDecency> @dotjenna @tom40yrs @Inman You weren't 'set up', you went to DC on your own free will; you posted to social media that you and the rest of the mob were going to storm the #Capitol.  You're asking for donations, you've asked for a pardon from Trump that will not be forthcoming.  All of this, is on YOU!\n",
            "1352393953644064770 2021-01-21 23:13:39 +0000 <GouLinton> @ACUConservative what is your position on the attack on the #CapitolRiots and #DonaldTrump and @mschlapp support of the movement that led to the #Capitol attack\n",
            "1352393528362606599 2021-01-21 23:11:58 +0000 <McEwanMorton> US lawmakers ask #FBI to investigate #Parler #app's role in #Capitol #attack  https://t.co/BCJA3l8QOu\n",
            "1352393424524222465 2021-01-21 23:11:33 +0000 <cyberdisruptor> more than one laptop was stolen when #MAGA attacked #capitol during the #attemptedcoup @FBIWFO  https://t.co/iG7LHXKyRi\n",
            "1352392897061130241 2021-01-21 23:09:27 +0000 <2guysdoingapod> The armed protests of the presidential inauguration didn't really go as planned. Chris was disappointed that it didn't happen.. Find out why  Full video:  https://t.co/wxQ5Y3iMvb  #Trump #protests #CapitolRiot #CapitolRiots #Capitol #BreakingNews #BREAKING  https://t.co/O4bmWVi2wA\n",
            "1352392710162952195 2021-01-21 23:08:43 +0000 <KarenJustStop> So, Trump was the performer, the speech was the concert and the fight/shooting was the #CapitolRiots.  Why is he responsible as well as the others that didn't go into the Capitol AND the people that didn't go to DC?  #ImpeachTrump  #BidenCrimeFamilly  #NotMyPresident  #Capitol\n",
            "1352392400350703616 2021-01-21 23:07:29 +0000 <LBoyerNJ> @RepMTG @JoeBiden The #Capitol was attacked by #WhiteSupremacist #DomesticTerrorists, just like you &amp; you helped them. You're #antiAmerican for cheering as they beat #PoliceOfficers &amp; #murdered an #officer. Obviously, you hate #America, you hate #cops &amp; need to be in jail not office. @GOP  #recall\n",
            "1352392359225524225 2021-01-21 23:07:19 +0000 <LBoyerNJ> @RepMTG @JoeBiden The #Capitol was attacked by #WhiteSupremacist #DomesticTerrorists, just like you &amp; you helped them. You're #antiAmerican for cheering as they beat #PoliceOfficers &amp; #murdered an #officer. Obviously, you hate #America, you hate #cops &amp; need to be in jail not office. @GOP  #recall\n",
            "1352392325968896001 2021-01-21 23:07:11 +0000 <LBoyerNJ> @RepMTG @JoeBiden The #Capitol was attacked by #WhiteSupremacist #DomesticTerrorists, just like you &amp; you helped them. You're #antiAmerican for cheering as they beat #PoliceOfficers &amp; #murdered an #officer. Obviously, you hate #America, you hate #cops &amp; need to be in jail not office. @GOP  #recall\n",
            "1352392294683598855 2021-01-21 23:07:03 +0000 <LBoyerNJ> @RepMTG @JoeBiden The #Capitol was attacked by #WhiteSupremacist #DomesticTerrorists, just like you &amp; you helped them. You're #antiAmerican for cheering as they beat #PoliceOfficers &amp; #murdered an #officer. Obviously, you hate #America, you hate #cops &amp; need to be in jail not office. @GOP  #recall\n",
            "1352392261707788288 2021-01-21 23:06:56 +0000 <CJ_Blizzard> More Troops Arrive After Inauguration \"Tribute to our Troops\" - Washingt...  https://t.co/rD7JyQ3RmI via @YouTube  Tribute to the troops.  Please like and subscribe on YouTube. Thanks. #nationalguard #troops #military #capitol #capitolbuilding #inauguration\n",
            "1352391803840978945 2021-01-21 23:05:06 +0000 <KarinDFW> Seriously, why does @RepJasonCrow keep insisting that the Jan 6 #Capitol event was #RACIALLY motivated???  HOW??? Someone please explain that to me.\n",
            "1352391789278334976 2021-01-21 23:05:03 +0000 <BeverlyPress> .@FBI spokeswoman Laura Eimiller said the three @CityofBevHills residents were arrested without incident with the assistance of the @BeverlyHillsPD   #beverlyhills #bevhills #capitol #capitolriot #riot #uscapitol #trump #donaldtrump #crime #bhcrime   https://t.co/H99llHEGCO\n",
            "1352390863104651264 2021-01-21 23:01:22 +0000 <OlimpioRocha50> Bernie defendendo o Capitólio.  Bernie protecting Capitol.   #berniesanders #capitol #campinagrande #washington  https://t.co/omDmTJgETN\n",
            "1352390770049708034 2021-01-21 23:01:00 +0000 <NoOpinionNewsN1> More Troops Arrive After Inauguration \"Tribute to our Troops\" - Washingt...  https://t.co/ePFOWpNtOh via @YouTube  Tribute to the troops.  Please like and subscribe on YouTube. Thanks. #nationalguard #troops #military #capitol #capitolbuilding #inauguration\n",
            "1352390693054869504 2021-01-21 23:00:42 +0000 <AndIWasLike_No> #ghostbusters #muncher #seesomethingsaysomething #capitol #whoyagonnacall  https://t.co/bj1Y5URci4\n",
            "1352390206670987265 2021-01-21 22:58:46 +0000 <dubbs008> Some say that old man @BernieSanders can still be seen sitting in that very spot from inauguration day #Capitol  https://t.co/51Kl95UbMb\n",
            "1352389832576626688 2021-01-21 22:57:16 +0000 <kevinerazocast1> \"Even if you think ...that they’re confused, there are people that populate every gradation of the the ideological spectrum right up to where these insurrectionists exist.\"  Find at @biggerpicmedium on @Medium   https://t.co/JyR8KVZLQ5  #writing #Politics #Capitol #amwriting\n",
            "1352389365016780801 2021-01-21 22:55:25 +0000 <BeverlyPress> .@RepAdamSchiff is looking forward to the new @POTUS @JoeBiden and @VP @KamalaHarris administration.  “[It’s] a chance to turn a corner,” Schiff said.   #inauguration #joebiden #kamalaharris #bidenharris #inaugurationday #riot #capitol #uscapitol #covid19   https://t.co/yqLpstPYnN\n",
            "1352389099211153417 2021-01-21 22:54:22 +0000 <CharlesASumpter> @VoteMarsha Everyday huh? Except on January 6th right?   #CapitolRiot #Capitol #CapitolBuilding\n",
            "1352388789428215820 2021-01-21 22:53:08 +0000 <FlensKorsan> @the_real_urbsi Sie stürmen überfallen #Reichstag  #Bundestag  #Capitol  #Morden #Menschen  #Hanau  #Kassel  #Halle  #Lübeck  #Solingen  #Rostock  #Hoyerswerda  #Rassisten  #Rechtsextreme  #Hannibal  #Reichsbürger  usw usw\n",
            "1352387927742033922 2021-01-21 22:49:42 +0000 <CitizensKnow> @donwinslow How do # Trump's #WhiteSupremacists &amp; other #QAnons feel about his saying he would lead them on the walk to the #Capitol on #January6th, but he didn't &amp; never intended to. The #BigLie. They are going to prison &amp; he's golfing, dining &amp; earning BIG$ in LUXURY at #Mar ALago\n",
            "1352387482550235142 2021-01-21 22:47:56 +0000 <Leos_Dad13> Our new Press Secretary is acting like a high school kid that didn’t prepare for her presentation lol but I’m sure she’ll be pressed by our devoted unbiased press. #Capitol\n",
            "1352387408466223104 2021-01-21 22:47:38 +0000 <CitizensKnow> How do # Trump's #WhiteSupremacists &amp; other #QAnons feel about his saying he would lead them on the walk to the #Capitol on #January6th, but he didn't &amp; never intended to. The #BigLie. They are going to prison &amp; he's golfing, dining &amp; earning BIG$ in LUXURY at #Mar ALago\n",
            "1352387225611341824 2021-01-21 22:46:55 +0000 <deutsch365> ❌❌🇺🇸🇺🇸 Die Straßen sind wieder frei, aber der Zaun um das #Capitol bleibt  https://t.co/KjpNm2vxSD\n",
            "1352386830860247049 2021-01-21 22:45:21 +0000 <RobertEPoplin> The #NationalGuard deployed less than 4.5% of its total forces to The #Capitol to defend it from insurrectionists who were so well-armed that they sold out gun stores for months.  This was the moment so many of you #2A nutjobs were waiting for. Loaded for bear, you wrote farewell\n",
            "1352386742628868098 2021-01-21 22:45:00 +0000 <TPE_connect> 12 National Guardsmen were pulled out of Joe Biden's inauguration for ties with right-wing militia groups, controversial social media posts #NationalGuard #UnitedStates #USA #JoeBiden #WashingtonDC #Capitol  https://t.co/J88WX9oFa3\n",
            "1352386642221273088 2021-01-21 22:44:36 +0000 <esquireattire>  https://t.co/6bxsnrKjGc United States #capitol #whiskey #tumbler Glass Etc  https://t.co/7zdTyEyzln\n",
            "1352386497408864258 2021-01-21 22:44:01 +0000 <SOAR12steps> Listen to: Trump Terror \"How to Heal Your Mental Health Trauma of Him Mocking a Disabled Person and Other of His Traumas!\"   https://t.co/FLzwb0q3mL #uk #london #navy #camp #largo #capitol #rizzo #bryce #miketrout #california #angels #anaheim #minutemen\n",
            "1352386445894430732 2021-01-21 22:43:49 +0000 <babyktchr> People of Georgia. Members of Congress.  I hear-by call for the immediate removal of Marjorie Taylor Greene @RepMTG @mtgreenee from Congress.  She poses a clear and imminent threat to the nation and is overwhelmingly ridiculous.  #MarjorieTaylorGreene #GOPBetrayedAmerica #Capitol\n",
            "1352386044843364353 2021-01-21 22:42:13 +0000 <JeffLeeKCA> #Army now #acknowledges the #brother of #Michael #Flynn was a part of #Army response to #Capitol #riot   https://t.co/2ePxTT3272\n",
            "1352385635412303872 2021-01-21 22:40:36 +0000 <RecallThisBook> We dig deep into the legacy of white supremacy and uneven policing, as we enter a new national chapter  New episode with David Cunningham @DCunningham_STL live   #WhiteSupremacy  #Policing #Capitol #Insurrection   https://t.co/ZweZEbkDwI\n",
            "1352385538326720523 2021-01-21 22:40:13 +0000 <buggerbaby379> @laurenboebert Tick tock tick tock tick tock the FBI will be along shortly to discuss your treasonous acts on the days leading up to the riot. #BoebertIsATraitor #CapitolBuilding #CapitolRiot #Capitol #LaurenBoebertForPrison #Boebert\n",
            "1352384503390621699 2021-01-21 22:36:06 +0000 <DocEFuturePhD> BREAKING NEWS   @BernieSanders pre-inauguration tunes #revealed   #BernieSanders #BREAKING #Inauguration2021 #InaugurationDay #Capitol #BCMG #Honored  https://t.co/ob53YvW1oW\n",
            "1352384008143990788 2021-01-21 22:34:08 +0000 <spiraljettyclub> “The Scream!” #berniesanders #berniememe #mittens #medicareforall #democrats  #capitol #inauguration #feelthebern #feelthebrrrn  https://t.co/jTO7VWxPn0\n",
            "1352383104875425792 2021-01-21 22:30:32 +0000 <Gilliganista> #Capitol #CapitolRiots #capitolbreach #incitementofinsurrection #JAN6  “@POTUS45” #Trump #StopTheSteal #Alexander #Gosar #Biggs #Brooks #SaveAmericaMarch #PAC “#electiondefense” #insurrection #sedition “#weakRepublicans” “#fightlikehell” #Giuliani “#trialbycombat” #impeachment\n",
            "1352382878244622337 2021-01-21 22:29:38 +0000 <JLynnFraser1> \"In the wake of siege on #US #Capitol Jan 6 #America is facing fundamentally imp questions. On Jan 25 panel of experts will focus on causes &amp; consequences of Capitol siege at a Munk School Zoom from 3 – 4 PM ET. Discuss future of American democratic experiment\" #democracy\n",
            "1352381947511672833 2021-01-21 22:25:56 +0000 <CMA_Social> On #donors &amp; #Insurrection - #PeterThiel helped bankroll the #GOP #politicians who incited the #Capitol insurrection.   https://t.co/hypi99vM1P\n",
            "1352381737456840708 2021-01-21 22:25:06 +0000 <mascoofficial> Joe Biden official actions as president For full details visit 👇  https://t.co/NJ61pcSWUn #CapitolRiot #CapitolRiots #AmericaOrTrump #AfterTrump #11thHour #Capitol #14thAmendmentSection3\n",
            "1352381472125153280 2021-01-21 22:24:03 +0000 <sam_oputa>  https://t.co/p1B3be4w7S #Faith #corona #SiguemeYTeSigo #BREAKING #Vtuber #coronavirus  #CoronaVaccine #buyingcontent #liveline  #coronadebat #Coronasverige #COVID19 #Instagram #Warzone #insurrection #lockdown #attackontitan #Capitol #win  #WWENXT #indiedev #INDvsAUS #art #WHO ,/?\n",
            "1352381360745435137 2021-01-21 22:23:37 +0000 <sam_oputa>  https://t.co/p1B3be4w7S #Faith #corona #SiguemeYTeSigo #BREAKING #Vtuber #coronavirus  #CoronaVaccine #buyingcontent #liveline  #coronadebat #Coronasverige #COVID19 #Instagram #Warzone #insurrection #lockdown #attackontitan #Capitol #win  #WWENXT #indiedev #INDvsAUS #art #WHO mn\n",
            "1352381119816196096 2021-01-21 22:22:39 +0000 <LewisCoys> #schoolmemories #tvkantine #Bernie #ThisMorning #Pelosi #14thAmendmentSection3 @Thogden #impeachment #ImpeachedTwice #ConvictAndRemove #JusticeMatters #11thHour #25thAmendment #1776Again #11thHour #Boebert #14thAmendmentSection3 #American #Capitol #CapitolRiot #AliAlexander\n",
            "1352380852404150276 2021-01-21 22:21:35 +0000 <GollingerH> @cbrennansports Frankly, I think it’s shameful that #JackNicklaus, #GaryPlayer and #AnnikaSorenstam are still #Trump supporters after #Trump urged his followers to march to the #Capitol, which ended in chaos and dead bodies.\n",
            "1352380384005283841 2021-01-21 22:19:44 +0000 <terry2279> And eggroll strikes again #HellsKitchen #21ISCOMING #furryart #furry #funny #comedy #WearAMask  #holyshit #OMG #imback #img20plus #WeWantMore #NowPlaying #animation #HelluvaBoss #damn #beautiful #Capitol #Chiefs  https://t.co/vDZzs9V6z0\n",
            "1352379906370408448 2021-01-21 22:17:50 +0000 <EricMannSpeaks> Our New Year's Resolution is a #NewYearsRevolution! Join us tonight for A Night in Conversation with #EricMann, on my most recent article: Dr. #MartinLutherKing's Challenge to the Movement as Fascists Storm the #Capitol.   TONIGHT! 6PM PST RSVP NOW:  https://t.co/B93kIjkSUp  https://t.co/N12RfXFVuP\n",
            "1352379571514048517 2021-01-21 22:16:30 +0000 <Boldcreation> @mattgaetz @laurenboebert Taking the #Insurrectionists on a tour throughout the #Capitol is an act of terrorism. You should shut up about her and be concerned about your role in the insurrection. #ConvictAndRemove #GOPBetrayedAmerica #GOPComplicitTraitors #SeditionHasConsequences  #GOPSeditiousTraitors\n",
            "1352378997406130176 2021-01-21 22:14:13 +0000 <cg_curtis> Frist she sucks me in liked a blackhole🕳️ Then she storms me liked I am the #Capitol With her #MeToo lies that has left me baffled While she runs off with this guy &amp; cuts her ties All just to stick it to me &amp; get #married in a chapel After he had preyed on us liked he is a jackal  https://t.co/gZQVIaGUS0\n",
            "1352378538410864644 2021-01-21 22:12:24 +0000 <terry2279> And eggroll strikes again #HellsKitchen #21ISCOMING #furryart #furry #funny #comedy #WearAMask  #holyshit #OMG #imback #img20plus #WeWantMore #NowPlaying #animation #HelluvaBoss #damn #beautiful #Capitol #Chiefs  https://t.co/kXwMvndmSa\n",
            "1352377629584846849 2021-01-21 22:08:47 +0000 <terry2279> And eggroll strikes again #HellsKitchen #21ISCOMING #furryart #furry #funny #comedy #WearAMask  #holyshit #OMG #imback #img20plus #WeWantMore #NowPlaying #animation #HelluvaBoss #damn #beautiful #Capitol #Chiefs  https://t.co/jkkzt23TgK\n",
            "1352377440434270214 2021-01-21 22:08:02 +0000 <wnctimes> Massachusetts Residents Charged Connection with Capitol Breach  https://t.co/DwQpPlSY7N #capitolbreach #CapitolRiot  #Capitol  #CapitolRiots  #NEWS #PressRelease #insurrection  https://t.co/PRPPtglBu9\n",
            "1352377147327979525 2021-01-21 22:06:52 +0000 <BfloSkyeCat> @France24_en @FRANCE24 @LeParisien_75 Any citizens of Paris want to inform Mr. Cruz on your opinions of the Paris Climate Agreement?  127A Russell Senate Office Building Washington, DC 20510 Capitol Phone: (202) 224-5922 Capitol Fax: (202) 228-0755 #Capitol #ParisClimateAgreement\n",
            "1352376691713318917 2021-01-21 22:05:03 +0000 <ProgressivePol5> Biden has removed Winston Churchill's bust from the Oval office and replaced it with Caesar Chavez's  #Churchill #Chavez #JoeBiden #OvalOffice #Democrats #democracy #InaugurationDay #USA #Capitol    https://t.co/FUfM6B8MFg\n",
            "1352376588562804736 2021-01-21 22:04:39 +0000 <sam_oputa>  https://t.co/p1B3be4w7S #Faith #corona #SiguemeYTeSigo #BREAKING #Vtuber #coronavirus  #CoronaVaccine #buyingcontent #liveline  #coronadebat #Coronasverige #COVID19 #Instagram #Warzone #insurrection #lockdown #attackontitan #Capitol #win  #WWENXT #indiedev #INDvsAUS #art #WHO \\/\n",
            "1352375913397317635 2021-01-21 22:01:58 +0000 <sam_oputa>  https://t.co/p1B3be4w7S #Faith #corona #SiguemeYTeSigo #BREAKING #Vtuber #coronavirus  #CoronaVaccine #buyingcontent #liveline  #coronadebat #Coronasverige #COVID19 #Instagram #Warzone #insurrection #lockdown #attackontitan #Capitol #win  #WWENXT #indiedev #INDvsAUS #art #WHO /\n",
            "1352375655330181121 2021-01-21 22:00:56 +0000 <LoveIrreverence> @ericgarland Uh... ... ... ... ... ... ... ... ... ... ... ...Treason with a Reason?  #CapitolRiots #Capitol #CapitolRiot #Treason #Trump\n",
            "1352374635480936453 2021-01-21 21:56:53 +0000 <Pandadollbaby> @texasdicks @jaketapper @Kathlee64050712 I think we all heard what he said - Something about him being right beside them as the storm the #Capitol\n",
            "1352374054192357380 2021-01-21 21:54:35 +0000 <PatriciaShark11> @IAMISjp @thomaskaine5 So the #TexomaPatriots posted this prior to their caravan to the #capitol for the #CapitolRiots  https://t.co/ONSnzhjOm1\n",
            "1352373677774544903 2021-01-21 21:53:05 +0000 <based_france_> Un homme accusé d'avoir battu des policiers avec une batte lors de Capitol riot a déclaré qu'il n'était pas là \"pour Trump\".  On lui a demandé pourquoi il était là, Jackson a répondu: \"se battre pour L'Amérique.   #Trump #Capitol   https://t.co/V3wI7khjgo\n",
            "1352373435339571207 2021-01-21 21:52:07 +0000 <joursansfin> Sur @France2tv @EnvoyeSpecial   Sur les trumpistes irréductibles  Effrayant, effarant   Le niveau de crétinerie Et de folie hystérique sectaire 🙄  Et 2 activistes qui confirment qu'elles ont envahi #capitol car #trump leur a demandé..  CQFD  🙄🤯\n",
            "1352372793699164165 2021-01-21 21:49:34 +0000 <ExpressNews> BREAKING: Ted Cruz’s objection to Arizona’s electoral votes set the stage for the riot at the U.S. Capitol and future violence, seven Democratic senators say.  📝 @BenjaminEW  #texas #washingtondc #capitol #riot #senate #congress   https://t.co/0aMGdT2X2P\n",
            "1352372786212253698 2021-01-21 21:49:32 +0000 <dcbat> #PresidentBiden #tweeted last week, \"No one can tell me that if it had been a group of #BlackLivesMatter #protestors they wouldn’t have been treated very differently than the #mob that #stormed the #Capitol.\"  Thoughts?\n",
            "1352372464760852480 2021-01-21 21:48:16 +0000 <dokmz> Nearly 1 In 5 Defendants In #Capitol #Riot Cases Served In The #Military - #terror In fact, an NPR analysis has found that nearly 1 in 5 people charged over their alleged involvement in the attack on the U.S. Capitol appear to have a military history  https://t.co/Rdo1sQkvfS\n",
            "1352372457353715717 2021-01-21 21:48:14 +0000 <ProgressivePol5> Marjorie Taylor Greene has filed articles of impeachment against Joe Biden for abuse of power, she said she would do this, before he even took office  #Republican #Congress #Capitol #CapitolBuilding #Trump #ImpeachmentDay #ImpeachedTwice #JoeBiden #USA    https://t.co/dTd1i9SKqi\n",
            "1352371068871323649 2021-01-21 21:42:43 +0000 <zoe92902994> This is going to be a contentious, deliberate vote against the Democrats. 10 Congressmen/Senators were part of the insurgency #Capitol resulting in the violence &amp; death of 6 people including a Capitol Policeman brutally beaten to death with an #AmericanFlag &amp; fire extinguisher.  https://t.co/qqUfAVFytc\n",
            "1352370997303910402 2021-01-21 21:42:26 +0000 <WDMunn> @GarrettHaake @RepAndyBiggsAZ @SpeakerPelosi they’d be arrested by TSA at the airport yet they get away with this at the capitol?  @HouseDemocrats #LaurenBoebert #AndyBiggs #Capitol\n",
            "1352370466862870532 2021-01-21 21:40:19 +0000 <PatriciaShark11> @SenTedCruz You keep failing to represent my views as your constituent.  As a Texan, I wish you would resign.  #ResignTedCruz this transfer of power was NOT peaceful because you assaulted the #capitol on January 6th and we will never forget the #TedCoup !\n",
            "1352369575988514819 2021-01-21 21:36:47 +0000 <JosephSteinberg> Parler Was Hacked. Is Everyone At Risk?    https://t.co/QTCc1oD5CO via @observer #CyberSecurity #InfoSec #Parler #USA #socialmedia #Amazon #Privacy #FirstAmendment #USA #Politics #CapitolRiots #CapitolRiot #Capitol #News #TechNews #API\n",
            "1352368504918446087 2021-01-21 21:32:32 +0000 <realtalktruthD> #Senate #Democrats file ethics complaint against #Hawley, #Cruz over #Capitol attack/ probe whether Hawley and Cruz’s objections to the #ElectoralCollege results violated the chamber’s ethics rules.  https://t.co/RhWJP5N4sG\n",
            "1352366955731279872 2021-01-21 21:26:22 +0000 <mylifeinart> #dietcoke is trending in Matrix 6a with #JoeBiden #Capitol #2for2 #tron  \"It appears US President Biden has removed the red button on the Resolute Desk that former president Trump used to summon a White House butler with a Diet Coke\"  https://t.co/ihxkN0zCgl\n",
            "1352366742144770054 2021-01-21 21:25:31 +0000 <ctadams82> Evidence shows Capitol rioters brutally attacked police with flagpoles, fire extinguishers and fists  https://t.co/Qn1GUhcqb1. #Capitol #January2021 #January6th\n",
            "1352366364296667137 2021-01-21 21:24:01 +0000 <TweedleLeeDee1> Smh, #OMG, #WashingtonDC #coronavirus #Capitol #MAGA #BlackLivesMatter #BlackTwitter\n",
            "1352365913463517185 2021-01-21 21:22:14 +0000 <Gate_15_Analyst> House Oversight Committee chairwoman requests #FBI probe of #Parler, including its role in #Capitol siege  https://t.co/wkQpPnOOaH #protests\n",
            "1352365769380691968 2021-01-21 21:21:39 +0000 <Thischick85> @Katie23626427 @JenDowlingKoin6 @KOINNews Your right! For that matter, show me patriots who beat police officers with the #AmericanFlag on the steps of the U.S. #Capitol\n",
            "1352365016444493827 2021-01-21 21:18:40 +0000 <timgrecco> \"Many Christian leaders and thinkers decried the attack on the #Capitol, but few went as far as Moore; he laid the blame squarely at the feet of a man many #evangelicals believe to be their hero: President #Trump.\"  “This week we watched an insurrection of domestic terrorists.”\n",
            "1352364478101250048 2021-01-21 21:16:31 +0000 <GoddessDawn3> Hey Loves 💕💘 Catch up wit me on Youtube‼️Make sure you’re subscribed too so you get upload and LIVE broadcast notifications—Link below +  in bio‼️ Check me outtttt‼️Sub too 🔔🙏🏽💕💪🏽 🎁🔥🚀  #RKelly #news #trump #capitol #spirituality #tarot #astrology     https://t.co/qY3shC8G0W\n",
            "1352363525331677186 2021-01-21 21:12:44 +0000 <EmilioPradilla> #BiDENSinauguralAddress: \"We #celebrate..the cause of #democracy..where..days ago #violence sought to shake this #Capitol's..#foundations..\"  https://t.co/f7mqq35cGQ\n",
            "1352362338083610624 2021-01-21 21:08:01 +0000 <TenikkaANjax> BREAKING - A local man was arrested for his role in the attack on the #Capitol. @RyanANJax is turning around new info on Bradley Weeks federal court appearance for CBS47 &amp; FOX30 at 5 @ActionNewsJax\n",
            "1352361857831624706 2021-01-21 21:06:07 +0000 <SirDrinkALot666> Capitol Wall Of Death. #Capitol #Riot #CapitolRiots #WallOfDeath #Moshpit #DeathMetal #Deathcore #SlammingDeathMetal #Slamcore #BrutalDeathMetal #Metal #MetalMexa #MexaMetal #MetalMexicano #MetalMexico #Beatdown #Breakdown #Downtemp #Slam #Slamming #Satan #Satanice  https://t.co/k4PyrpOylY\n",
            "1352361856514600967 2021-01-21 21:06:06 +0000 <musiccharles> @VoteMarsha #Trump's most significant \"contribution\" to our country was The #Capitol #insurrection that he instigated. Something you yourself @MarshaBlackburn encouraged with your lies abt the election. Your behavior resulted in deaths. He's also responsible 4 400K+ #Covid19 related deaths.\n",
            "1352360713952620549 2021-01-21 21:01:34 +0000 <PwrChip> 2CPOs #died_defending the #Capitol thus justice must prevail bc they could have been saved. #StaceyPlaskett #RepAOC #HouseDemWomen #SenBrianSchatz #gtconway #digby56 #SpeakerPelosi #RepSherrill #RepMGS  #glennkirschner2 #RepKatiePorter #RepDebHaaland #RepEscobar\n",
            "1352360348263854088 2021-01-21 21:00:07 +0000 <mitsloanexperts> .@sinanaral of @MITSloan and Director of @mit_ide recently went #live with @YahooFinance to explain social media’s role in the #Capitol chaos.  https://t.co/76LNCJHRzV\n",
            "1352358965536051203 2021-01-21 20:54:37 +0000 <BallisBaePod> We talk @JHarden13 and the big ass trade, we talk to @KaranMadhok1 about sending Kyrie to the #Capitol and we wonder if Russ and AI have more in common that we thought before. #Podcast #NBA #BallisBae  https://t.co/zP2XhWDGMb\n",
            "1352358771624841217 2021-01-21 20:53:51 +0000 <goodday6390> “Biggs and other members of his far-right group used radios with earpieces to coordinate “real-time communication” as they smashed their way into the building.” Far-Right Proud Boys Leader Charged  #Capitol #insurrection #Insurrection  https://t.co/AlGevrtH3m via @democracynow\n",
            "1352358222263431181 2021-01-21 20:51:40 +0000 <sundaysociology> \"Our American friends might glean some important lessons from the 2011 Vancouver riot [notably that] the investigation will take time, possibly years\"  #CapitolRiot #CapitolRiots #Capitol #SeditionHunters  @BrandonUni @ASAnews @csa_sociology @jsrailton     https://t.co/CGGmAkbfEA\n",
            "1352355421726650369 2021-01-21 20:40:32 +0000 <2guysdoingapod> Soo.....we have one question.....  Full video:  https://t.co/wxQ5Y3iMvb  #DonaldTrump #TrumpTreason #TrumpCoupAttempt #CapitolRiots #Capitol #protest #guns #NationalGuard #InaugurationDay #BidenTakeAction  https://t.co/u1dLeQ7s5g\n",
            "1352355374888853504 2021-01-21 20:40:21 +0000 <jenkers_en> #Florida authorities arrest man after #Capitol bomb threat  https://t.co/O012nw8hZY  https://t.co/RJU6FEBA3K\n",
            "1352354785547218945 2021-01-21 20:38:01 +0000 <myseachforjoy> @FBIWFO @FBI INSURRECTION  MILITARY COURT TERRORIST - Mike Flynn’s brother helped delay response to the attack on the #Capitol  He should pay reparations to the families of the officers who were murdered or injured by domestic terrorists #CapitolRiots\n",
            "1352354652671651845 2021-01-21 20:37:29 +0000 <Spaceconveyor> What Parler Saw During the Attack on the #Capitol  @propublica reviewed 1000's of videos uploaded publicly to the service that were archived by a programmer before #Parler was taken offline. Here are 500 videos that were taken on Jan. 6.  https://t.co/hvQD06a3n7\n",
            "1352354030681546760 2021-01-21 20:35:01 +0000 <gustave213> @Valeurs @alexdelvalle3 #Erdogan et #Maduro n'ont pas appelé à envahir le #Capitol !!!!!!!!!!!!! mdr CQFD #TrumpCoupAttempt\n",
            "1352352500368683008 2021-01-21 20:28:56 +0000 <tuedaynightlive> @AnotherLibtard First mistake. No felony charges added to the Domestic Terrorist who raided, sought to kidnap, looking at top secret documents and stealing top secret documents and equipment. List goes on, but all they get is charges as if they broke into a candy store. #Capitol #CapitolRiot\n",
            "1352352474527657986 2021-01-21 20:28:50 +0000 <PodcastsNews> @ProjectLincoln 🔴  With no self-pardon in hand, private citizen Trump faces uncertain legal future. https://t.co/RsRvNDYR7p #ResignTedCruz #ResignJoshHawley #impeachment #RemoveTrumpNow #RemoveTrump #SeditiousGOP #DonaldTrump #Washington #DCRIOTS,#capitol,#Pelosi #presidentialpardons #McConnell\n",
            "1352352286215970818 2021-01-21 20:28:05 +0000 <PodcastsNews> @ProjectLincoln 🔴  With no self-pardon in hand, private citizen Trump faces uncertain legal future. https://t.co/RsRvNDYR7p #ResignTedCruz #ResignJoshHawley #impeachment #RemoveTrumpNow #RemoveTrump #SeditiousGOP #DonaldTrump #Washington #DCRIOTS,#capitol,#Pelosi #presidentialpardons #McConnell\n",
            "1352352157174026244 2021-01-21 20:27:34 +0000 <PodcastsNews> @ProjectLincoln 🔴  With no self-pardon in hand, private citizen Trump faces uncertain legal future. https://t.co/RsRvNDYR7p #ResignTedCruz #ResignJoshHawley #impeachment #RemoveTrumpNow #RemoveTrump #SeditiousGOP #DonaldTrump #Washington #DCRIOTS,#capitol,#Pelosi #presidentialpardons #McConnell\n",
            "1352352109916794880 2021-01-21 20:27:23 +0000 <TauratHossain> Is anyone really surprised that the slumlord from Queens who peddled a #healthcare plan never before seen also peddled a nonexistent #covid plan?  It is as unsurprising as requesting your base would beat the shit out of people for years only to have them attack the #capitol.\n",
            "1352351704289857540 2021-01-21 20:25:46 +0000 <PodcastsNews> @ProjectLincoln 🔴  With no self-pardon in hand, private citizen Trump faces uncertain legal future. https://t.co/RsRvNDYR7p #ResignTedCruz #ResignJoshHawley #impeachment #RemoveTrumpNow #RemoveTrump #SeditiousGOP #DonaldTrump #Washington #DCRIOTS,#capitol,#Pelosi #presidentialpardons #McConnell\n",
            "1352351562778222597 2021-01-21 20:25:12 +0000 <PodcastsNews> @ProjectLincoln 🔴  With no self-pardon in hand, private citizen Trump faces uncertain legal future. https://t.co/RsRvNDYR7p #ResignTedCruz #ResignJoshHawley #impeachment #RemoveTrumpNow #RemoveTrump #SeditiousGOP #DonaldTrump #Washington #DCRIOTS,#capitol,#Pelosi #presidentialpardons #McConnell  https://t.co/QRTVL2TK9K\n",
            "1352351494054572032 2021-01-21 20:24:56 +0000 <PodcastsNews> @ProjectLincoln 🔴  With no self-pardon in hand, private citizen Trump faces uncertain legal future. https://t.co/RsRvNDYR7p #ResignTedCruz #ResignJoshHawley #impeachment #RemoveTrumpNow #RemoveTrump #SeditiousGOP #DonaldTrump #Washington #DCRIOTS,#capitol,#Pelosi #presidentialpardons #McConnell  https://t.co/ZlbZuMxQkI\n",
            "1352351407370891265 2021-01-21 20:24:35 +0000 <PodcastsNews> @ProjectLincoln 🔴  With no self-pardon in hand, private citizen Trump faces uncertain legal future. https://t.co/RsRvNDYR7p #ResignTedCruz #ResignJoshHawley #impeachment #RemoveTrumpNow #RemoveTrump #SeditiousGOP #DonaldTrump #Washington #DCRIOTS,#capitol,#Pelosi #presidentialpardons #McConnell\n",
            "1352351267767648257 2021-01-21 20:24:02 +0000 <PodcastsNews> @kaitlancollins 🔴  With no self-pardon in hand, private citizen Trump faces uncertain legal future. https://t.co/RsRvNDYR7p #ResignTedCruz #ResignJoshHawley #impeachment #RemoveTrumpNow #RemoveTrump #SeditiousGOP #DonaldTrump #Washington #DCRIOTS,#capitol,#Pelosi #presidentialpardons #McConnell  https://t.co/aOkmNoXaCz\n",
            "1352351123592671233 2021-01-21 20:23:27 +0000 <PodcastsNews> @ProjectLincoln 🔴  With no self-pardon in hand, private citizen Trump faces uncertain legal future. https://t.co/RsRvNDYR7p #ResignTedCruz #ResignJoshHawley #impeachment #RemoveTrumpNow #RemoveTrump #SeditiousGOP #DonaldTrump #Washington #DCRIOTS,#capitol,#Pelosi #presidentialpardons #McConnell  https://t.co/hSPb0AWcYJ\n",
            "1352350954981642241 2021-01-21 20:22:47 +0000 <PodcastsNews> @DylanByers @NBCNews @POTUS 🔴  With no self-pardon in hand, private citizen Trump faces uncertain legal future. https://t.co/RsRvNDYR7p #ResignTedCruz #ResignJoshHawley #impeachment #RemoveTrumpNow #RemoveTrump #SeditiousGOP #DonaldTrump #Washington #DCRIOTS,#capitol,#Pelosi #presidentialpardons #McConnell  https://t.co/TX7Z6N1h3q\n",
            "1352350879911981058 2021-01-21 20:22:29 +0000 <PodcastsNews> @baratheongirl 🔴  With no self-pardon in hand, private citizen Trump faces uncertain legal future. https://t.co/RsRvNDYR7p #ResignTedCruz #ResignJoshHawley #impeachment #RemoveTrumpNow #RemoveTrump #SeditiousGOP #DonaldTrump #Washington #DCRIOTS,#capitol,#Pelosi #presidentialpardons #McConnell  https://t.co/foGNAZUOCA\n",
            "1352350185733677056 2021-01-21 20:19:44 +0000 <PINME_NOW> 🔴  With no self-pardon in hand, private citizen Trump faces uncertain legal future. https://t.co/h0Td93AlXU #ResignTedCruz #ResignJoshHawley #impeachment #RemoveTrumpNow #RemoveTrump #SeditiousGOP #DonaldTrump #Washington #DCRIOTS,#capitol,#Pelosi #presidentialpardons #McConnell  https://t.co/3DWxBa88aa\n",
            "1352350069475966979 2021-01-21 20:19:16 +0000 <PodcastsNews> 🔴  With no self-pardon in hand, private citizen Trump faces uncertain legal future. https://t.co/RsRvNDYR7p #ResignTedCruz #ResignJoshHawley #impeachment #RemoveTrumpNow #RemoveTrump #SeditiousGOP #DonaldTrump #Washington #DCRIOTS,#capitol,#Pelosi #presidentialpardons #McConnell  https://t.co/kCcvtMXPv3\n",
            "1352350059699036164 2021-01-21 20:19:14 +0000 <Jerusalem_Post> A federal judge on Thursday rejected #Parler's demand that  https://t.co/6K6a0bfVtA Inc restore web hosting services for the social media platform, which #Amazon had cut off following the Jan. 6 storming of the US #Capitol.   https://t.co/0o19KzMlpQ\n",
            "1352348723133689856 2021-01-21 20:13:55 +0000 <sam_oputa>  https://t.co/p1B3be4w7S #Faith #corona #SiguemeYTeSigo #BREAKING #Vtuber #coronavirus  #CoronaVaccine #buyingcontent #liveline  #coronadebat #Coronasverige #COVID19 #Instagram #Warzone #insurrection #lockdown #attackontitan #Capitol #win  #WWENXT #indiedev #INDvsAUS #art #WHO ,.0\n",
            "1352348615818289159 2021-01-21 20:13:30 +0000 <Evenpolitics1> Unlike the previous impeachment which was doomed from the start thanks to the Democrats insistence on witness corroboration, there is no need for evidence for this one as #Trump and his aides basically incited the people to launch an attack on #Capitol Hill.  https://t.co/CKb7Y6OQOC\n",
            "1352348414013542402 2021-01-21 20:12:41 +0000 <utzer> #Crimes The #Capitol Rioters Committed  #US #USA #Trump #Kapitol #insurrection #Insurrection2021  https://t.co/6Y9KPajP4N\n",
            "1352347913851183109 2021-01-21 20:10:42 +0000 <Mahmutz93709263> Donald Trump and his rebellious supporters must be judged.#Capitol #CapitolRiot #CapitolRiots #CapitolHill #Pelosi #Democrats #Biden #SenateMajorityLeaderSchumer\n",
            "1352347779796971527 2021-01-21 20:10:10 +0000 <DemsKeys> Bingo Cards⬇️ 🔵 debt/deficit.  Jan '17 national debt $19.9T Oct '20 national debt 🚀 $27T   That's almost 36% 🆙 in less than 4 years COVID not yet accounted for @SenRickScott 🤥🤦‍♀️  Accountability for Law &amp; Order &amp; the #Capitol Attack  #DemCast #DemCastFL #ONEV1 #JusticeMatters  https://t.co/e8bryuQhcw\n",
            "Anyone else uncomfortable with @GOP nutjobs bringing guns into the #Capitol? I wouldn't trust someone like @laurenboebert or @mtgreenee with a gun around a lawmaker I care about. C'mon, #Congress!\n",
            "@TheView @MeghanMcCain #RepublicanTerrorists attacked OUR #Capitol   Tag who the #terrorist #Republicans are if they don't want to all be labeled #terrorists   .@FriendEden100  .@WiccanMethusela  .@JtOptimist  .@forevercats  .@JIMBO_Biden2020  .@sunny  .@JoyVBehar\n",
            "@Newsweek \"#WhiteHouse Cleanup After Donald #Trump's Departure Cost at Least $127,000. With 132 rooms, 35 bathrooms, 412 doors and 28 fireplaces the #WH is not an easy building to deep-clean\" #Coronavirus #Covid #Melania #Pence #GOP #MAGA #Terrorism #Capitol #Election #USA #Biden #Jill  https://t.co/Syr9nnwo1I\n",
            "The question re #CNN isn't why do the retain viewership,  but the more clinical,  why do they retain any advertisers?  @Adweek #Trump #Biden @GOP #dnc #capitol @MediaBuzzFNC @theMRC @foxbusiness  @fordautoads #Walgreens @cvpayne @MariaBartiromo @wsj @Digiday #GRP #Wallet #hannity\n",
            "You can steal a laptop from the #CapitolRiots and try to sell it to the Russians and get sent home arrest to your mom if you have #WhitePrivilege  Yep 👍🏾 we are not the same.  #Laptop #Capitol\n",
            "Florida man accused of being in #Capitol riots was arrested at the inauguration, Justice Department says   https://t.co/inzjcVVbr0\n",
            "@politico Also concerned if our soldiers can't handle a heated garage in the #capitol, how on earth will they handle going to #war, sleeping in the dirt?\n",
            "@ABC7Brian Great Capture @marthaswilson👍🏼📷👍🏼 👍🏼💚👍🏼  #WashingtonDC #photo #capitol #politics  \\X/ish ;0)\n",
            "Baker County man who recorded himself during failed #SeditiousGOP #Capitol #insurrection now arrested by #FBI  https://t.co/eysQGqAsZP\n",
            "GREAT NEWS !! Another #MAGA #terrorist arrested!! 😎👍 #MAGATerrorist #Sedition #impeach #CapitolRiot #Capitol #terrorist #TrumpInsurrection #TrumpSupporters #TrumpCoupAttempt #BLM #GOP #GOPBetrayedAmerica #SeditionHasConsequences #NoFlyList #capitolbreach #UNMAGA\n",
            "there is no place for armed members, nor insurrectionists, in the #Capitol. @CapitolPolice\n",
            "😳😳SENATORS WITH GUNS? #MAGATerrorist #Sedition #impeach #CapitolRiot #Capitol #terrorist #TrumpInsurrection #TrumpSupporters #TrumpCoupAttempt #BLM #GOP #GOPBetrayedAmerica #SeditionHasConsequences #NoFlyList #capitolbreach #GOPComplicitTraitors #UNMAGA\n",
            "I bet! But, I can tell you 2 things: racist know other racists! Racist hangouts with other racist! I hope I don’t offend  you when I hashtag Black People #BlackPeople #Trump #Whites #Capitol #Biden #1776Report #14thAmendmentSection3 #blacklivesmatter   #Ferguson\n",
            "@freekyleusa I bet! But, I can tell you 2 things: racist know other racists! Racist hangouts with other racist! I hope I don’t offend  you when I hashtag Black People #BlackPeople #Trump #Whites #Capitol #Biden #1776Report #14thAmendmentSection3 #blacklivesmatter  #Ferguson\n",
            "Wixom man charged with attacking officers during failed #SeditiousGOP #insurrection attempt on US #Capitol   https://t.co/0ebZ4om1l0\n",
            "This is heartbreaking! 5000 National Guardsmen were forced to vacate congressional grounds on Thursday and are now taking their rest breaks outside and in nearby parking garages. No internet, one bathroom with two stalls only. #FuckBiden #Capitol   https://t.co/xqBY63juSt\n",
            "There is proof on VIDEO - The #Republican #terrorists in  #Congress who tried to deny a #PresidentialElection &amp; then encouraged a mob to #march to the #Capitol   We saw them try to deny #Election2020\n",
            "@business \"#Trump will be represented at his #impeachment trial by #SC lawyer Butch #Bowers, who’s best known for helping save former governor Mark #Sanford from being removed from office\" #Terrorism #GOP #MAGA #Capitol #Incitement of #Insurrection #Coronavirus #Covid #Election #USA #Biden  https://t.co/HfS3SpqleX\n",
            "THIS IS HOW NANCY PELOSI AND CONGRESS TREAT OUR NATIONS HEROES THAT HEEDED THE CALL AND CAME TO Washington DC TO SECURE THE #CAPITOL: Now they're tossing the #NationalGuard troops aside!   https://t.co/LaoEyYwkzm\n",
            "#Army changes account of key phone call on response to #Capitol riot  https://t.co/UDLo2Nt6Y0  https://t.co/zbFC2SzvWp\n",
            "#Prosecutors released  #conspiracy_charges against #Oath_Keepers  for their #alleged_attack on the #Capitol.   According to charging documents, Oath Keepers—  who count current and #former_law_enforcement and #military_among their #members—used a #walkie_Talkie app.. @DailyBeast_\n",
            "DEMOCRATS GOT THEIR PHOTO OP OF WASHINGTON DC ON LOCKDOWN: \"We Feel Incredibly Betrayed!\" Congress is forcing the #NationalGuard out of areas where they were set up. Often without notice. Thousands of Guardsmen forced to vacate #Capitol!  https://t.co/K42iLwUzZO\n",
            "Dear Republicans, If you want us to take you seriously, renounce your party affiliation now. The leader of your party coordinated a deadly armed insurrection that damaged our #Capitol.  Otherwise, your words mean nothing. Sincerely, Everybody in America  #Rutgers #PrincetonU\n",
            "@ThomasSowell So true. You hear the same thing over and over again and you start believing it Unfortunately. As we have with people drinking the dem koolaid   https://t.co/XEyMp1QODV #capitol #trump #biden #fbi #impeachment #unity ❗ 🗣 🛏  https://t.co/CiNLK6SFre\n",
            "#DemocratsAreDestroyingAmerica  #pathetic #americalast #nationalguard #capitol\n",
            "You, @NMalliotakis spread the #BigLie that gave comfort to the violent #insurrectionists at the #Capitol. You’re a disgrace &amp; should be expelled.\n",
            "SUPPORT OUR POLITICAL PRISONERS HELD BY THE FBI  Tomorrow it may be you.  #Capitol #Protest\n",
            "Holy shite!!! I knew these people were out of their minds but...WOW!   #QAnonCult  #QAnonmeltdown #Q #TrumpCult #Trump #CapitolRiot #Capitol #GOPComplicitTraitors #GOP #Parler\n",
            "By the power of editing, I compiled everything I saw in my feed during the #Storming of the #Capitol ⚡️ 🍿🍿👇  https://t.co/YCREZBAr9l  https://t.co/jud5ZRiQ1i\n",
            "#Capitol #Hill Security #Failures: Heads To Roll? 68 #Attackers Arrested Orderly #Transition Of Power: President #Trump e Scheme Against Medicare #Casino #Boss #Sheldon #Adelson Dead At 87: Major #GOP #Supporter Trump Rejects Responsibility For #Riots #  https://t.co/LDg3C2N7Ha\n",
            "TBT, United States Capitol, Washington #tbt #me #memories #capitol #capitolio #washington #usa #unforgettable #amazing #pic #photography #followme #luchin482014 en United States Capitol  https://t.co/Vinroj2jKm\n",
            "Rep Malliotakis actions gave aid &amp; comfort to our enemy who stormed our #Capitol. She is just as guilty as the rest of the traitorous #seditionists..  She should be expelled. @NMalliotakis @Pelosi @SenSchumer\n",
            "@nytimes \"Many types of Republicans — from 'Never Trumpers' to those derided as 'Republicans in name only' — are jostling for the future of their party after former President #Trump's departure from the #WhiteHouse\"  #Capitol #Terrorism #GOP #MAGA #Pence #Pelosi #Election #USA #Biden  https://t.co/uhtjHHVZHl\n",
            "@ChuckGrassley Oh!!! Chuck... Nice try... W. the #Capitol, we are talking abt @GOP #DomesticTerrorism!!!!\n",
            "'We feel incredibly betrayed': Thousands of #Guardsmen forced to vacate #Capitol.    Thanks #Biden!    https://t.co/YYtMYauUbb via @politico\n",
            "@SenTedCruz PEACEFUL?  YOU LOUSY #SEDITIOUS SNAKE.  We will NEVER FORGET what you did. We will NEVER FORGET the part YOU played in the #SIEGE on our nation’s #CAPITOL, in the #MURDER of a police officer.  Run &amp; Hide, you #TRAITOR. Better yet, #RESIGN.\n",
            "Most definitely, someone needs to get to the bottom of the #GOPComplicitTraitors swamp. #LockThemUp with #trump and his #insurrection on the United States #Capitol\n",
            " https://t.co/p1B3be4w7S #Faith #corona #SiguemeYTeSigo #BREAKING #Vtuber #coronavirus  #CoronaVaccine #buyingcontent #liveline  #coronadebat #Coronasverige #COVID19 #Instagram #Warzone #insurrection #lockdown #attackontitan #Capitol #win  #WWENXT #indiedev #INDvsAUS #art #WHO nk\n",
            "'We feel incredibly betrayed': Thousands of Guardsmen forced to vacate #Capitol   https://t.co/O7eVqCPWsb via @politico\n",
            "Nearly 1 in 5 defendants in #Capitol riot cases served in the military   https://t.co/ovXXgLMNpS\n",
            "FBI ups #reward to $75,000 for suspect who placed pipe bombs during #Capitol #riot #SmartNews   https://t.co/IgL1c37rIp\n",
            "Earlier this mo., #Nevada Assemblywoman Annie Black participated in the #Capitol attack. Traitors like her must be expelled from the halls of gov. I just wrote this letter to one of her counterparts asking for just that.   Treason: NOT a local issue. #Philately #PostboxSaturday  https://t.co/fPZPvDBG7P\n",
            "#Facebook Gives #FBI Private Messages Of Users Discussing #Capitol Hill #Riot —Forbes  Amongst the data provided by Facebook were private messages with other users. When one contact told him to stay safe and to be on the lookout for Antifa.   https://t.co/RJFqSiPNrx\n",
            "@RepMTG  actual Articles of #impeachment   #Senate #Capitol #CapitolRiots\n",
            "While the former president was being permanently banned from the #socialmedia platform in the wake of the riot at the U.S. #Capitol, #investors were seeing the value of their holdings shrink.  #Twitter stock is down 12% thus far in 2021.  https://t.co/2cTXOl5gjE\n",
            "@bennyjohnson I’m old enough to remember Obama strategically purged the officer ranks via the obscure SES then... Now, #Biden, weaponizing FBI, is purging pro-America foot soldiers... Interesting times ahead! #Military #Capitol #InaugurationDay    https://t.co/Xh0SMVag2G\n",
            "@AdamMilstein Man, you have got to be zany if you think this is scandalous at all. Trump is literally responsible for the deaths of over 410,000 Americans &amp; a direct attack on our #Capitol. This is just really weak stuff. #Rutgers #PrincetonU #MAGA  https://t.co/50sRl1t4so\n",
            "Can you imagine storming the #Capitol with your fully grown self not even thinking...I wondered what happens to me, to others, when I, as a mob outgrowth insurrectionist do coup illegal stuff like this. Because if you can imagine...\n",
            "A hunch led to the storming of the #Capitol &amp; to death of 5 people🔥  Claim of #election fraud was based on lies &amp; allegations like #Trump's entire #presidency🎃  #RudyGiuliani Melts Down On Fox &amp; Admits He Has No Election Fraud Evidence  https://t.co/ziMBleIwPS via @politicususa\n",
            "@NMalliotakis Funny @NMalliotakis it seems until yesterday that IS how it worked. What changed since Jan. 20th?  AND agree to disagree respectfully usually doesn't include killing police, smashing windows, stealing computers, trashing the #Capitol. Maybe u shld clean house b4 asking 4 respect.\n",
            "The media love fest for @JoeBiden has begun. NOW give him the Peace prize.  #usa #Capitol #Biden #trump #Peace\n",
            "How To Win After Trump, Part II: All Politics Are Local   https://t.co/1gpVS3nRWE  #Trump #RepublicansDontCare #Democrats  #organizing #Capitol #CapitolRiots  https://t.co/BR0XiR1STf\n",
            "@JRosenworcel @fenrir_71 @POTUS @FCC Congratulations. Pls investigate FoxNews/other RW media for blatant lies #IncitementToInsurrection. Dangerous propaganda is like yelling Fire in a crowd. Was used by Fox et. al to #incite Trumpers to trash #Capitol/kill police/hunt down elected officials. #SeditionHasConsequences\n",
            "DOJ: 'Zip tie guy' #EricGavelekMunchel and mother, #LisaMarieEisenhart stashed weapons outside #Capitol.  https://t.co/aytNHSV0Yt via @WUSA9\n",
            "A #Maryland man who turned himself in with authorities earlier this week after allegedly assaulting law enforcement officers at the U.S. #Capitol on Jan. 6 said he was not there in support of former President Donald #Trump.   https://t.co/D8ky9M40Nu\n",
            "Looks like the white-right is backpeddling hard now that many nof their fellow #Seditionists are being arrested. One exiled #OathKeeper who called for arms at the #Capitol is scared by #FBI arrests. Deterrence works, so #ProsecuteTrump   https://t.co/z55quwxx3h via @thedailybeast\n",
            "Listen to \"Get Your Humor High! If Laughter is the Best Medicine? Why aren’t you laughing more? Be a Standup. \" by Grandpa Jim. ⚓  https://t.co/7M7b7PKmEt #uk #london #navy #camp #largo #capitol #rizzo #bryce #miketrout #california #angels #anaheim\n",
            "@CarlB40 @ABC7Brian @capitalweather Great Capture @CarlB40! 👍🏼📷👍🏼 👍🏼💚👍🏼 #photo  @ABC7Brian @capitalweather #WashingtonDC #Capitol  \\X/ish ;0)\n",
            "This isn't the kind of email I expected to see from the East High School superintendent in Madison, WI...  #madison #madisonwi #Wisconsin #capitol #news #schools @madisondotcom @channel_3000 @WISCTV_News3 @nbc15_madison @WKOW  https://t.co/7YTYpWSX0o\n",
            "@ChuckGrassley Waiting for the #GOP to condemn the insurrection on the #Capitol\n",
            "@VoteMarsha You mean the one that he completely ignored #COVID19 used tear gas to get rid of peaceful protestors to hold a bible upside down for a phot op or the insurgency he placed three weeks ago at the #Capitol\n",
            "@PressSec I am grateful for the regular press briefing you will be holding, and regular briefing on COVID. What I want to see is a regular briefing on the response to the the attack on the #Capitol. When will we hear where things are with investigation and arrests? #CapitolRiots\n",
            "See she is liked playing whack a mole🔨 First she sucks me in liked a blackhole🕳️ Then she storms me liked I am the #Capitol With her #MeToo lies that has left me baffled While she runs off with this guy and cuts her ties Just to stick it to me &amp; get #married to him in a chapel💒  https://t.co/2Y7nJxnVV0\n",
            "See she is liked playing whack a mole🔨 First she sucks me in liked a blackhole🕳️ Then she storms me liked I am the #Capitol With her #MeToo lies that has left me baffled While she runs off with this guy and cuts her ties Just to stick it to me &amp; get #married to him in a chapel💒  https://t.co/aZ0wdE9kaB\n",
            "Nearly 20% of those arrested for their desecration of our #Capitol have served in the military. #ProsecuteTheTraitors #US Military needs to restore respect for this country and its citizens, without bias or racism.   https://t.co/y4dwACIX3u\n",
            "@ChangeAbout1 @mcbradoc @SenTedCruz meanwhile it the bowels of the #Capitol .... ping ping ping pingpingping.......got'em got'em got'em\n",
            "@dotjenna @EpochTimes @Parkerlator No, just in prison for your part in trying to overthrow democracy, #CapitolRiots #Capitol #OfficerSicknick #OfficerEugeneGoodman\n",
            "@bad_takes Imagine what #FoxNews they would say about a real things that happened! like the flags from the US #Capitol their loyal viewers and #seditionist #Traitors  threw into the ground to replace it with #Trump flags, or the ones they  used to beat to death #cops and other #Americans.\n",
            "“Kennedy doesn’t see the #Capitol rioters as the only symptom, and he doesn’t hold them solely responsible for the country’s current malady. Blame—and, he says, “shame”—also lie with elected leaders who furthered President #DonaldTrump’s efforts to delegitimize the election.”\n",
            "***SUNDAY*** As we come off the events at the #capitol and move into a #Biden #presidency, many questions remain. What is #fascism? How is that connected to what we saw at the capitol? What happens to the right-wing now that Trumps presidency is over?  https://t.co/nSb8T1r9dc\n",
            "#FBI offers $75,000 reward for #US #Capitol pipe #bomb suspect   https://t.co/Uhcz0TrhUn\n",
            "See she is liked playing whack a mole🔨 First she sucks me in liked a blackhole🕳️ Then she storms me liked I am the #Capitol With her #MeToo lies that has left me baffled While she runs off with this guy and cuts her ties Just to stick it to me &amp; get #married to him in a chapel💒  https://t.co/Pi9fy0hjzj\n",
            "@dotjenna The truth of the matter is that 'Q' doesn't exist; it was a myth to lure idiots and you just happen to be one of many.  You stormed the #Capitol, were sought by the #FBI and now have a court hearing.  No sympathy for you; it's your own doing.\n",
            "See she is liked playing whack a mole🔨 First she sucks me in liked a blackhole🕳️ Then she storms me liked I am the #Capitol With her #MeToo lies that has left me baffled While she runs off with this guy and cuts her ties Just to stick it to me &amp; get #married to him in a chapel💒  https://t.co/ofFRaZ3tvl\n",
            "Former #Marine accused of assaulting officers during #Capitol #riot told #FBI he 'got caught up in the moment'  https://t.co/zLyOpIbVhy | @CNN\n",
            "#FYI, this is what President #Trump is about, #America. The #democrats are the ones who encouraged #violence &amp; started the riots at the #Capitol when they sent antifa &amp; other goons disguised as conservatives. Everyone knows this. @CNN #cnn @msnbc #msnbc @nytimes #newyorktimes\n",
            "@lotusflowah @pvdeveloper Very well put, thanks for a much-needed laugh! 😄😄😄  You think their #racism stems from their jealousy at not being able to get a proper toasty tan?😉  #CapitolHill #Capitol #CapitolRiots #capitolbreach #CapitolHillRiots #DomesticTerrorists #DomesticTerrorism #DomesticTerrorist\n",
            "Not very #bluelivesmatter #lawandorder of him. \"...arrested a man suspected of using a hockey stick to repeatedly hit police officers during the Jan. 6 #riot at the #Capitol—incl beating one who had already fallen to the ground.\"#capitolriot   https://t.co/WhoJMPd0wW\n",
            "@Sephardi_1492 @CNNPolitics @CNN @FBI @SpeakerPelosi @HouseDemocrats @MSNBC @maddow @JoyAnnReid @morningmika @Morning_Joe @ProjectLincoln Thank you for helping more people see this connection. I’m sure @FBI @FBIWFO &amp; @FBIDenver are all well aware. The more the people know, the louder the outcry will be. And I want her and her gun OUT of the #capitol. @RepBoebert is a national disgrace. #arresther\n",
            "Why does #TrumpTerrorist #AndyHarris have a gun in the #Capitol?\n",
            "Holy 💩! Some Trumpists think #Biden is not in the White House but on a film set. It’s both hilarious and disturbing. #CapitolRiot #Capitol   #trump #Inauguration2021 #Inauguration\n",
            "#FBI Accuses #capitol Rioters of Conspiracy #politics   https://t.co/O8IpomMI6x\n",
            "@dotjenna @tom40yrs @Inman You weren't 'set up', you went to DC on your own free will; you posted to social media that you and the rest of the mob were going to storm the #Capitol.  You're asking for donations, you've asked for a pardon from Trump that will not be forthcoming.  All of this, is on YOU!\n",
            "@ACUConservative what is your position on the attack on the #CapitolRiots and #DonaldTrump and @mschlapp support of the movement that led to the #Capitol attack\n",
            "US lawmakers ask #FBI to investigate #Parler #app's role in #Capitol #attack  https://t.co/BCJA3l8QOu\n",
            "more than one laptop was stolen when #MAGA attacked #capitol during the #attemptedcoup @FBIWFO  https://t.co/iG7LHXKyRi\n",
            "The armed protests of the presidential inauguration didn't really go as planned. Chris was disappointed that it didn't happen.. Find out why  Full video:  https://t.co/wxQ5Y3iMvb  #Trump #protests #CapitolRiot #CapitolRiots #Capitol #BreakingNews #BREAKING  https://t.co/O4bmWVi2wA\n",
            "So, Trump was the performer, the speech was the concert and the fight/shooting was the #CapitolRiots.  Why is he responsible as well as the others that didn't go into the Capitol AND the people that didn't go to DC?  #ImpeachTrump  #BidenCrimeFamilly  #NotMyPresident  #Capitol\n",
            "@RepMTG @JoeBiden The #Capitol was attacked by #WhiteSupremacist #DomesticTerrorists, just like you &amp; you helped them. You're #antiAmerican for cheering as they beat #PoliceOfficers &amp; #murdered an #officer. Obviously, you hate #America, you hate #cops &amp; need to be in jail not office. @GOP  #recall\n",
            "@RepMTG @JoeBiden The #Capitol was attacked by #WhiteSupremacist #DomesticTerrorists, just like you &amp; you helped them. You're #antiAmerican for cheering as they beat #PoliceOfficers &amp; #murdered an #officer. Obviously, you hate #America, you hate #cops &amp; need to be in jail not office. @GOP  #recall\n",
            "@RepMTG @JoeBiden The #Capitol was attacked by #WhiteSupremacist #DomesticTerrorists, just like you &amp; you helped them. You're #antiAmerican for cheering as they beat #PoliceOfficers &amp; #murdered an #officer. Obviously, you hate #America, you hate #cops &amp; need to be in jail not office. @GOP  #recall\n",
            "@RepMTG @JoeBiden The #Capitol was attacked by #WhiteSupremacist #DomesticTerrorists, just like you &amp; you helped them. You're #antiAmerican for cheering as they beat #PoliceOfficers &amp; #murdered an #officer. Obviously, you hate #America, you hate #cops &amp; need to be in jail not office. @GOP  #recall\n",
            "More Troops Arrive After Inauguration \"Tribute to our Troops\" - Washingt...  https://t.co/rD7JyQ3RmI via @YouTube  Tribute to the troops.  Please like and subscribe on YouTube. Thanks. #nationalguard #troops #military #capitol #capitolbuilding #inauguration\n",
            "Seriously, why does @RepJasonCrow keep insisting that the Jan 6 #Capitol event was #RACIALLY motivated???  HOW??? Someone please explain that to me.\n",
            ".@FBI spokeswoman Laura Eimiller said the three @CityofBevHills residents were arrested without incident with the assistance of the @BeverlyHillsPD   #beverlyhills #bevhills #capitol #capitolriot #riot #uscapitol #trump #donaldtrump #crime #bhcrime   https://t.co/H99llHEGCO\n",
            "Bernie defendendo o Capitólio.  Bernie protecting Capitol.   #berniesanders #capitol #campinagrande #washington  https://t.co/omDmTJgETN\n",
            "More Troops Arrive After Inauguration \"Tribute to our Troops\" - Washingt...  https://t.co/ePFOWpNtOh via @YouTube  Tribute to the troops.  Please like and subscribe on YouTube. Thanks. #nationalguard #troops #military #capitol #capitolbuilding #inauguration\n",
            "#ghostbusters #muncher #seesomethingsaysomething #capitol #whoyagonnacall  https://t.co/bj1Y5URci4\n",
            "Some say that old man @BernieSanders can still be seen sitting in that very spot from inauguration day #Capitol  https://t.co/51Kl95UbMb\n",
            "\"Even if you think ...that they’re confused, there are people that populate every gradation of the the ideological spectrum right up to where these insurrectionists exist.\"  Find at @biggerpicmedium on @Medium   https://t.co/JyR8KVZLQ5  #writing #Politics #Capitol #amwriting\n",
            ".@RepAdamSchiff is looking forward to the new @POTUS @JoeBiden and @VP @KamalaHarris administration.  “[It’s] a chance to turn a corner,” Schiff said.   #inauguration #joebiden #kamalaharris #bidenharris #inaugurationday #riot #capitol #uscapitol #covid19   https://t.co/yqLpstPYnN\n",
            "@VoteMarsha Everyday huh? Except on January 6th right?   #CapitolRiot #Capitol #CapitolBuilding\n",
            "@donwinslow How do # Trump's #WhiteSupremacists &amp; other #QAnons feel about his saying he would lead them on the walk to the #Capitol on #January6th, but he didn't &amp; never intended to. The #BigLie. They are going to prison &amp; he's golfing, dining &amp; earning BIG$ in LUXURY at #Mar ALago\n",
            "Our new Press Secretary is acting like a high school kid that didn’t prepare for her presentation lol but I’m sure she’ll be pressed by our devoted unbiased press. #Capitol\n",
            "How do # Trump's #WhiteSupremacists &amp; other #QAnons feel about his saying he would lead them on the walk to the #Capitol on #January6th, but he didn't &amp; never intended to. The #BigLie. They are going to prison &amp; he's golfing, dining &amp; earning BIG$ in LUXURY at #Mar ALago\n",
            "The #NationalGuard deployed less than 4.5% of its total forces to The #Capitol to defend it from insurrectionists who were so well-armed that they sold out gun stores for months.  This was the moment so many of you #2A nutjobs were waiting for. Loaded for bear, you wrote farewell\n",
            "12 National Guardsmen were pulled out of Joe Biden's inauguration for ties with right-wing militia groups, controversial social media posts #NationalGuard #UnitedStates #USA #JoeBiden #WashingtonDC #Capitol  https://t.co/J88WX9oFa3\n",
            " https://t.co/6bxsnrKjGc United States #capitol #whiskey #tumbler Glass Etc  https://t.co/7zdTyEyzln\n",
            "Listen to: Trump Terror \"How to Heal Your Mental Health Trauma of Him Mocking a Disabled Person and Other of His Traumas!\"   https://t.co/FLzwb0q3mL #uk #london #navy #camp #largo #capitol #rizzo #bryce #miketrout #california #angels #anaheim #minutemen\n",
            "People of Georgia. Members of Congress.  I hear-by call for the immediate removal of Marjorie Taylor Greene @RepMTG @mtgreenee from Congress.  She poses a clear and imminent threat to the nation and is overwhelmingly ridiculous.  #MarjorieTaylorGreene #GOPBetrayedAmerica #Capitol\n",
            "#Army now #acknowledges the #brother of #Michael #Flynn was a part of #Army response to #Capitol #riot   https://t.co/2ePxTT3272\n",
            "We dig deep into the legacy of white supremacy and uneven policing, as we enter a new national chapter  New episode with David Cunningham @DCunningham_STL live   #WhiteSupremacy  #Policing #Capitol #Insurrection   https://t.co/ZweZEbkDwI\n",
            "@laurenboebert Tick tock tick tock tick tock the FBI will be along shortly to discuss your treasonous acts on the days leading up to the riot. #BoebertIsATraitor #CapitolBuilding #CapitolRiot #Capitol #LaurenBoebertForPrison #Boebert\n",
            "BREAKING NEWS   @BernieSanders pre-inauguration tunes #revealed   #BernieSanders #BREAKING #Inauguration2021 #InaugurationDay #Capitol #BCMG #Honored  https://t.co/ob53YvW1oW\n",
            "“The Scream!” #berniesanders #berniememe #mittens #medicareforall #democrats  #capitol #inauguration #feelthebern #feelthebrrrn  https://t.co/jTO7VWxPn0\n",
            "#Capitol #CapitolRiots #capitolbreach #incitementofinsurrection #JAN6  “@POTUS45” #Trump #StopTheSteal #Alexander #Gosar #Biggs #Brooks #SaveAmericaMarch #PAC “#electiondefense” #insurrection #sedition “#weakRepublicans” “#fightlikehell” #Giuliani “#trialbycombat” #impeachment\n",
            "\"In the wake of siege on #US #Capitol Jan 6 #America is facing fundamentally imp questions. On Jan 25 panel of experts will focus on causes &amp; consequences of Capitol siege at a Munk School Zoom from 3 – 4 PM ET. Discuss future of American democratic experiment\" #democracy\n",
            "On #donors &amp; #Insurrection - #PeterThiel helped bankroll the #GOP #politicians who incited the #Capitol insurrection.   https://t.co/hypi99vM1P\n",
            "Joe Biden official actions as president For full details visit 👇  https://t.co/NJ61pcSWUn #CapitolRiot #CapitolRiots #AmericaOrTrump #AfterTrump #11thHour #Capitol #14thAmendmentSection3\n",
            " https://t.co/p1B3be4w7S #Faith #corona #SiguemeYTeSigo #BREAKING #Vtuber #coronavirus  #CoronaVaccine #buyingcontent #liveline  #coronadebat #Coronasverige #COVID19 #Instagram #Warzone #insurrection #lockdown #attackontitan #Capitol #win  #WWENXT #indiedev #INDvsAUS #art #WHO ,/?\n",
            " https://t.co/p1B3be4w7S #Faith #corona #SiguemeYTeSigo #BREAKING #Vtuber #coronavirus  #CoronaVaccine #buyingcontent #liveline  #coronadebat #Coronasverige #COVID19 #Instagram #Warzone #insurrection #lockdown #attackontitan #Capitol #win  #WWENXT #indiedev #INDvsAUS #art #WHO mn\n",
            "#schoolmemories #tvkantine #Bernie #ThisMorning #Pelosi #14thAmendmentSection3 @Thogden #impeachment #ImpeachedTwice #ConvictAndRemove #JusticeMatters #11thHour #25thAmendment #1776Again #11thHour #Boebert #14thAmendmentSection3 #American #Capitol #CapitolRiot #AliAlexander\n",
            "@cbrennansports Frankly, I think it’s shameful that #JackNicklaus, #GaryPlayer and #AnnikaSorenstam are still #Trump supporters after #Trump urged his followers to march to the #Capitol, which ended in chaos and dead bodies.\n",
            "And eggroll strikes again #HellsKitchen #21ISCOMING #furryart #furry #funny #comedy #WearAMask  #holyshit #OMG #imback #img20plus #WeWantMore #NowPlaying #animation #HelluvaBoss #damn #beautiful #Capitol #Chiefs  https://t.co/vDZzs9V6z0\n",
            "Our New Year's Resolution is a #NewYearsRevolution! Join us tonight for A Night in Conversation with #EricMann, on my most recent article: Dr. #MartinLutherKing's Challenge to the Movement as Fascists Storm the #Capitol.   TONIGHT! 6PM PST RSVP NOW:  https://t.co/B93kIjkSUp  https://t.co/N12RfXFVuP\n",
            "@mattgaetz @laurenboebert Taking the #Insurrectionists on a tour throughout the #Capitol is an act of terrorism. You should shut up about her and be concerned about your role in the insurrection. #ConvictAndRemove #GOPBetrayedAmerica #GOPComplicitTraitors #SeditionHasConsequences  #GOPSeditiousTraitors\n",
            "Frist she sucks me in liked a blackhole🕳️ Then she storms me liked I am the #Capitol With her #MeToo lies that has left me baffled While she runs off with this guy &amp; cuts her ties All just to stick it to me &amp; get #married in a chapel After he had preyed on us liked he is a jackal  https://t.co/gZQVIaGUS0\n",
            "And eggroll strikes again #HellsKitchen #21ISCOMING #furryart #furry #funny #comedy #WearAMask  #holyshit #OMG #imback #img20plus #WeWantMore #NowPlaying #animation #HelluvaBoss #damn #beautiful #Capitol #Chiefs  https://t.co/kXwMvndmSa\n",
            "And eggroll strikes again #HellsKitchen #21ISCOMING #furryart #furry #funny #comedy #WearAMask  #holyshit #OMG #imback #img20plus #WeWantMore #NowPlaying #animation #HelluvaBoss #damn #beautiful #Capitol #Chiefs  https://t.co/jkkzt23TgK\n",
            "Massachusetts Residents Charged Connection with Capitol Breach  https://t.co/DwQpPlSY7N #capitolbreach #CapitolRiot  #Capitol  #CapitolRiots  #NEWS #PressRelease #insurrection  https://t.co/PRPPtglBu9\n",
            "@France24_en @FRANCE24 @LeParisien_75 Any citizens of Paris want to inform Mr. Cruz on your opinions of the Paris Climate Agreement?  127A Russell Senate Office Building Washington, DC 20510 Capitol Phone: (202) 224-5922 Capitol Fax: (202) 228-0755 #Capitol #ParisClimateAgreement\n",
            "Biden has removed Winston Churchill's bust from the Oval office and replaced it with Caesar Chavez's  #Churchill #Chavez #JoeBiden #OvalOffice #Democrats #democracy #InaugurationDay #USA #Capitol    https://t.co/FUfM6B8MFg\n",
            " https://t.co/p1B3be4w7S #Faith #corona #SiguemeYTeSigo #BREAKING #Vtuber #coronavirus  #CoronaVaccine #buyingcontent #liveline  #coronadebat #Coronasverige #COVID19 #Instagram #Warzone #insurrection #lockdown #attackontitan #Capitol #win  #WWENXT #indiedev #INDvsAUS #art #WHO \\/\n",
            " https://t.co/p1B3be4w7S #Faith #corona #SiguemeYTeSigo #BREAKING #Vtuber #coronavirus  #CoronaVaccine #buyingcontent #liveline  #coronadebat #Coronasverige #COVID19 #Instagram #Warzone #insurrection #lockdown #attackontitan #Capitol #win  #WWENXT #indiedev #INDvsAUS #art #WHO /\n",
            "@ericgarland Uh... ... ... ... ... ... ... ... ... ... ... ...Treason with a Reason?  #CapitolRiots #Capitol #CapitolRiot #Treason #Trump\n",
            "@texasdicks @jaketapper @Kathlee64050712 I think we all heard what he said - Something about him being right beside them as the storm the #Capitol\n",
            "@IAMISjp @thomaskaine5 So the #TexomaPatriots posted this prior to their caravan to the #capitol for the #CapitolRiots  https://t.co/ONSnzhjOm1\n",
            "BREAKING: Ted Cruz’s objection to Arizona’s electoral votes set the stage for the riot at the U.S. Capitol and future violence, seven Democratic senators say.  📝 @BenjaminEW  #texas #washingtondc #capitol #riot #senate #congress   https://t.co/0aMGdT2X2P\n",
            "#PresidentBiden #tweeted last week, \"No one can tell me that if it had been a group of #BlackLivesMatter #protestors they wouldn’t have been treated very differently than the #mob that #stormed the #Capitol.\"  Thoughts?\n",
            "Nearly 1 In 5 Defendants In #Capitol #Riot Cases Served In The #Military - #terror In fact, an NPR analysis has found that nearly 1 in 5 people charged over their alleged involvement in the attack on the U.S. Capitol appear to have a military history  https://t.co/Rdo1sQkvfS\n",
            "Marjorie Taylor Greene has filed articles of impeachment against Joe Biden for abuse of power, she said she would do this, before he even took office  #Republican #Congress #Capitol #CapitolBuilding #Trump #ImpeachmentDay #ImpeachedTwice #JoeBiden #USA    https://t.co/dTd1i9SKqi\n",
            "This is going to be a contentious, deliberate vote against the Democrats. 10 Congressmen/Senators were part of the insurgency #Capitol resulting in the violence &amp; death of 6 people including a Capitol Policeman brutally beaten to death with an #AmericanFlag &amp; fire extinguisher.  https://t.co/qqUfAVFytc\n",
            "@GarrettHaake @RepAndyBiggsAZ @SpeakerPelosi they’d be arrested by TSA at the airport yet they get away with this at the capitol?  @HouseDemocrats #LaurenBoebert #AndyBiggs #Capitol\n",
            "@SenTedCruz You keep failing to represent my views as your constituent.  As a Texan, I wish you would resign.  #ResignTedCruz this transfer of power was NOT peaceful because you assaulted the #capitol on January 6th and we will never forget the #TedCoup !\n",
            "Parler Was Hacked. Is Everyone At Risk?    https://t.co/QTCc1oD5CO via @observer #CyberSecurity #InfoSec #Parler #USA #socialmedia #Amazon #Privacy #FirstAmendment #USA #Politics #CapitolRiots #CapitolRiot #Capitol #News #TechNews #API\n",
            "#Senate #Democrats file ethics complaint against #Hawley, #Cruz over #Capitol attack/ probe whether Hawley and Cruz’s objections to the #ElectoralCollege results violated the chamber’s ethics rules.  https://t.co/RhWJP5N4sG\n",
            "#dietcoke is trending in Matrix 6a with #JoeBiden #Capitol #2for2 #tron  \"It appears US President Biden has removed the red button on the Resolute Desk that former president Trump used to summon a White House butler with a Diet Coke\"  https://t.co/ihxkN0zCgl\n",
            "Evidence shows Capitol rioters brutally attacked police with flagpoles, fire extinguishers and fists  https://t.co/Qn1GUhcqb1. #Capitol #January2021 #January6th\n",
            "Smh, #OMG, #WashingtonDC #coronavirus #Capitol #MAGA #BlackLivesMatter #BlackTwitter\n",
            "House Oversight Committee chairwoman requests #FBI probe of #Parler, including its role in #Capitol siege  https://t.co/wkQpPnOOaH #protests\n",
            "@Katie23626427 @JenDowlingKoin6 @KOINNews Your right! For that matter, show me patriots who beat police officers with the #AmericanFlag on the steps of the U.S. #Capitol\n",
            "\"Many Christian leaders and thinkers decried the attack on the #Capitol, but few went as far as Moore; he laid the blame squarely at the feet of a man many #evangelicals believe to be their hero: President #Trump.\"  “This week we watched an insurrection of domestic terrorists.”\n",
            "Hey Loves 💕💘 Catch up wit me on Youtube‼️Make sure you’re subscribed too so you get upload and LIVE broadcast notifications—Link below +  in bio‼️ Check me outtttt‼️Sub too 🔔🙏🏽💕💪🏽 🎁🔥🚀  #RKelly #news #trump #capitol #spirituality #tarot #astrology     https://t.co/qY3shC8G0W\n",
            "#BiDENSinauguralAddress: \"We #celebrate..the cause of #democracy..where..days ago #violence sought to shake this #Capitol's..#foundations..\"  https://t.co/f7mqq35cGQ\n",
            "BREAKING - A local man was arrested for his role in the attack on the #Capitol. @RyanANJax is turning around new info on Bradley Weeks federal court appearance for CBS47 &amp; FOX30 at 5 @ActionNewsJax\n",
            "Capitol Wall Of Death. #Capitol #Riot #CapitolRiots #WallOfDeath #Moshpit #DeathMetal #Deathcore #SlammingDeathMetal #Slamcore #BrutalDeathMetal #Metal #MetalMexa #MexaMetal #MetalMexicano #MetalMexico #Beatdown #Breakdown #Downtemp #Slam #Slamming #Satan #Satanice  https://t.co/k4PyrpOylY\n",
            "@VoteMarsha #Trump's most significant \"contribution\" to our country was The #Capitol #insurrection that he instigated. Something you yourself @MarshaBlackburn encouraged with your lies abt the election. Your behavior resulted in deaths. He's also responsible 4 400K+ #Covid19 related deaths.\n",
            "2CPOs #died_defending the #Capitol thus justice must prevail bc they could have been saved. #StaceyPlaskett #RepAOC #HouseDemWomen #SenBrianSchatz #gtconway #digby56 #SpeakerPelosi #RepSherrill #RepMGS  #glennkirschner2 #RepKatiePorter #RepDebHaaland #RepEscobar\n",
            ".@sinanaral of @MITSloan and Director of @mit_ide recently went #live with @YahooFinance to explain social media’s role in the #Capitol chaos.  https://t.co/76LNCJHRzV\n",
            "We talk @JHarden13 and the big ass trade, we talk to @KaranMadhok1 about sending Kyrie to the #Capitol and we wonder if Russ and AI have more in common that we thought before. #Podcast #NBA #BallisBae  https://t.co/zP2XhWDGMb\n",
            "“Biggs and other members of his far-right group used radios with earpieces to coordinate “real-time communication” as they smashed their way into the building.” Far-Right Proud Boys Leader Charged  #Capitol #insurrection #Insurrection  https://t.co/AlGevrtH3m via @democracynow\n",
            "\"Our American friends might glean some important lessons from the 2011 Vancouver riot [notably that] the investigation will take time, possibly years\"  #CapitolRiot #CapitolRiots #Capitol #SeditionHunters  @BrandonUni @ASAnews @csa_sociology @jsrailton     https://t.co/CGGmAkbfEA\n",
            "Soo.....we have one question.....  Full video:  https://t.co/wxQ5Y3iMvb  #DonaldTrump #TrumpTreason #TrumpCoupAttempt #CapitolRiots #Capitol #protest #guns #NationalGuard #InaugurationDay #BidenTakeAction  https://t.co/u1dLeQ7s5g\n",
            "#Florida authorities arrest man after #Capitol bomb threat  https://t.co/O012nw8hZY  https://t.co/RJU6FEBA3K\n",
            "@FBIWFO @FBI INSURRECTION  MILITARY COURT TERRORIST - Mike Flynn’s brother helped delay response to the attack on the #Capitol  He should pay reparations to the families of the officers who were murdered or injured by domestic terrorists #CapitolRiots\n",
            "What Parler Saw During the Attack on the #Capitol  @propublica reviewed 1000's of videos uploaded publicly to the service that were archived by a programmer before #Parler was taken offline. Here are 500 videos that were taken on Jan. 6.  https://t.co/hvQD06a3n7\n",
            "@AnotherLibtard First mistake. No felony charges added to the Domestic Terrorist who raided, sought to kidnap, looking at top secret documents and stealing top secret documents and equipment. List goes on, but all they get is charges as if they broke into a candy store. #Capitol #CapitolRiot\n",
            "@ProjectLincoln 🔴  With no self-pardon in hand, private citizen Trump faces uncertain legal future. https://t.co/RsRvNDYR7p #ResignTedCruz #ResignJoshHawley #impeachment #RemoveTrumpNow #RemoveTrump #SeditiousGOP #DonaldTrump #Washington #DCRIOTS,#capitol,#Pelosi #presidentialpardons #McConnell\n",
            "@ProjectLincoln 🔴  With no self-pardon in hand, private citizen Trump faces uncertain legal future. https://t.co/RsRvNDYR7p #ResignTedCruz #ResignJoshHawley #impeachment #RemoveTrumpNow #RemoveTrump #SeditiousGOP #DonaldTrump #Washington #DCRIOTS,#capitol,#Pelosi #presidentialpardons #McConnell\n",
            "@ProjectLincoln 🔴  With no self-pardon in hand, private citizen Trump faces uncertain legal future. https://t.co/RsRvNDYR7p #ResignTedCruz #ResignJoshHawley #impeachment #RemoveTrumpNow #RemoveTrump #SeditiousGOP #DonaldTrump #Washington #DCRIOTS,#capitol,#Pelosi #presidentialpardons #McConnell\n",
            "Is anyone really surprised that the slumlord from Queens who peddled a #healthcare plan never before seen also peddled a nonexistent #covid plan?  It is as unsurprising as requesting your base would beat the shit out of people for years only to have them attack the #capitol.\n",
            "@ProjectLincoln 🔴  With no self-pardon in hand, private citizen Trump faces uncertain legal future. https://t.co/RsRvNDYR7p #ResignTedCruz #ResignJoshHawley #impeachment #RemoveTrumpNow #RemoveTrump #SeditiousGOP #DonaldTrump #Washington #DCRIOTS,#capitol,#Pelosi #presidentialpardons #McConnell\n",
            "@ProjectLincoln 🔴  With no self-pardon in hand, private citizen Trump faces uncertain legal future. https://t.co/RsRvNDYR7p #ResignTedCruz #ResignJoshHawley #impeachment #RemoveTrumpNow #RemoveTrump #SeditiousGOP #DonaldTrump #Washington #DCRIOTS,#capitol,#Pelosi #presidentialpardons #McConnell  https://t.co/QRTVL2TK9K\n",
            "@ProjectLincoln 🔴  With no self-pardon in hand, private citizen Trump faces uncertain legal future. https://t.co/RsRvNDYR7p #ResignTedCruz #ResignJoshHawley #impeachment #RemoveTrumpNow #RemoveTrump #SeditiousGOP #DonaldTrump #Washington #DCRIOTS,#capitol,#Pelosi #presidentialpardons #McConnell  https://t.co/ZlbZuMxQkI\n",
            "@ProjectLincoln 🔴  With no self-pardon in hand, private citizen Trump faces uncertain legal future. https://t.co/RsRvNDYR7p #ResignTedCruz #ResignJoshHawley #impeachment #RemoveTrumpNow #RemoveTrump #SeditiousGOP #DonaldTrump #Washington #DCRIOTS,#capitol,#Pelosi #presidentialpardons #McConnell\n",
            "@kaitlancollins 🔴  With no self-pardon in hand, private citizen Trump faces uncertain legal future. https://t.co/RsRvNDYR7p #ResignTedCruz #ResignJoshHawley #impeachment #RemoveTrumpNow #RemoveTrump #SeditiousGOP #DonaldTrump #Washington #DCRIOTS,#capitol,#Pelosi #presidentialpardons #McConnell  https://t.co/aOkmNoXaCz\n",
            "@ProjectLincoln 🔴  With no self-pardon in hand, private citizen Trump faces uncertain legal future. https://t.co/RsRvNDYR7p #ResignTedCruz #ResignJoshHawley #impeachment #RemoveTrumpNow #RemoveTrump #SeditiousGOP #DonaldTrump #Washington #DCRIOTS,#capitol,#Pelosi #presidentialpardons #McConnell  https://t.co/hSPb0AWcYJ\n",
            "@DylanByers @NBCNews @POTUS 🔴  With no self-pardon in hand, private citizen Trump faces uncertain legal future. https://t.co/RsRvNDYR7p #ResignTedCruz #ResignJoshHawley #impeachment #RemoveTrumpNow #RemoveTrump #SeditiousGOP #DonaldTrump #Washington #DCRIOTS,#capitol,#Pelosi #presidentialpardons #McConnell  https://t.co/TX7Z6N1h3q\n",
            "@baratheongirl 🔴  With no self-pardon in hand, private citizen Trump faces uncertain legal future. https://t.co/RsRvNDYR7p #ResignTedCruz #ResignJoshHawley #impeachment #RemoveTrumpNow #RemoveTrump #SeditiousGOP #DonaldTrump #Washington #DCRIOTS,#capitol,#Pelosi #presidentialpardons #McConnell  https://t.co/foGNAZUOCA\n",
            "🔴  With no self-pardon in hand, private citizen Trump faces uncertain legal future. https://t.co/h0Td93AlXU #ResignTedCruz #ResignJoshHawley #impeachment #RemoveTrumpNow #RemoveTrump #SeditiousGOP #DonaldTrump #Washington #DCRIOTS,#capitol,#Pelosi #presidentialpardons #McConnell  https://t.co/3DWxBa88aa\n",
            "🔴  With no self-pardon in hand, private citizen Trump faces uncertain legal future. https://t.co/RsRvNDYR7p #ResignTedCruz #ResignJoshHawley #impeachment #RemoveTrumpNow #RemoveTrump #SeditiousGOP #DonaldTrump #Washington #DCRIOTS,#capitol,#Pelosi #presidentialpardons #McConnell  https://t.co/kCcvtMXPv3\n",
            "A federal judge on Thursday rejected #Parler's demand that  https://t.co/6K6a0bfVtA Inc restore web hosting services for the social media platform, which #Amazon had cut off following the Jan. 6 storming of the US #Capitol.   https://t.co/0o19KzMlpQ\n",
            " https://t.co/p1B3be4w7S #Faith #corona #SiguemeYTeSigo #BREAKING #Vtuber #coronavirus  #CoronaVaccine #buyingcontent #liveline  #coronadebat #Coronasverige #COVID19 #Instagram #Warzone #insurrection #lockdown #attackontitan #Capitol #win  #WWENXT #indiedev #INDvsAUS #art #WHO ,.0\n",
            "Unlike the previous impeachment which was doomed from the start thanks to the Democrats insistence on witness corroboration, there is no need for evidence for this one as #Trump and his aides basically incited the people to launch an attack on #Capitol Hill.  https://t.co/CKb7Y6OQOC\n",
            "#Crimes The #Capitol Rioters Committed  #US #USA #Trump #Kapitol #insurrection #Insurrection2021  https://t.co/6Y9KPajP4N\n",
            "Donald Trump and his rebellious supporters must be judged.#Capitol #CapitolRiot #CapitolRiots #CapitolHill #Pelosi #Democrats #Biden #SenateMajorityLeaderSchumer\n",
            "Bingo Cards⬇️ 🔵 debt/deficit.  Jan '17 national debt $19.9T Oct '20 national debt 🚀 $27T   That's almost 36% 🆙 in less than 4 years COVID not yet accounted for @SenRickScott 🤥🤦‍♀️  Accountability for Law &amp; Order &amp; the #Capitol Attack  #DemCast #DemCastFL #ONEV1 #JusticeMatters  https://t.co/e8bryuQhcw\n"
          ],
          "name": "stdout"
        }
      ]
    },
    {
      "cell_type": "markdown",
      "metadata": {
        "id": "-gj0a0U3D2w0"
      },
      "source": [
        "Para tener una idea de que tan bueno es el modelo que estimamos, podemos utilizar la entropía cruzada empírica dada por la función:\r\n",
        "\r\n",
        "$$H_E(p) = -\\frac{1}{M} \\sum_{x_1,...,x_m}^N \\log p(x_1, ...x_m)$$\r\n",
        "En este caso, el modelo con menor entropía será aquel que mejor prediga una (o varias) cadenas no vistas. Por tanto, consideraremos que generaliza mejor.\r\n",
        "La perplejidad se define en base a esta entropía como $2^{H_E(p)}$."
      ]
    },
    {
      "cell_type": "markdown",
      "metadata": {
        "id": "FIFsHUqOFZ8f"
      },
      "source": [
        "Se importan todas las biliotecas necesarias para poder crear un modelo secuencial de clasificación con keras."
      ]
    },
    {
      "cell_type": "code",
      "metadata": {
        "id": "I-sCu98NAVCb"
      },
      "source": [
        "import matplotlib.pyplot as plt\n",
        "from matplotlib.pyplot import imshow  \n",
        "%matplotlib inline\n",
        "import os\n",
        "import re\n",
        "import shutil\n",
        "import string\n",
        "import tensorflow as tf\n",
        "import numpy as np\n",
        "\n",
        "from tensorflow.keras import layers\n",
        "from tensorflow.keras import losses\n",
        "from tensorflow.keras import preprocessing\n",
        "from tensorflow.keras.layers.experimental.preprocessing import TextVectorization"
      ],
      "execution_count": 7,
      "outputs": []
    },
    {
      "cell_type": "markdown",
      "metadata": {
        "id": "G4A-6VrjFk2x"
      },
      "source": [
        "Se usará un dataset con etiquetas proporcionado por google basado en resañas de películas y etiquetado con 0 si la reseña fue negativa y con 1 si la reseña fue positiva."
      ]
    },
    {
      "cell_type": "code",
      "metadata": {
        "id": "ICu34I-vAibt",
        "colab": {
          "base_uri": "https://localhost:8080/"
        },
        "outputId": "911e4942-c63e-4d42-dc56-fa0ebb7ccf94"
      },
      "source": [
        "url = \"https://ai.stanford.edu/~amaas/data/sentiment/aclImdb_v1.tar.gz\"\n",
        "\n",
        "dataset = tf.keras.utils.get_file(\"aclImdb_v1.tar.gz\", url,\n",
        "                                    untar=True, cache_dir='.',\n",
        "                                    cache_subdir='')\n",
        "\n",
        "dataset_dir = os.path.join(os.path.dirname(dataset), 'aclImdb')"
      ],
      "execution_count": 8,
      "outputs": [
        {
          "output_type": "stream",
          "text": [
            "Downloading data from https://ai.stanford.edu/~amaas/data/sentiment/aclImdb_v1.tar.gz\n",
            "84131840/84125825 [==============================] - 5s 0us/step\n"
          ],
          "name": "stdout"
        }
      ]
    },
    {
      "cell_type": "markdown",
      "metadata": {
        "id": "a9tgQ5Y3F3SA"
      },
      "source": [
        "Revisando el contenido del archivo descargado en la ruta establecida en dataset_dir y previamente descomprimido."
      ]
    },
    {
      "cell_type": "code",
      "metadata": {
        "id": "KmylyxBvAqkA",
        "colab": {
          "base_uri": "https://localhost:8080/"
        },
        "outputId": "8d19d5cd-a91d-49d7-9e53-979b9f8d530e"
      },
      "source": [
        "os.listdir(dataset_dir)"
      ],
      "execution_count": 9,
      "outputs": [
        {
          "output_type": "execute_result",
          "data": {
            "text/plain": [
              "['README', 'test', 'imdb.vocab', 'imdbEr.txt', 'train']"
            ]
          },
          "metadata": {
            "tags": []
          },
          "execution_count": 9
        }
      ]
    },
    {
      "cell_type": "markdown",
      "metadata": {
        "id": "YhNam7PwGEJv"
      },
      "source": [
        "La carpeta _train_ contiene dos carpetas más, una para las reseñas positivas y otra para las reseñas negativas."
      ]
    },
    {
      "cell_type": "code",
      "metadata": {
        "id": "Ln1FK5LrAsWM",
        "colab": {
          "base_uri": "https://localhost:8080/"
        },
        "outputId": "e01b43bd-fe60-42b4-e95a-d981787d9518"
      },
      "source": [
        "train_dir = os.path.join(dataset_dir, 'train')\n",
        "os.listdir(train_dir)"
      ],
      "execution_count": 10,
      "outputs": [
        {
          "output_type": "execute_result",
          "data": {
            "text/plain": [
              "['pos',\n",
              " 'urls_neg.txt',\n",
              " 'urls_unsup.txt',\n",
              " 'urls_pos.txt',\n",
              " 'neg',\n",
              " 'unsup',\n",
              " 'labeledBow.feat',\n",
              " 'unsupBow.feat']"
            ]
          },
          "metadata": {
            "tags": []
          },
          "execution_count": 10
        }
      ]
    },
    {
      "cell_type": "markdown",
      "metadata": {
        "id": "kCvftlQcG9_k"
      },
      "source": [
        "Ejemplo de una reseña positiva"
      ]
    },
    {
      "cell_type": "code",
      "metadata": {
        "id": "Cyf9VAT7AxYF",
        "colab": {
          "base_uri": "https://localhost:8080/"
        },
        "outputId": "e93d0ecc-6bc0-4ed6-be1d-edff48f1a0f8"
      },
      "source": [
        "sample_file = os.path.join(train_dir, 'pos/1181_9.txt')\n",
        "with open(sample_file) as f:\n",
        "  print(f.read())"
      ],
      "execution_count": 11,
      "outputs": [
        {
          "output_type": "stream",
          "text": [
            "Rachel Griffiths writes and directs this award winning short film. A heartwarming story about coping with grief and cherishing the memory of those we've loved and lost. Although, only 15 minutes long, Griffiths manages to capture so much emotion and truth onto film in the short space of time. Bud Tingwell gives a touching performance as Will, a widower struggling to cope with his wife's death. Will is confronted by the harsh reality of loneliness and helplessness as he proceeds to take care of Ruth's pet cow, Tulip. The film displays the grief and responsibility one feels for those they have loved and lost. Good cinematography, great direction, and superbly acted. It will bring tears to all those who have lost a loved one, and survived.\n"
          ],
          "name": "stdout"
        }
      ]
    },
    {
      "cell_type": "markdown",
      "metadata": {
        "id": "8r5Zm0CHHUrD"
      },
      "source": [
        "Se remueven los folders innecesarios."
      ]
    },
    {
      "cell_type": "code",
      "metadata": {
        "id": "rJu-reFdA8wb"
      },
      "source": [
        "remove_dir = os.path.join(train_dir, 'unsup')\n",
        "shutil.rmtree(remove_dir)"
      ],
      "execution_count": 12,
      "outputs": []
    },
    {
      "cell_type": "markdown",
      "metadata": {
        "id": "HFhb2ZjzHumh"
      },
      "source": [
        "Se dividirán los documentos en tres conjuntos, el primero para entrenamiento, el segundo para validación y el tercero para test.\n",
        "\n",
        "También se agrega una semilla para el generador de números aleatorios y así evitar que se utilce la misma reseña para ambos conjuntos, otra opción sería agregar el parámetro shuffle como _False_ para evitar el mismo problema, sin embargo en este caso la generación de los conjuntos será secuencial.\n",
        "\n",
        "Se define el tamaño de entradas para el entrenamiento en 32 para cada iteración.\n",
        "\n",
        "El método text_dataset_from_directory nos permite utilizar las carpetas de forma directa para poder tener los conjuntos agrupados con su etiqueta."
      ]
    },
    {
      "cell_type": "code",
      "metadata": {
        "id": "BEP1QIo8A_5r",
        "colab": {
          "base_uri": "https://localhost:8080/"
        },
        "outputId": "310c2e03-09a4-4939-af78-f6a33c05e869"
      },
      "source": [
        "batch_size = 32\n",
        "seed = 42\n",
        "\n",
        "raw_train_ds = tf.keras.preprocessing.text_dataset_from_directory(\n",
        "    'aclImdb/train', \n",
        "    batch_size=batch_size, \n",
        "    validation_split=0.2, \n",
        "    subset='training', \n",
        "    seed=seed)"
      ],
      "execution_count": 13,
      "outputs": [
        {
          "output_type": "stream",
          "text": [
            "Found 25000 files belonging to 2 classes.\n",
            "Using 20000 files for training.\n"
          ],
          "name": "stdout"
        }
      ]
    },
    {
      "cell_type": "markdown",
      "metadata": {
        "id": "t1JqhyevK05b"
      },
      "source": [
        "Ejemplo de reseña y etiqueta."
      ]
    },
    {
      "cell_type": "code",
      "metadata": {
        "id": "EPfdqVNhBDH9",
        "colab": {
          "base_uri": "https://localhost:8080/"
        },
        "outputId": "dba43c94-308c-4672-85a2-f4a8be5ba854"
      },
      "source": [
        "for text_batch, label_batch in raw_train_ds.take(1):\n",
        "  for i in range(5):\n",
        "    print(\"Reseña\", text_batch.numpy()[i])\n",
        "    print(\"Etiqueta\", label_batch.numpy()[i])"
      ],
      "execution_count": 14,
      "outputs": [
        {
          "output_type": "stream",
          "text": [
            "Reseña b'\"Pandemonium\" is a horror movie spoof that comes off more stupid than funny. Believe me when I tell you, I love comedies. Especially comedy spoofs. \"Airplane\", \"The Naked Gun\" trilogy, \"Blazing Saddles\", \"High Anxiety\", and \"Spaceballs\" are some of my favorite comedies that spoof a particular genre. \"Pandemonium\" is not up there with those films. Most of the scenes in this movie had me sitting there in stunned silence because the movie wasn\\'t all that funny. There are a few laughs in the film, but when you watch a comedy, you expect to laugh a lot more than a few times and that\\'s all this film has going for it. Geez, \"Scream\" had more laughs than this film and that was more of a horror film. How bizarre is that?<br /><br />*1/2 (out of four)'\n",
            "Etiqueta 0\n",
            "Reseña b\"David Mamet is a very interesting and a very un-equal director. His first movie 'House of Games' was the one I liked best, and it set a series of films with characters whose perspective of life changes as they get into complicated situations, and so does the perspective of the viewer.<br /><br />So is 'Homicide' which from the title tries to set the mind of the viewer to the usual crime drama. The principal characters are two cops, one Jewish and one Irish who deal with a racially charged area. The murder of an old Jewish shop owner who proves to be an ancient veteran of the Israeli Independence war triggers the Jewish identity in the mind and heart of the Jewish detective.<br /><br />This is were the flaws of the film are the more obvious. The process of awakening is theatrical and hard to believe, the group of Jewish militants is operatic, and the way the detective eventually walks to the final violent confrontation is pathetic. The end of the film itself is Mamet-like smart, but disappoints from a human emotional perspective.<br /><br />Joe Mantegna and William Macy give strong performances, but the flaws of the story are too evident to be easily compensated.\"\n",
            "Etiqueta 0\n",
            "Reseña b'Great documentary about the lives of NY firefighters during the worst terrorist attack of all time.. That reason alone is why this should be a must see collectors item.. What shocked me was not only the attacks, but the\"High Fat Diet\" and physical appearance of some of these firefighters. I think a lot of Doctors would agree with me that,in the physical shape they were in, some of these firefighters would NOT of made it to the 79th floor carrying over 60 lbs of gear. Having said that i now have a greater respect for firefighters and i realize becoming a firefighter is a life altering job. The French have a history of making great documentary\\'s and that is what this is, a Great Documentary.....'\n",
            "Etiqueta 1\n",
            "Reseña b\"It's boggles the mind how this movie was nominated for seven Oscars and won one. Not because it's abysmal or because given the collective credentials of the creative team behind it really ought to deserve them but because in every category it was nominated Prizzi's Honor disappoints. Some would argue that old Hollywood pioneer John Huston had lost it by this point in his career but I don't buy it. Only the previous year he signed the superb UNDER THE VOLCANO, a dark character study set in Mexico, that ranks among the finest he ever did. Prizzi's Honor on the other hand, a film loaded with star power, good intentions and a decent script, proves to be a major letdown.<br /><br />The overall tone and plot of a gangster falling in love with a female hit-man prefigures the quirky crimedies that caught Hollywood by storm in the early 90's but the script is too convoluted for its own sake, the motivations are off and on the whole the story seems unsure of what exactly it's trying to be: a romantic comedy, a crime drama, a gangster saga etc. Jack Nicholson (doing a Brooklyn accent that works perfectly for De Niro but sounds unconvincing coming from Jack) and Kathleen Turner in the leading roles seem to be in paycheck mode, just going through the motions almost sleepwalking their way through some parts. Anjelica Huston on the other hand fares better but her performance is sabotaged by her character's motivations: she starts out the victim of her bigot father's disdain, she proves to be supportive to her ex-husband, then becomes a vindictive bitch that wants his head on a plate.<br /><br />The colours of the movie have a washed-up quality like it was made in the early 70's and Huston's direction is as uninteresting as everything else. There's promise behind the story and perhaps in the hands of a director hungry to be recognized it could've been morphed to something better but what's left looks like a film nobody was really interested in making.\"\n",
            "Etiqueta 0\n",
            "Reseña b'The concept of the legal gray area in Love Crimes contributes to about 10% of the movie\\'s appeal; the other 90% can be attributed to it\\'s flagrant bad-ness. To say that Sean Young\\'s performance as a so-called district attorney is wooden is a gross understatement. With her bland suits and superfluous hair gel, Young does a decent job at convincing the audience of her devout hatred for men. Why else would she ask her only friend to pose as a prostitute just so she can arrest cops who try to pick up on them? This hatred is also the only reason why she relentlessly pursues a perverted photographer who gives women a consensual thrill and the driving force behind this crappy movie. Watching Young go from frigid to full-frontal nudity does little to raise interest, but the temper tantrum she throws standing next to a fire by a lake does. Watching her rant and rave about her self-loathing and sexual frustration makes Love Crimes worth the rental fee, but it\\'s all downhill to and from there. Despite her urge to bring Patrick Bergin\\'s character to justice, her policing skills completely escape her in the throes of her own tired lust and passion. Patrick Bergin does a decent enough job as a slimy sociopath; if it worked in Sleeping With the Enemy it sure as hell can work in this. But I can\\'t help but wonder if the noticeable lack of energy Young brings to the film conflicts with his sliminess. I\\'m guessing it does and the result is a \"thriller\" with thrills that are thoroughly bad and yet comedic.'\n",
            "Etiqueta 0\n"
          ],
          "name": "stdout"
        }
      ]
    },
    {
      "cell_type": "markdown",
      "metadata": {
        "id": "Rym9E3gpLxdD"
      },
      "source": [
        "Las clases son 0 para las reseñas negativas y 1 para las reseñas positivas."
      ]
    },
    {
      "cell_type": "code",
      "metadata": {
        "id": "8pvUJKURBHJ7",
        "colab": {
          "base_uri": "https://localhost:8080/"
        },
        "outputId": "26277494-11f4-44a7-a741-fb5a6b8d09c7"
      },
      "source": [
        "print(\"Label 0 corresponds to\", raw_train_ds.class_names[0])\n",
        "print(\"Label 1 corresponds to\", raw_train_ds.class_names[1])"
      ],
      "execution_count": 15,
      "outputs": [
        {
          "output_type": "stream",
          "text": [
            "Label 0 corresponds to neg\n",
            "Label 1 corresponds to pos\n"
          ],
          "name": "stdout"
        }
      ]
    },
    {
      "cell_type": "markdown",
      "metadata": {
        "id": "zTC91b7HMHKv"
      },
      "source": [
        "Se genera el conjunto de validación con los 5000 archivos restantes."
      ]
    },
    {
      "cell_type": "code",
      "metadata": {
        "id": "SX_-qm6EBKil",
        "colab": {
          "base_uri": "https://localhost:8080/"
        },
        "outputId": "c8cf2766-fdfd-4672-86cf-c228578cfd59"
      },
      "source": [
        "raw_val_ds = tf.keras.preprocessing.text_dataset_from_directory(\n",
        "    'aclImdb/train', \n",
        "    batch_size=batch_size, \n",
        "    validation_split=0.2, \n",
        "    subset='validation', \n",
        "    seed=seed)"
      ],
      "execution_count": 16,
      "outputs": [
        {
          "output_type": "stream",
          "text": [
            "Found 25000 files belonging to 2 classes.\n",
            "Using 5000 files for validation.\n"
          ],
          "name": "stdout"
        }
      ]
    },
    {
      "cell_type": "markdown",
      "metadata": {
        "id": "hH-M4bK6NPBh"
      },
      "source": [
        "Finalmente se genera el conjunto de evalución que serán todos los archivos de la carpeta de evaluación."
      ]
    },
    {
      "cell_type": "code",
      "metadata": {
        "id": "DLlVoyu4BODT",
        "colab": {
          "base_uri": "https://localhost:8080/"
        },
        "outputId": "24910bba-3e83-4eb5-9a1d-b128b10ef59f"
      },
      "source": [
        "raw_test_ds = tf.keras.preprocessing.text_dataset_from_directory(\n",
        "    'aclImdb/test', \n",
        "    batch_size=batch_size)"
      ],
      "execution_count": 18,
      "outputs": [
        {
          "output_type": "stream",
          "text": [
            "Found 25000 files belonging to 2 classes.\n"
          ],
          "name": "stdout"
        }
      ]
    },
    {
      "cell_type": "markdown",
      "metadata": {
        "id": "nEYo8yxxNaQE"
      },
      "source": [
        "Se agrega una función para el preprocesamiento de los datos, esta realizará la conversión a minúsculas, removerá las etiquetas del _html_ y finalmente hará la tokenización usando expresiones regulares."
      ]
    },
    {
      "cell_type": "code",
      "metadata": {
        "id": "z0TkVppvBR6b"
      },
      "source": [
        "def custom_standardization(input_data):\n",
        "  lowercase = tf.strings.lower(input_data)\n",
        "  stripped_html = tf.strings.regex_replace(lowercase, '<br />', ' ')\n",
        "  return tf.strings.regex_replace(stripped_html,\n",
        "                                  '[%s]' % re.escape(string.punctuation),\n",
        "                                  '')"
      ],
      "execution_count": 19,
      "outputs": []
    },
    {
      "cell_type": "markdown",
      "metadata": {
        "id": "hKI8a2I6N_Q6"
      },
      "source": [
        "El texto se deberá vectorizar, esto se realiza utilizando la herramienta de _TextVectorization_ de keras.\n",
        "\n",
        "Dentro de los argumentos en standarize se pasa como parámetro la función creada anteriormente para que al vectorizar los conjuntos que se han creado tengan el mismo preprocesamiento."
      ]
    },
    {
      "cell_type": "code",
      "metadata": {
        "id": "y-YbYw5aBUoX"
      },
      "source": [
        "max_features = 10000\n",
        "sequence_length = 250\n",
        "\n",
        "vectorize_layer = TextVectorization(\n",
        "    standardize=custom_standardization,\n",
        "    max_tokens=max_features,\n",
        "    output_mode='int',\n",
        "    output_sequence_length=sequence_length)"
      ],
      "execution_count": 20,
      "outputs": []
    },
    {
      "cell_type": "markdown",
      "metadata": {
        "id": "-uf4XV8UOPV1"
      },
      "source": [
        "Lo siguiente será realizar un diciconario indexado "
      ]
    },
    {
      "cell_type": "code",
      "metadata": {
        "id": "NQdpfdnXBYUN"
      },
      "source": [
        "# Make a text-only dataset (without labels), then call adapt\n",
        "train_text = raw_train_ds.map(lambda x, y: x)\n",
        "vectorize_layer.adapt(train_text)"
      ],
      "execution_count": 21,
      "outputs": []
    },
    {
      "cell_type": "markdown",
      "metadata": {
        "id": "YdR7Av5SPtTn"
      },
      "source": [
        "Se define una función para la vectorización del texto, esta función devuelve una capa de vecorización."
      ]
    },
    {
      "cell_type": "code",
      "metadata": {
        "id": "Fs0nRslwBfdW"
      },
      "source": [
        "def vectorize_text(text, label):\n",
        "  text = tf.expand_dims(text, -1)\n",
        "  return vectorize_layer(text), label"
      ],
      "execution_count": 22,
      "outputs": []
    },
    {
      "cell_type": "markdown",
      "metadata": {
        "id": "sZiSUHRRPsra"
      },
      "source": [
        "Se prueba el funcuionamiento para 32 reseñas con sus etiquetas."
      ]
    },
    {
      "cell_type": "code",
      "metadata": {
        "id": "QNN92CABBiNV",
        "colab": {
          "base_uri": "https://localhost:8080/"
        },
        "outputId": "9c41c27f-23ca-46f7-b416-fd4d73bdcd26"
      },
      "source": [
        "text_batch, label_batch = next(iter(raw_train_ds))\n",
        "first_review, first_label = text_batch[0], label_batch[0]\n",
        "print(\"Review\", first_review)\n",
        "print(\"Label\", raw_train_ds.class_names[first_label])\n",
        "print(\"Vectorized review\", vectorize_text(first_review, first_label))"
      ],
      "execution_count": 23,
      "outputs": [
        {
          "output_type": "stream",
          "text": [
            "Review tf.Tensor(b'Silent Night, Deadly Night 5 is the very last of the series, and like part 4, it\\'s unrelated to the first three except by title and the fact that it\\'s a Christmas-themed horror flick.<br /><br />Except to the oblivious, there\\'s some obvious things going on here...Mickey Rooney plays a toymaker named Joe Petto and his creepy son\\'s name is Pino. Ring a bell, anyone? Now, a little boy named Derek heard a knock at the door one evening, and opened it to find a present on the doorstep for him. Even though it said \"don\\'t open till Christmas\", he begins to open it anyway but is stopped by his dad, who scolds him and sends him to bed, and opens the gift himself. Inside is a little red ball that sprouts Santa arms and a head, and proceeds to kill dad. Oops, maybe he should have left well-enough alone. Of course Derek is then traumatized by the incident since he watched it from the stairs, but he doesn\\'t grow up to be some killer Santa, he just stops talking.<br /><br />There\\'s a mysterious stranger lurking around, who seems very interested in the toys that Joe Petto makes. We even see him buying a bunch when Derek\\'s mom takes him to the store to find a gift for him to bring him out of his trauma. And what exactly is this guy doing? Well, we\\'re not sure but he does seem to be taking these toys apart to see what makes them tick. He does keep his landlord from evicting him by promising him to pay him in cash the next day and presents him with a \"Larry the Larvae\" toy for his kid, but of course \"Larry\" is not a good toy and gets out of the box in the car and of course, well, things aren\\'t pretty.<br /><br />Anyway, eventually what\\'s going on with Joe Petto and Pino is of course revealed, and as with the old story, Pino is not a \"real boy\". Pino is probably even more agitated and naughty because he suffers from \"Kenitalia\" (a smooth plastic crotch) so that could account for his evil ways. And the identity of the lurking stranger is revealed too, and there\\'s even kind of a happy ending of sorts. Whee.<br /><br />A step up from part 4, but not much of one. Again, Brian Yuzna is involved, and Screaming Mad George, so some decent special effects, but not enough to make this great. A few leftovers from part 4 are hanging around too, like Clint Howard and Neith Hunter, but that doesn\\'t really make any difference. Anyway, I now have seeing the whole series out of my system. Now if I could get some of it out of my brain. 4 out of 5.', shape=(), dtype=string)\n",
            "Label neg\n",
            "Vectorized review (<tf.Tensor: shape=(1, 250), dtype=int64, numpy=\n",
            "array([[1287,  313, 2380,  313,  661,    7,    2,   52,  229,    5,    2,\n",
            "         200,    3,   38,  170,  669,   29, 5492,    6,    2,   83,  297,\n",
            "         549,   32,  410,    3,    2,  186,   12,   29,    4,    1,  191,\n",
            "         510,  549,    6,    2, 8229,  212,   46,  576,  175,  168,   20,\n",
            "           1, 5361,  290,    4,    1,  761,  969,    1,    3,   24,  935,\n",
            "        2271,  393,    7,    1, 1675,    4, 3747,  250,  148,    4,  112,\n",
            "         436,  761, 3529,  548,    4, 3633,   31,    2, 1331,   28, 2096,\n",
            "           3, 2912,    9,    6,  163,    4, 1006,   20,    2,    1,   15,\n",
            "          85,   53,  147,    9,  292,   89,  959, 2314,  984,   27,  762,\n",
            "           6,  959,    9,  564,   18,    7, 2140,   32,   24, 1254,   36,\n",
            "           1,   85,    3, 3298,   85,    6, 1410,    3, 1936,    2, 3408,\n",
            "         301,  965,    7,    4,  112,  740, 1977,   12,    1, 2014, 2772,\n",
            "           3,    4,  428,    3, 5177,    6,  512, 1254,    1,  278,   27,\n",
            "         139,   25,  308,    1,  579,    5,  259, 3529,    7,   92, 8981,\n",
            "          32,    2, 3842,  230,   27,  289,    9,   35,    2, 5712,   18,\n",
            "          27,  144, 2166,   56,    6,   26,   46,  466, 2014,   27,   40,\n",
            "        2745,  657,  212,    4, 1376, 3002, 7080,  183,   36,  180,   52,\n",
            "         920,    8,    2, 4028,   12,  969,    1,  158,   71,   53,   67,\n",
            "          85, 2754,    4,  734,   51,    1, 1611,  294,   85,    6,    2,\n",
            "        1164,    6,  163,    4, 3408,   15,   85,    6,  717,   85,   44,\n",
            "           5,   24, 7158,    3,   48,  604,    7,   11,  225,  384,   73,\n",
            "          65,   21,  242,   18,   27,  120,  295,    6,   26,  667,  129,\n",
            "        4028,  948,    6,   67,   48,  158,   93,    1]])>, <tf.Tensor: shape=(), dtype=int32, numpy=0>)\n"
          ],
          "name": "stdout"
        }
      ]
    },
    {
      "cell_type": "markdown",
      "metadata": {
        "id": "ZOgIb_amQ_K9"
      },
      "source": [
        "Ejemplo de la capa de vectorización que se usará para el modelo."
      ]
    },
    {
      "cell_type": "code",
      "metadata": {
        "id": "8UMx2dDwBp5m",
        "colab": {
          "base_uri": "https://localhost:8080/"
        },
        "outputId": "0016c7ed-135d-4d6b-b59e-60124f3e63e2"
      },
      "source": [
        "print(\"1287 ---> \",vectorize_layer.get_vocabulary()[1500])\n",
        "print(\" 313 ---> \",vectorize_layer.get_vocabulary()[313])\n",
        "print('Vocabulary size: {}'.format(len(vectorize_layer.get_vocabulary())))"
      ],
      "execution_count": 25,
      "outputs": [
        {
          "output_type": "stream",
          "text": [
            "1287 --->  seemingly\n",
            " 313 --->  night\n",
            "Vocabulary size: 10000\n"
          ],
          "name": "stdout"
        }
      ]
    },
    {
      "cell_type": "markdown",
      "metadata": {
        "id": "FcDKO1qVRMYA"
      },
      "source": [
        "Se aplica la capa de _TextVectorization_ para los 3 conjuntos."
      ]
    },
    {
      "cell_type": "code",
      "metadata": {
        "id": "zq8datnHBu6e"
      },
      "source": [
        "train_ds = raw_train_ds.map(vectorize_text)\n",
        "val_ds = raw_val_ds.map(vectorize_text)\n",
        "test_ds = raw_test_ds.map(vectorize_text)"
      ],
      "execution_count": 26,
      "outputs": []
    },
    {
      "cell_type": "markdown",
      "metadata": {
        "id": "jME9Z3UyRRPi"
      },
      "source": [
        "Se optimizará el modelo agregando las opciones _.cache_ para que los datos se mantengan en memoria y la opción _.prefetch_ que permite que mientras se ejecuten las operaciones de un dato se este leyendo el dato siguiente."
      ]
    },
    {
      "cell_type": "code",
      "metadata": {
        "id": "bjWvR9d3ByIM"
      },
      "source": [
        "AUTOTUNE = tf.data.AUTOTUNE\n",
        "\n",
        "train_ds = train_ds.cache().prefetch(buffer_size=AUTOTUNE)\n",
        "val_ds = val_ds.cache().prefetch(buffer_size=AUTOTUNE)\n",
        "test_ds = test_ds.cache().prefetch(buffer_size=AUTOTUNE)"
      ],
      "execution_count": 27,
      "outputs": []
    },
    {
      "cell_type": "markdown",
      "metadata": {
        "id": "OU783-cNSh9g"
      },
      "source": [
        "Se procede a crear el modelo, este será un modelo secuencial, con las capas de _embedding_, que toma las entradas de texto ya convertidas a enteros, una capa de pooling para trabajar con vectores de tamaño constante, las capas de _dropout_ automáticamente se consideran para el entrenamiento nadamás, a menos que se especifíque explicitamente lo contrario, estas capas ayudan a prevenir el overfitting del modelo, finalmente la capa Dense del modelo es agregada al final para obtener una salida."
      ]
    },
    {
      "cell_type": "code",
      "metadata": {
        "id": "W8V3rjZTBz6B",
        "colab": {
          "base_uri": "https://localhost:8080/"
        },
        "outputId": "7a38201b-ba0c-4536-d123-862e5093ecc0"
      },
      "source": [
        "embedding_dim = 16\n",
        "\n",
        "model = tf.keras.Sequential([\n",
        "  layers.Embedding(max_features + 1, embedding_dim),\n",
        "  layers.Dropout(0.2),\n",
        "  layers.GlobalAveragePooling1D(),\n",
        "  layers.Dropout(0.2),\n",
        "  layers.Dense(1)])\n",
        "\n",
        "model.summary()"
      ],
      "execution_count": 28,
      "outputs": [
        {
          "output_type": "stream",
          "text": [
            "Model: \"sequential\"\n",
            "_________________________________________________________________\n",
            "Layer (type)                 Output Shape              Param #   \n",
            "=================================================================\n",
            "embedding (Embedding)        (None, None, 16)          160016    \n",
            "_________________________________________________________________\n",
            "dropout (Dropout)            (None, None, 16)          0         \n",
            "_________________________________________________________________\n",
            "global_average_pooling1d (Gl (None, 16)                0         \n",
            "_________________________________________________________________\n",
            "dropout_1 (Dropout)          (None, 16)                0         \n",
            "_________________________________________________________________\n",
            "dense (Dense)                (None, 1)                 17        \n",
            "=================================================================\n",
            "Total params: 160,033\n",
            "Trainable params: 160,033\n",
            "Non-trainable params: 0\n",
            "_________________________________________________________________\n"
          ],
          "name": "stdout"
        }
      ]
    },
    {
      "cell_type": "markdown",
      "metadata": {
        "id": "PcdCFhnZWBML"
      },
      "source": [
        "Descripción del modelo:"
      ]
    },
    {
      "cell_type": "code",
      "metadata": {
        "id": "GEqi3-GSWETA",
        "colab": {
          "base_uri": "https://localhost:8080/",
          "height": 644
        },
        "outputId": "5bda6c24-4318-4db2-8499-a672538368a0"
      },
      "source": [
        "tf.keras.utils.plot_model(model, show_shapes=True, show_layer_names=True, rankdir='TB', expand_nested=True, dpi=96)"
      ],
      "execution_count": 30,
      "outputs": [
        {
          "output_type": "execute_result",
          "data": {
            "image/png": "[encoded data removed]",
            "text/plain": [
              "<IPython.core.display.Image object>"
            ]
          },
          "metadata": {
            "tags": []
          },
          "execution_count": 30
        }
      ]
    },
    {
      "cell_type": "markdown",
      "metadata": {
        "id": "8HLcaQ3LWlfN"
      },
      "source": [
        "Se compila el modelo, se agrega un optimizador ADAM (Para optimización del learning rate), con las métricas para clasificación binaria y como función de pérdida se usará la entropía cruzada binaria de keras."
      ]
    },
    {
      "cell_type": "code",
      "metadata": {
        "id": "rITcxtCCB-3-"
      },
      "source": [
        "model.compile(loss=losses.BinaryCrossentropy(from_logits=True),\n",
        "              optimizer='adam',\n",
        "              metrics=tf.metrics.BinaryAccuracy(threshold=0.0))"
      ],
      "execution_count": 31,
      "outputs": []
    },
    {
      "cell_type": "markdown",
      "metadata": {
        "id": "LuOHnRAYXZpp"
      },
      "source": [
        "Se fija el número de épocas para el entrenamiento y el método _.fit_ retorna el histórico de los valores que se usarán para gráficar."
      ]
    },
    {
      "cell_type": "code",
      "metadata": {
        "id": "jshkkjtmCBYE",
        "colab": {
          "base_uri": "https://localhost:8080/"
        },
        "outputId": "2213851e-741c-40a5-ad6b-9d37096b1c1a"
      },
      "source": [
        "epochs = 15\n",
        "history = model.fit(\n",
        "    train_ds,\n",
        "    validation_data=val_ds,\n",
        "    epochs=epochs)"
      ],
      "execution_count": 32,
      "outputs": [
        {
          "output_type": "stream",
          "text": [
            "Epoch 1/15\n",
            "625/625 [==============================] - 13s 19ms/step - loss: 0.6824 - binary_accuracy: 0.6103 - val_loss: 0.6144 - val_binary_accuracy: 0.7726\n",
            "Epoch 2/15\n",
            "625/625 [==============================] - 4s 7ms/step - loss: 0.5799 - binary_accuracy: 0.7831 - val_loss: 0.4976 - val_binary_accuracy: 0.8220\n",
            "Epoch 3/15\n",
            "625/625 [==============================] - 4s 7ms/step - loss: 0.4651 - binary_accuracy: 0.8343 - val_loss: 0.4195 - val_binary_accuracy: 0.8484\n",
            "Epoch 4/15\n",
            "625/625 [==============================] - 4s 6ms/step - loss: 0.3900 - binary_accuracy: 0.8602 - val_loss: 0.3731 - val_binary_accuracy: 0.8610\n",
            "Epoch 5/15\n",
            "625/625 [==============================] - 4s 6ms/step - loss: 0.3446 - binary_accuracy: 0.8765 - val_loss: 0.3447 - val_binary_accuracy: 0.8680\n",
            "Epoch 6/15\n",
            "625/625 [==============================] - 4s 6ms/step - loss: 0.3112 - binary_accuracy: 0.8877 - val_loss: 0.3259 - val_binary_accuracy: 0.8716\n",
            "Epoch 7/15\n",
            "625/625 [==============================] - 4s 6ms/step - loss: 0.2865 - binary_accuracy: 0.8947 - val_loss: 0.3126 - val_binary_accuracy: 0.8734\n",
            "Epoch 8/15\n",
            "625/625 [==============================] - 4s 6ms/step - loss: 0.2663 - binary_accuracy: 0.9028 - val_loss: 0.3031 - val_binary_accuracy: 0.8762\n",
            "Epoch 9/15\n",
            "625/625 [==============================] - 4s 7ms/step - loss: 0.2500 - binary_accuracy: 0.9089 - val_loss: 0.2963 - val_binary_accuracy: 0.8776\n",
            "Epoch 10/15\n",
            "625/625 [==============================] - 5s 7ms/step - loss: 0.2343 - binary_accuracy: 0.9172 - val_loss: 0.2915 - val_binary_accuracy: 0.8790\n",
            "Epoch 11/15\n",
            "625/625 [==============================] - 4s 6ms/step - loss: 0.2208 - binary_accuracy: 0.9206 - val_loss: 0.2884 - val_binary_accuracy: 0.8802\n",
            "Epoch 12/15\n",
            "625/625 [==============================] - 4s 7ms/step - loss: 0.2103 - binary_accuracy: 0.9252 - val_loss: 0.2868 - val_binary_accuracy: 0.8812\n",
            "Epoch 13/15\n",
            "625/625 [==============================] - 4s 6ms/step - loss: 0.1993 - binary_accuracy: 0.9293 - val_loss: 0.2863 - val_binary_accuracy: 0.8814\n",
            "Epoch 14/15\n",
            "625/625 [==============================] - 4s 7ms/step - loss: 0.1878 - binary_accuracy: 0.9338 - val_loss: 0.2862 - val_binary_accuracy: 0.8826\n",
            "Epoch 15/15\n",
            "625/625 [==============================] - 4s 7ms/step - loss: 0.1818 - binary_accuracy: 0.9368 - val_loss: 0.2872 - val_binary_accuracy: 0.8830\n"
          ],
          "name": "stdout"
        }
      ]
    },
    {
      "cell_type": "markdown",
      "metadata": {
        "id": "wXljo9CnYYxt"
      },
      "source": [
        "Al realizar la evaluación retorna las métricas de la función de pérdida y de precisión."
      ]
    },
    {
      "cell_type": "code",
      "metadata": {
        "id": "nk9yjYNlYZqv",
        "colab": {
          "base_uri": "https://localhost:8080/",
          "height": 699
        },
        "outputId": "84f6b9d5-5afb-4411-b86a-4774a28fb1d0"
      },
      "source": [
        "loss, accuracy = model.evaluate(test_ds)\n",
        "\n",
        "#Muchas líneas para que las gráficas se vean más decentes.\n",
        "plt.figure(0)  \n",
        "plt.plot(history.history['binary_accuracy'],'r')  \n",
        "plt.plot(history.history['val_binary_accuracy'],'g')  \n",
        "plt.xticks(np.arange(0, epochs + 1, 2.0))  \n",
        "plt.rcParams['figure.figsize'] = (8, 6)  \n",
        "plt.xlabel(\"Num of Epochs\")  \n",
        "plt.ylabel(\"Accuracy\")  \n",
        "plt.title(\"Training Accuracy vs Validation Accuracy\")  \n",
        "plt.legend(['train','validation'])\n",
        "\n",
        "plt.figure(1)  \n",
        "plt.plot(history.history['loss'],'r')  \n",
        "plt.plot(history.history['val_loss'],'g')  \n",
        "plt.xticks(np.arange(0, epochs + 1, 2.0))  \n",
        "plt.rcParams['figure.figsize'] = (8, 6)  \n",
        "plt.xlabel(\"Num of Epochs\")  \n",
        "plt.ylabel(\"Loss\")  \n",
        "plt.title(\"Training Loss vs Validation Loss\")  \n",
        "plt.legend(['train','validation'])\n",
        "\n",
        "plt.show()"
      ],
      "execution_count": 33,
      "outputs": [
        {
          "output_type": "stream",
          "text": [
            "782/782 [==============================] - 10s 12ms/step - loss: 0.3112 - binary_accuracy: 0.8736\n"
          ],
          "name": "stdout"
        },
        {
          "output_type": "display_data",
          "data": {
            "image/png": "[encoded data removed]",
            "text/plain": [
              "<Figure size 432x288 with 1 Axes>"
            ]
          },
          "metadata": {
            "tags": [],
            "needs_background": "light"
          }
        },
        {
          "output_type": "display_data",
          "data": {
            "image/png": "[encoded data removed]",
            "text/plain": [
              "<Figure size 576x432 with 1 Axes>"
            ]
          },
          "metadata": {
            "tags": [],
            "needs_background": "light"
          }
        }
      ]
    },
    {
      "cell_type": "markdown",
      "metadata": {
        "id": "UFOlduURZ_oS"
      },
      "source": [
        "Se crea el modelo completo con las capas de vectorización a la entrada y una función de activación a la salida."
      ]
    },
    {
      "cell_type": "code",
      "metadata": {
        "id": "ihTsGxXNCevS",
        "colab": {
          "base_uri": "https://localhost:8080/"
        },
        "outputId": "7b6a66b0-eb00-4a67-f2e2-c20aada96026"
      },
      "source": [
        "export_model = tf.keras.Sequential([\n",
        "  vectorize_layer,\n",
        "  model,\n",
        "  layers.Activation('sigmoid')\n",
        "])\n",
        "\n",
        "export_model.compile(\n",
        "    loss=losses.BinaryCrossentropy(from_logits=False), optimizer=\"adam\", metrics=['accuracy']\n",
        ")\n",
        "\n",
        "# Test it with `raw_test_ds`, which yields raw strings\n",
        "loss, accuracy = export_model.evaluate(raw_test_ds)\n",
        "print(accuracy)"
      ],
      "execution_count": 34,
      "outputs": [
        {
          "output_type": "stream",
          "text": [
            "782/782 [==============================] - 11s 14ms/step - loss: 0.3157 - accuracy: 0.8713\n",
            "0.8736400008201599\n"
          ],
          "name": "stdout"
        }
      ]
    },
    {
      "cell_type": "markdown",
      "metadata": {
        "id": "27v_7WveaNwU"
      },
      "source": [
        "El resultado anterior nos muestra una precisión de 87% aproximadamente, lo siguiente será probar directamente con el dataset creado a partir de los twits recolectados, entre más próximo sea el número a 1 el comentario sera más positvo y conforme se aproxime a cero el comentario será negativo."
      ]
    },
    {
      "cell_type": "code",
      "metadata": {
        "id": "bTOh1H-cCjQP",
        "colab": {
          "base_uri": "https://localhost:8080/"
        },
        "outputId": "d65a335a-5d38-4d20-d3d8-87e85eb87217"
      },
      "source": [
        "examples = [\n",
        "  \"The movie was great!\",\n",
        "  \"The movie was okay.\",\n",
        "  \"The movie was bad...\"\n",
        "]\n",
        "\n",
        "export_model.predict(examples)\n",
        "#test_example = export_model.predict(examples)\n",
        "#label_example = np.argmax(test_example, axis=-1)\n",
        "#print(\"{}\\n{}\".format(test_example, label_example))"
      ],
      "execution_count": 72,
      "outputs": [
        {
          "output_type": "stream",
          "text": [
            "[[0.64675325]\n",
            " [0.4295048 ]\n",
            " [0.36078286]]\n",
            "[0 0 0]\n"
          ],
          "name": "stdout"
        }
      ]
    },
    {
      "cell_type": "code",
      "metadata": {
        "id": "fZcoIQtA3Xiy"
      },
      "source": [
        "#ejemplos con corpus\n",
        "tweets_predicted = export_model.predict(corpus_capitol)\n",
        "class_predicted = np.argmax(tweets_predicted, axis=-1)"
      ],
      "execution_count": 36,
      "outputs": []
    },
    {
      "cell_type": "markdown",
      "metadata": {
        "id": "fkfhh7hnsquW"
      },
      "source": [
        "Finalmente se crea una pequeña función para presentar la etiqueta de cada tweet. "
      ]
    },
    {
      "cell_type": "code",
      "metadata": {
        "id": "DTf6JXR0tCRa"
      },
      "source": [
        "def print_predicted(predicted, corpus):\n",
        "  for t in range(len(predicted)):\n",
        "    print(\"Sample number {} of {} (Twitter Set)\\n\".format(t, len(corpus)-1))\n",
        "    if t == 0 :print(\"{:10}\".format(\"Etiqueta\"))\n",
        "    print(\"{:3}:\\t{}\\n\".format(predicted[t], corpus[t]))"
      ],
      "execution_count": 87,
      "outputs": []
    },
    {
      "cell_type": "markdown",
      "metadata": {
        "id": "y8uPQL2V1eP4"
      },
      "source": [
        "Función para definir que sucedió con las opiniones encontradas."
      ]
    },
    {
      "cell_type": "code",
      "metadata": {
        "id": "-13Wy54K0Hwo"
      },
      "source": [
        "def resume_opinions(predicted_values):\n",
        "  count_ones, count_zeros = 0, 0\n",
        "  labels = []\n",
        "  for tweet in predicted_values:\n",
        "    #print(tweet)\n",
        "    if tweet > 0.4999:\n",
        "      labels.append(1)\n",
        "      count_ones += 1 \n",
        "    else:\n",
        "      labels.append(0)\n",
        "      count_zeros += 1\n",
        "\n",
        "  if count_ones > count_zeros:\n",
        "    print(\"Hay más reseñas positvas obre el capitoilio que negativas\")\n",
        "  elif count_ones == count_zeros:\n",
        "    print(\"Las opiniones son iguales\")\n",
        "  else:\n",
        "    print(\"Las opiniones son malas\")\n",
        "  return labels\n"
      ],
      "execution_count": 78,
      "outputs": []
    },
    {
      "cell_type": "code",
      "metadata": {
        "colab": {
          "base_uri": "https://localhost:8080/"
        },
        "id": "EetVGnF_8bJs",
        "outputId": "45fb6f85-3d44-419c-f07c-c96f80a12335"
      },
      "source": [
        "labels_capitol = resume_opinions(tweets_predicted)\n",
        "print_predicted(labels_capitol, corpus_capitol)\n",
        "#print(tweets_predicted)"
      ],
      "execution_count": 80,
      "outputs": [
        {
          "output_type": "stream",
          "text": [
            "Hay más reseñas positvas obre el capitoilio que negativas\n",
            "Sample number 0 of 187 (Twitter Set)\n",
            "\n",
            "Etiqueta  \n",
            "  0:\tAnyone else uncomfortable with @GOP nutjobs bringing guns into the #Capitol? I wouldn't trust someone like @laurenboebert or @mtgreenee with a gun around a lawmaker I care about. C'mon, #Congress!\n",
            "\n",
            "Sample number 1 of 187 (Twitter Set)\n",
            "\n",
            "  0:\t@TheView @MeghanMcCain #RepublicanTerrorists attacked OUR #Capitol   Tag who the #terrorist #Republicans are if they don't want to all be labeled #terrorists   .@FriendEden100  .@WiccanMethusela  .@JtOptimist  .@forevercats  .@JIMBO_Biden2020  .@sunny  .@JoyVBehar\n",
            "\n",
            "Sample number 2 of 187 (Twitter Set)\n",
            "\n",
            "  1:\t@Newsweek \"#WhiteHouse Cleanup After Donald #Trump's Departure Cost at Least $127,000. With 132 rooms, 35 bathrooms, 412 doors and 28 fireplaces the #WH is not an easy building to deep-clean\" #Coronavirus #Covid #Melania #Pence #GOP #MAGA #Terrorism #Capitol #Election #USA #Biden #Jill  https://t.co/Syr9nnwo1I\n",
            "\n",
            "Sample number 3 of 187 (Twitter Set)\n",
            "\n",
            "  0:\tThe question re #CNN isn't why do the retain viewership,  but the more clinical,  why do they retain any advertisers?  @Adweek #Trump #Biden @GOP #dnc #capitol @MediaBuzzFNC @theMRC @foxbusiness  @fordautoads #Walgreens @cvpayne @MariaBartiromo @wsj @Digiday #GRP #Wallet #hannity\n",
            "\n",
            "Sample number 4 of 187 (Twitter Set)\n",
            "\n",
            "  1:\tYou can steal a laptop from the #CapitolRiots and try to sell it to the Russians and get sent home arrest to your mom if you have #WhitePrivilege  Yep 👍🏾 we are not the same.  #Laptop #Capitol\n",
            "\n",
            "Sample number 5 of 187 (Twitter Set)\n",
            "\n",
            "  1:\tFlorida man accused of being in #Capitol riots was arrested at the inauguration, Justice Department says   https://t.co/inzjcVVbr0\n",
            "\n",
            "Sample number 6 of 187 (Twitter Set)\n",
            "\n",
            "  0:\t@politico Also concerned if our soldiers can't handle a heated garage in the #capitol, how on earth will they handle going to #war, sleeping in the dirt?\n",
            "\n",
            "Sample number 7 of 187 (Twitter Set)\n",
            "\n",
            "  1:\t@ABC7Brian Great Capture @marthaswilson👍🏼📷👍🏼 👍🏼💚👍🏼  #WashingtonDC #photo #capitol #politics  \\X/ish ;0)\n",
            "\n",
            "Sample number 8 of 187 (Twitter Set)\n",
            "\n",
            "  0:\tBaker County man who recorded himself during failed #SeditiousGOP #Capitol #insurrection now arrested by #FBI  https://t.co/eysQGqAsZP\n",
            "\n",
            "Sample number 9 of 187 (Twitter Set)\n",
            "\n",
            "  0:\tGREAT NEWS !! Another #MAGA #terrorist arrested!! 😎👍 #MAGATerrorist #Sedition #impeach #CapitolRiot #Capitol #terrorist #TrumpInsurrection #TrumpSupporters #TrumpCoupAttempt #BLM #GOP #GOPBetrayedAmerica #SeditionHasConsequences #NoFlyList #capitolbreach #UNMAGA\n",
            "\n",
            "Sample number 10 of 187 (Twitter Set)\n",
            "\n",
            "  0:\tthere is no place for armed members, nor insurrectionists, in the #Capitol. @CapitolPolice\n",
            "\n",
            "Sample number 11 of 187 (Twitter Set)\n",
            "\n",
            "  0:\t😳😳SENATORS WITH GUNS? #MAGATerrorist #Sedition #impeach #CapitolRiot #Capitol #terrorist #TrumpInsurrection #TrumpSupporters #TrumpCoupAttempt #BLM #GOP #GOPBetrayedAmerica #SeditionHasConsequences #NoFlyList #capitolbreach #GOPComplicitTraitors #UNMAGA\n",
            "\n",
            "Sample number 12 of 187 (Twitter Set)\n",
            "\n",
            "  1:\tI bet! But, I can tell you 2 things: racist know other racists! Racist hangouts with other racist! I hope I don’t offend  you when I hashtag Black People #BlackPeople #Trump #Whites #Capitol #Biden #1776Report #14thAmendmentSection3 #blacklivesmatter   #Ferguson\n",
            "\n",
            "Sample number 13 of 187 (Twitter Set)\n",
            "\n",
            "  1:\t@freekyleusa I bet! But, I can tell you 2 things: racist know other racists! Racist hangouts with other racist! I hope I don’t offend  you when I hashtag Black People #BlackPeople #Trump #Whites #Capitol #Biden #1776Report #14thAmendmentSection3 #blacklivesmatter  #Ferguson\n",
            "\n",
            "Sample number 14 of 187 (Twitter Set)\n",
            "\n",
            "  0:\tWixom man charged with attacking officers during failed #SeditiousGOP #insurrection attempt on US #Capitol   https://t.co/0ebZ4om1l0\n",
            "\n",
            "Sample number 15 of 187 (Twitter Set)\n",
            "\n",
            "  0:\tThis is heartbreaking! 5000 National Guardsmen were forced to vacate congressional grounds on Thursday and are now taking their rest breaks outside and in nearby parking garages. No internet, one bathroom with two stalls only. #FuckBiden #Capitol   https://t.co/xqBY63juSt\n",
            "\n",
            "Sample number 16 of 187 (Twitter Set)\n",
            "\n",
            "  0:\tThere is proof on VIDEO - The #Republican #terrorists in  #Congress who tried to deny a #PresidentialElection &amp; then encouraged a mob to #march to the #Capitol   We saw them try to deny #Election2020\n",
            "\n",
            "Sample number 17 of 187 (Twitter Set)\n",
            "\n",
            "  1:\t@business \"#Trump will be represented at his #impeachment trial by #SC lawyer Butch #Bowers, who’s best known for helping save former governor Mark #Sanford from being removed from office\" #Terrorism #GOP #MAGA #Capitol #Incitement of #Insurrection #Coronavirus #Covid #Election #USA #Biden  https://t.co/HfS3SpqleX\n",
            "\n",
            "Sample number 18 of 187 (Twitter Set)\n",
            "\n",
            "  1:\tTHIS IS HOW NANCY PELOSI AND CONGRESS TREAT OUR NATIONS HEROES THAT HEEDED THE CALL AND CAME TO Washington DC TO SECURE THE #CAPITOL: Now they're tossing the #NationalGuard troops aside!   https://t.co/LaoEyYwkzm\n",
            "\n",
            "Sample number 19 of 187 (Twitter Set)\n",
            "\n",
            "  0:\t#Army changes account of key phone call on response to #Capitol riot  https://t.co/UDLo2Nt6Y0  https://t.co/zbFC2SzvWp\n",
            "\n",
            "Sample number 20 of 187 (Twitter Set)\n",
            "\n",
            "  1:\t#Prosecutors released  #conspiracy_charges against #Oath_Keepers  for their #alleged_attack on the #Capitol.   According to charging documents, Oath Keepers—  who count current and #former_law_enforcement and #military_among their #members—used a #walkie_Talkie app.. @DailyBeast_\n",
            "\n",
            "Sample number 21 of 187 (Twitter Set)\n",
            "\n",
            "  1:\tDEMOCRATS GOT THEIR PHOTO OP OF WASHINGTON DC ON LOCKDOWN: \"We Feel Incredibly Betrayed!\" Congress is forcing the #NationalGuard out of areas where they were set up. Often without notice. Thousands of Guardsmen forced to vacate #Capitol!  https://t.co/K42iLwUzZO\n",
            "\n",
            "Sample number 22 of 187 (Twitter Set)\n",
            "\n",
            "  0:\tDear Republicans, If you want us to take you seriously, renounce your party affiliation now. The leader of your party coordinated a deadly armed insurrection that damaged our #Capitol.  Otherwise, your words mean nothing. Sincerely, Everybody in America  #Rutgers #PrincetonU\n",
            "\n",
            "Sample number 23 of 187 (Twitter Set)\n",
            "\n",
            "  0:\t@ThomasSowell So true. You hear the same thing over and over again and you start believing it Unfortunately. As we have with people drinking the dem koolaid   https://t.co/XEyMp1QODV #capitol #trump #biden #fbi #impeachment #unity ❗ 🗣 🛏  https://t.co/CiNLK6SFre\n",
            "\n",
            "Sample number 24 of 187 (Twitter Set)\n",
            "\n",
            "  0:\t#DemocratsAreDestroyingAmerica  #pathetic #americalast #nationalguard #capitol\n",
            "\n",
            "Sample number 25 of 187 (Twitter Set)\n",
            "\n",
            "  0:\tYou, @NMalliotakis spread the #BigLie that gave comfort to the violent #insurrectionists at the #Capitol. You’re a disgrace &amp; should be expelled.\n",
            "\n",
            "Sample number 26 of 187 (Twitter Set)\n",
            "\n",
            "  1:\tSUPPORT OUR POLITICAL PRISONERS HELD BY THE FBI  Tomorrow it may be you.  #Capitol #Protest\n",
            "\n",
            "Sample number 27 of 187 (Twitter Set)\n",
            "\n",
            "  0:\tHoly shite!!! I knew these people were out of their minds but...WOW!   #QAnonCult  #QAnonmeltdown #Q #TrumpCult #Trump #CapitolRiot #Capitol #GOPComplicitTraitors #GOP #Parler\n",
            "\n",
            "Sample number 28 of 187 (Twitter Set)\n",
            "\n",
            "  0:\tBy the power of editing, I compiled everything I saw in my feed during the #Storming of the #Capitol ⚡️ 🍿🍿👇  https://t.co/YCREZBAr9l  https://t.co/jud5ZRiQ1i\n",
            "\n",
            "Sample number 29 of 187 (Twitter Set)\n",
            "\n",
            "  0:\t#Capitol #Hill Security #Failures: Heads To Roll? 68 #Attackers Arrested Orderly #Transition Of Power: President #Trump e Scheme Against Medicare #Casino #Boss #Sheldon #Adelson Dead At 87: Major #GOP #Supporter Trump Rejects Responsibility For #Riots #  https://t.co/LDg3C2N7Ha\n",
            "\n",
            "Sample number 30 of 187 (Twitter Set)\n",
            "\n",
            "  1:\tTBT, United States Capitol, Washington #tbt #me #memories #capitol #capitolio #washington #usa #unforgettable #amazing #pic #photography #followme #luchin482014 en United States Capitol  https://t.co/Vinroj2jKm\n",
            "\n",
            "Sample number 31 of 187 (Twitter Set)\n",
            "\n",
            "  1:\tRep Malliotakis actions gave aid &amp; comfort to our enemy who stormed our #Capitol. She is just as guilty as the rest of the traitorous #seditionists..  She should be expelled. @NMalliotakis @Pelosi @SenSchumer\n",
            "\n",
            "Sample number 32 of 187 (Twitter Set)\n",
            "\n",
            "  1:\t@nytimes \"Many types of Republicans — from 'Never Trumpers' to those derided as 'Republicans in name only' — are jostling for the future of their party after former President #Trump's departure from the #WhiteHouse\"  #Capitol #Terrorism #GOP #MAGA #Pence #Pelosi #Election #USA #Biden  https://t.co/uhtjHHVZHl\n",
            "\n",
            "Sample number 33 of 187 (Twitter Set)\n",
            "\n",
            "  0:\t@ChuckGrassley Oh!!! Chuck... Nice try... W. the #Capitol, we are talking abt @GOP #DomesticTerrorism!!!!\n",
            "\n",
            "Sample number 34 of 187 (Twitter Set)\n",
            "\n",
            "  0:\t'We feel incredibly betrayed': Thousands of #Guardsmen forced to vacate #Capitol.    Thanks #Biden!    https://t.co/YYtMYauUbb via @politico\n",
            "\n",
            "Sample number 35 of 187 (Twitter Set)\n",
            "\n",
            "  1:\t@SenTedCruz PEACEFUL?  YOU LOUSY #SEDITIOUS SNAKE.  We will NEVER FORGET what you did. We will NEVER FORGET the part YOU played in the #SIEGE on our nation’s #CAPITOL, in the #MURDER of a police officer.  Run &amp; Hide, you #TRAITOR. Better yet, #RESIGN.\n",
            "\n",
            "Sample number 36 of 187 (Twitter Set)\n",
            "\n",
            "  1:\tMost definitely, someone needs to get to the bottom of the #GOPComplicitTraitors swamp. #LockThemUp with #trump and his #insurrection on the United States #Capitol\n",
            "\n",
            "Sample number 37 of 187 (Twitter Set)\n",
            "\n",
            "  1:\t https://t.co/p1B3be4w7S #Faith #corona #SiguemeYTeSigo #BREAKING #Vtuber #coronavirus  #CoronaVaccine #buyingcontent #liveline  #coronadebat #Coronasverige #COVID19 #Instagram #Warzone #insurrection #lockdown #attackontitan #Capitol #win  #WWENXT #indiedev #INDvsAUS #art #WHO nk\n",
            "\n",
            "Sample number 38 of 187 (Twitter Set)\n",
            "\n",
            "  0:\t'We feel incredibly betrayed': Thousands of Guardsmen forced to vacate #Capitol   https://t.co/O7eVqCPWsb via @politico\n",
            "\n",
            "Sample number 39 of 187 (Twitter Set)\n",
            "\n",
            "  1:\tNearly 1 in 5 defendants in #Capitol riot cases served in the military   https://t.co/ovXXgLMNpS\n",
            "\n",
            "Sample number 40 of 187 (Twitter Set)\n",
            "\n",
            "  0:\tFBI ups #reward to $75,000 for suspect who placed pipe bombs during #Capitol #riot #SmartNews   https://t.co/IgL1c37rIp\n",
            "\n",
            "Sample number 41 of 187 (Twitter Set)\n",
            "\n",
            "  0:\tEarlier this mo., #Nevada Assemblywoman Annie Black participated in the #Capitol attack. Traitors like her must be expelled from the halls of gov. I just wrote this letter to one of her counterparts asking for just that.   Treason: NOT a local issue. #Philately #PostboxSaturday  https://t.co/fPZPvDBG7P\n",
            "\n",
            "Sample number 42 of 187 (Twitter Set)\n",
            "\n",
            "  1:\t#Facebook Gives #FBI Private Messages Of Users Discussing #Capitol Hill #Riot —Forbes  Amongst the data provided by Facebook were private messages with other users. When one contact told him to stay safe and to be on the lookout for Antifa.   https://t.co/RJFqSiPNrx\n",
            "\n",
            "Sample number 43 of 187 (Twitter Set)\n",
            "\n",
            "  1:\t@RepMTG  actual Articles of #impeachment   #Senate #Capitol #CapitolRiots\n",
            "\n",
            "Sample number 44 of 187 (Twitter Set)\n",
            "\n",
            "  0:\tWhile the former president was being permanently banned from the #socialmedia platform in the wake of the riot at the U.S. #Capitol, #investors were seeing the value of their holdings shrink.  #Twitter stock is down 12% thus far in 2021.  https://t.co/2cTXOl5gjE\n",
            "\n",
            "Sample number 45 of 187 (Twitter Set)\n",
            "\n",
            "  0:\t@bennyjohnson I’m old enough to remember Obama strategically purged the officer ranks via the obscure SES then... Now, #Biden, weaponizing FBI, is purging pro-America foot soldiers... Interesting times ahead! #Military #Capitol #InaugurationDay    https://t.co/Xh0SMVag2G\n",
            "\n",
            "Sample number 46 of 187 (Twitter Set)\n",
            "\n",
            "  0:\t@AdamMilstein Man, you have got to be zany if you think this is scandalous at all. Trump is literally responsible for the deaths of over 410,000 Americans &amp; a direct attack on our #Capitol. This is just really weak stuff. #Rutgers #PrincetonU #MAGA  https://t.co/50sRl1t4so\n",
            "\n",
            "Sample number 47 of 187 (Twitter Set)\n",
            "\n",
            "  1:\tCan you imagine storming the #Capitol with your fully grown self not even thinking...I wondered what happens to me, to others, when I, as a mob outgrowth insurrectionist do coup illegal stuff like this. Because if you can imagine...\n",
            "\n",
            "Sample number 48 of 187 (Twitter Set)\n",
            "\n",
            "  0:\tA hunch led to the storming of the #Capitol &amp; to death of 5 people🔥  Claim of #election fraud was based on lies &amp; allegations like #Trump's entire #presidency🎃  #RudyGiuliani Melts Down On Fox &amp; Admits He Has No Election Fraud Evidence  https://t.co/ziMBleIwPS via @politicususa\n",
            "\n",
            "Sample number 49 of 187 (Twitter Set)\n",
            "\n",
            "  0:\t@NMalliotakis Funny @NMalliotakis it seems until yesterday that IS how it worked. What changed since Jan. 20th?  AND agree to disagree respectfully usually doesn't include killing police, smashing windows, stealing computers, trashing the #Capitol. Maybe u shld clean house b4 asking 4 respect.\n",
            "\n",
            "Sample number 50 of 187 (Twitter Set)\n",
            "\n",
            "  1:\tThe media love fest for @JoeBiden has begun. NOW give him the Peace prize.  #usa #Capitol #Biden #trump #Peace\n",
            "\n",
            "Sample number 51 of 187 (Twitter Set)\n",
            "\n",
            "  0:\tHow To Win After Trump, Part II: All Politics Are Local   https://t.co/1gpVS3nRWE  #Trump #RepublicansDontCare #Democrats  #organizing #Capitol #CapitolRiots  https://t.co/BR0XiR1STf\n",
            "\n",
            "Sample number 52 of 187 (Twitter Set)\n",
            "\n",
            "  0:\t@JRosenworcel @fenrir_71 @POTUS @FCC Congratulations. Pls investigate FoxNews/other RW media for blatant lies #IncitementToInsurrection. Dangerous propaganda is like yelling Fire in a crowd. Was used by Fox et. al to #incite Trumpers to trash #Capitol/kill police/hunt down elected officials. #SeditionHasConsequences\n",
            "\n",
            "Sample number 53 of 187 (Twitter Set)\n",
            "\n",
            "  0:\tDOJ: 'Zip tie guy' #EricGavelekMunchel and mother, #LisaMarieEisenhart stashed weapons outside #Capitol.  https://t.co/aytNHSV0Yt via @WUSA9\n",
            "\n",
            "Sample number 54 of 187 (Twitter Set)\n",
            "\n",
            "  0:\tA #Maryland man who turned himself in with authorities earlier this week after allegedly assaulting law enforcement officers at the U.S. #Capitol on Jan. 6 said he was not there in support of former President Donald #Trump.   https://t.co/D8ky9M40Nu\n",
            "\n",
            "Sample number 55 of 187 (Twitter Set)\n",
            "\n",
            "  1:\tLooks like the white-right is backpeddling hard now that many nof their fellow #Seditionists are being arrested. One exiled #OathKeeper who called for arms at the #Capitol is scared by #FBI arrests. Deterrence works, so #ProsecuteTrump   https://t.co/z55quwxx3h via @thedailybeast\n",
            "\n",
            "Sample number 56 of 187 (Twitter Set)\n",
            "\n",
            "  1:\tListen to \"Get Your Humor High! If Laughter is the Best Medicine? Why aren’t you laughing more? Be a Standup. \" by Grandpa Jim. ⚓  https://t.co/7M7b7PKmEt #uk #london #navy #camp #largo #capitol #rizzo #bryce #miketrout #california #angels #anaheim\n",
            "\n",
            "Sample number 57 of 187 (Twitter Set)\n",
            "\n",
            "  0:\t@CarlB40 @ABC7Brian @capitalweather Great Capture @CarlB40! 👍🏼📷👍🏼 👍🏼💚👍🏼 #photo  @ABC7Brian @capitalweather #WashingtonDC #Capitol  \\X/ish ;0)\n",
            "\n",
            "Sample number 58 of 187 (Twitter Set)\n",
            "\n",
            "  0:\tThis isn't the kind of email I expected to see from the East High School superintendent in Madison, WI...  #madison #madisonwi #Wisconsin #capitol #news #schools @madisondotcom @channel_3000 @WISCTV_News3 @nbc15_madison @WKOW  https://t.co/7YTYpWSX0o\n",
            "\n",
            "Sample number 59 of 187 (Twitter Set)\n",
            "\n",
            "  1:\t@ChuckGrassley Waiting for the #GOP to condemn the insurrection on the #Capitol\n",
            "\n",
            "Sample number 60 of 187 (Twitter Set)\n",
            "\n",
            "  0:\t@VoteMarsha You mean the one that he completely ignored #COVID19 used tear gas to get rid of peaceful protestors to hold a bible upside down for a phot op or the insurgency he placed three weeks ago at the #Capitol\n",
            "\n",
            "Sample number 61 of 187 (Twitter Set)\n",
            "\n",
            "  1:\t@PressSec I am grateful for the regular press briefing you will be holding, and regular briefing on COVID. What I want to see is a regular briefing on the response to the the attack on the #Capitol. When will we hear where things are with investigation and arrests? #CapitolRiots\n",
            "\n",
            "Sample number 62 of 187 (Twitter Set)\n",
            "\n",
            "  0:\tSee she is liked playing whack a mole🔨 First she sucks me in liked a blackhole🕳️ Then she storms me liked I am the #Capitol With her #MeToo lies that has left me baffled While she runs off with this guy and cuts her ties Just to stick it to me &amp; get #married to him in a chapel💒  https://t.co/2Y7nJxnVV0\n",
            "\n",
            "Sample number 63 of 187 (Twitter Set)\n",
            "\n",
            "  0:\tSee she is liked playing whack a mole🔨 First she sucks me in liked a blackhole🕳️ Then she storms me liked I am the #Capitol With her #MeToo lies that has left me baffled While she runs off with this guy and cuts her ties Just to stick it to me &amp; get #married to him in a chapel💒  https://t.co/aZ0wdE9kaB\n",
            "\n",
            "Sample number 64 of 187 (Twitter Set)\n",
            "\n",
            "  1:\tNearly 20% of those arrested for their desecration of our #Capitol have served in the military. #ProsecuteTheTraitors #US Military needs to restore respect for this country and its citizens, without bias or racism.   https://t.co/y4dwACIX3u\n",
            "\n",
            "Sample number 65 of 187 (Twitter Set)\n",
            "\n",
            "  1:\t@ChangeAbout1 @mcbradoc @SenTedCruz meanwhile it the bowels of the #Capitol .... ping ping ping pingpingping.......got'em got'em got'em\n",
            "\n",
            "Sample number 66 of 187 (Twitter Set)\n",
            "\n",
            "  0:\t@dotjenna @EpochTimes @Parkerlator No, just in prison for your part in trying to overthrow democracy, #CapitolRiots #Capitol #OfficerSicknick #OfficerEugeneGoodman\n",
            "\n",
            "Sample number 67 of 187 (Twitter Set)\n",
            "\n",
            "  1:\t@bad_takes Imagine what #FoxNews they would say about a real things that happened! like the flags from the US #Capitol their loyal viewers and #seditionist #Traitors  threw into the ground to replace it with #Trump flags, or the ones they  used to beat to death #cops and other #Americans.\n",
            "\n",
            "Sample number 68 of 187 (Twitter Set)\n",
            "\n",
            "  0:\t“Kennedy doesn’t see the #Capitol rioters as the only symptom, and he doesn’t hold them solely responsible for the country’s current malady. Blame—and, he says, “shame”—also lie with elected leaders who furthered President #DonaldTrump’s efforts to delegitimize the election.”\n",
            "\n",
            "Sample number 69 of 187 (Twitter Set)\n",
            "\n",
            "  1:\t***SUNDAY*** As we come off the events at the #capitol and move into a #Biden #presidency, many questions remain. What is #fascism? How is that connected to what we saw at the capitol? What happens to the right-wing now that Trumps presidency is over?  https://t.co/nSb8T1r9dc\n",
            "\n",
            "Sample number 70 of 187 (Twitter Set)\n",
            "\n",
            "  0:\t#FBI offers $75,000 reward for #US #Capitol pipe #bomb suspect   https://t.co/Uhcz0TrhUn\n",
            "\n",
            "Sample number 71 of 187 (Twitter Set)\n",
            "\n",
            "  0:\tSee she is liked playing whack a mole🔨 First she sucks me in liked a blackhole🕳️ Then she storms me liked I am the #Capitol With her #MeToo lies that has left me baffled While she runs off with this guy and cuts her ties Just to stick it to me &amp; get #married to him in a chapel💒  https://t.co/Pi9fy0hjzj\n",
            "\n",
            "Sample number 72 of 187 (Twitter Set)\n",
            "\n",
            "  1:\t@dotjenna The truth of the matter is that 'Q' doesn't exist; it was a myth to lure idiots and you just happen to be one of many.  You stormed the #Capitol, were sought by the #FBI and now have a court hearing.  No sympathy for you; it's your own doing.\n",
            "\n",
            "Sample number 73 of 187 (Twitter Set)\n",
            "\n",
            "  0:\tSee she is liked playing whack a mole🔨 First she sucks me in liked a blackhole🕳️ Then she storms me liked I am the #Capitol With her #MeToo lies that has left me baffled While she runs off with this guy and cuts her ties Just to stick it to me &amp; get #married to him in a chapel💒  https://t.co/ofFRaZ3tvl\n",
            "\n",
            "Sample number 74 of 187 (Twitter Set)\n",
            "\n",
            "  1:\tFormer #Marine accused of assaulting officers during #Capitol #riot told #FBI he 'got caught up in the moment'  https://t.co/zLyOpIbVhy | @CNN\n",
            "\n",
            "Sample number 75 of 187 (Twitter Set)\n",
            "\n",
            "  1:\t#FYI, this is what President #Trump is about, #America. The #democrats are the ones who encouraged #violence &amp; started the riots at the #Capitol when they sent antifa &amp; other goons disguised as conservatives. Everyone knows this. @CNN #cnn @msnbc #msnbc @nytimes #newyorktimes\n",
            "\n",
            "Sample number 76 of 187 (Twitter Set)\n",
            "\n",
            "  1:\t@lotusflowah @pvdeveloper Very well put, thanks for a much-needed laugh! 😄😄😄  You think their #racism stems from their jealousy at not being able to get a proper toasty tan?😉  #CapitolHill #Capitol #CapitolRiots #capitolbreach #CapitolHillRiots #DomesticTerrorists #DomesticTerrorism #DomesticTerrorist\n",
            "\n",
            "Sample number 77 of 187 (Twitter Set)\n",
            "\n",
            "  0:\tNot very #bluelivesmatter #lawandorder of him. \"...arrested a man suspected of using a hockey stick to repeatedly hit police officers during the Jan. 6 #riot at the #Capitol—incl beating one who had already fallen to the ground.\"#capitolriot   https://t.co/WhoJMPd0wW\n",
            "\n",
            "Sample number 78 of 187 (Twitter Set)\n",
            "\n",
            "  1:\t@Sephardi_1492 @CNNPolitics @CNN @FBI @SpeakerPelosi @HouseDemocrats @MSNBC @maddow @JoyAnnReid @morningmika @Morning_Joe @ProjectLincoln Thank you for helping more people see this connection. I’m sure @FBI @FBIWFO &amp; @FBIDenver are all well aware. The more the people know, the louder the outcry will be. And I want her and her gun OUT of the #capitol. @RepBoebert is a national disgrace. #arresther\n",
            "\n",
            "Sample number 79 of 187 (Twitter Set)\n",
            "\n",
            "  0:\tWhy does #TrumpTerrorist #AndyHarris have a gun in the #Capitol?\n",
            "\n",
            "Sample number 80 of 187 (Twitter Set)\n",
            "\n",
            "  1:\tHoly 💩! Some Trumpists think #Biden is not in the White House but on a film set. It’s both hilarious and disturbing. #CapitolRiot #Capitol   #trump #Inauguration2021 #Inauguration\n",
            "\n",
            "Sample number 81 of 187 (Twitter Set)\n",
            "\n",
            "  0:\t#FBI Accuses #capitol Rioters of Conspiracy #politics   https://t.co/O8IpomMI6x\n",
            "\n",
            "Sample number 82 of 187 (Twitter Set)\n",
            "\n",
            "  1:\t@dotjenna @tom40yrs @Inman You weren't 'set up', you went to DC on your own free will; you posted to social media that you and the rest of the mob were going to storm the #Capitol.  You're asking for donations, you've asked for a pardon from Trump that will not be forthcoming.  All of this, is on YOU!\n",
            "\n",
            "Sample number 83 of 187 (Twitter Set)\n",
            "\n",
            "  1:\t@ACUConservative what is your position on the attack on the #CapitolRiots and #DonaldTrump and @mschlapp support of the movement that led to the #Capitol attack\n",
            "\n",
            "Sample number 84 of 187 (Twitter Set)\n",
            "\n",
            "  1:\tUS lawmakers ask #FBI to investigate #Parler #app's role in #Capitol #attack  https://t.co/BCJA3l8QOu\n",
            "\n",
            "Sample number 85 of 187 (Twitter Set)\n",
            "\n",
            "  0:\tmore than one laptop was stolen when #MAGA attacked #capitol during the #attemptedcoup @FBIWFO  https://t.co/iG7LHXKyRi\n",
            "\n",
            "Sample number 86 of 187 (Twitter Set)\n",
            "\n",
            "  0:\tThe armed protests of the presidential inauguration didn't really go as planned. Chris was disappointed that it didn't happen.. Find out why  Full video:  https://t.co/wxQ5Y3iMvb  #Trump #protests #CapitolRiot #CapitolRiots #Capitol #BreakingNews #BREAKING  https://t.co/O4bmWVi2wA\n",
            "\n",
            "Sample number 87 of 187 (Twitter Set)\n",
            "\n",
            "  1:\tSo, Trump was the performer, the speech was the concert and the fight/shooting was the #CapitolRiots.  Why is he responsible as well as the others that didn't go into the Capitol AND the people that didn't go to DC?  #ImpeachTrump  #BidenCrimeFamilly  #NotMyPresident  #Capitol\n",
            "\n",
            "Sample number 88 of 187 (Twitter Set)\n",
            "\n",
            "  0:\t@RepMTG @JoeBiden The #Capitol was attacked by #WhiteSupremacist #DomesticTerrorists, just like you &amp; you helped them. You're #antiAmerican for cheering as they beat #PoliceOfficers &amp; #murdered an #officer. Obviously, you hate #America, you hate #cops &amp; need to be in jail not office. @GOP  #recall\n",
            "\n",
            "Sample number 89 of 187 (Twitter Set)\n",
            "\n",
            "  0:\t@RepMTG @JoeBiden The #Capitol was attacked by #WhiteSupremacist #DomesticTerrorists, just like you &amp; you helped them. You're #antiAmerican for cheering as they beat #PoliceOfficers &amp; #murdered an #officer. Obviously, you hate #America, you hate #cops &amp; need to be in jail not office. @GOP  #recall\n",
            "\n",
            "Sample number 90 of 187 (Twitter Set)\n",
            "\n",
            "  0:\t@RepMTG @JoeBiden The #Capitol was attacked by #WhiteSupremacist #DomesticTerrorists, just like you &amp; you helped them. You're #antiAmerican for cheering as they beat #PoliceOfficers &amp; #murdered an #officer. Obviously, you hate #America, you hate #cops &amp; need to be in jail not office. @GOP  #recall\n",
            "\n",
            "Sample number 91 of 187 (Twitter Set)\n",
            "\n",
            "  0:\t@RepMTG @JoeBiden The #Capitol was attacked by #WhiteSupremacist #DomesticTerrorists, just like you &amp; you helped them. You're #antiAmerican for cheering as they beat #PoliceOfficers &amp; #murdered an #officer. Obviously, you hate #America, you hate #cops &amp; need to be in jail not office. @GOP  #recall\n",
            "\n",
            "Sample number 92 of 187 (Twitter Set)\n",
            "\n",
            "  1:\tMore Troops Arrive After Inauguration \"Tribute to our Troops\" - Washingt...  https://t.co/rD7JyQ3RmI via @YouTube  Tribute to the troops.  Please like and subscribe on YouTube. Thanks. #nationalguard #troops #military #capitol #capitolbuilding #inauguration\n",
            "\n",
            "Sample number 93 of 187 (Twitter Set)\n",
            "\n",
            "  0:\tSeriously, why does @RepJasonCrow keep insisting that the Jan 6 #Capitol event was #RACIALLY motivated???  HOW??? Someone please explain that to me.\n",
            "\n",
            "Sample number 94 of 187 (Twitter Set)\n",
            "\n",
            "  0:\t.@FBI spokeswoman Laura Eimiller said the three @CityofBevHills residents were arrested without incident with the assistance of the @BeverlyHillsPD   #beverlyhills #bevhills #capitol #capitolriot #riot #uscapitol #trump #donaldtrump #crime #bhcrime   https://t.co/H99llHEGCO\n",
            "\n",
            "Sample number 95 of 187 (Twitter Set)\n",
            "\n",
            "  1:\tBernie defendendo o Capitólio.  Bernie protecting Capitol.   #berniesanders #capitol #campinagrande #washington  https://t.co/omDmTJgETN\n",
            "\n",
            "Sample number 96 of 187 (Twitter Set)\n",
            "\n",
            "  1:\tMore Troops Arrive After Inauguration \"Tribute to our Troops\" - Washingt...  https://t.co/ePFOWpNtOh via @YouTube  Tribute to the troops.  Please like and subscribe on YouTube. Thanks. #nationalguard #troops #military #capitol #capitolbuilding #inauguration\n",
            "\n",
            "Sample number 97 of 187 (Twitter Set)\n",
            "\n",
            "  1:\t#ghostbusters #muncher #seesomethingsaysomething #capitol #whoyagonnacall  https://t.co/bj1Y5URci4\n",
            "\n",
            "Sample number 98 of 187 (Twitter Set)\n",
            "\n",
            "  1:\tSome say that old man @BernieSanders can still be seen sitting in that very spot from inauguration day #Capitol  https://t.co/51Kl95UbMb\n",
            "\n",
            "Sample number 99 of 187 (Twitter Set)\n",
            "\n",
            "  1:\t\"Even if you think ...that they’re confused, there are people that populate every gradation of the the ideological spectrum right up to where these insurrectionists exist.\"  Find at @biggerpicmedium on @Medium   https://t.co/JyR8KVZLQ5  #writing #Politics #Capitol #amwriting\n",
            "\n",
            "Sample number 100 of 187 (Twitter Set)\n",
            "\n",
            "  0:\t.@RepAdamSchiff is looking forward to the new @POTUS @JoeBiden and @VP @KamalaHarris administration.  “[It’s] a chance to turn a corner,” Schiff said.   #inauguration #joebiden #kamalaharris #bidenharris #inaugurationday #riot #capitol #uscapitol #covid19   https://t.co/yqLpstPYnN\n",
            "\n",
            "Sample number 101 of 187 (Twitter Set)\n",
            "\n",
            "  1:\t@VoteMarsha Everyday huh? Except on January 6th right?   #CapitolRiot #Capitol #CapitolBuilding\n",
            "\n",
            "Sample number 102 of 187 (Twitter Set)\n",
            "\n",
            "  0:\t@donwinslow How do # Trump's #WhiteSupremacists &amp; other #QAnons feel about his saying he would lead them on the walk to the #Capitol on #January6th, but he didn't &amp; never intended to. The #BigLie. They are going to prison &amp; he's golfing, dining &amp; earning BIG$ in LUXURY at #Mar ALago\n",
            "\n",
            "Sample number 103 of 187 (Twitter Set)\n",
            "\n",
            "  1:\tOur new Press Secretary is acting like a high school kid that didn’t prepare for her presentation lol but I’m sure she’ll be pressed by our devoted unbiased press. #Capitol\n",
            "\n",
            "Sample number 104 of 187 (Twitter Set)\n",
            "\n",
            "  0:\tHow do # Trump's #WhiteSupremacists &amp; other #QAnons feel about his saying he would lead them on the walk to the #Capitol on #January6th, but he didn't &amp; never intended to. The #BigLie. They are going to prison &amp; he's golfing, dining &amp; earning BIG$ in LUXURY at #Mar ALago\n",
            "\n",
            "Sample number 105 of 187 (Twitter Set)\n",
            "\n",
            "  0:\tThe #NationalGuard deployed less than 4.5% of its total forces to The #Capitol to defend it from insurrectionists who were so well-armed that they sold out gun stores for months.  This was the moment so many of you #2A nutjobs were waiting for. Loaded for bear, you wrote farewell\n",
            "\n",
            "Sample number 106 of 187 (Twitter Set)\n",
            "\n",
            "  0:\t12 National Guardsmen were pulled out of Joe Biden's inauguration for ties with right-wing militia groups, controversial social media posts #NationalGuard #UnitedStates #USA #JoeBiden #WashingtonDC #Capitol  https://t.co/J88WX9oFa3\n",
            "\n",
            "Sample number 107 of 187 (Twitter Set)\n",
            "\n",
            "  1:\t https://t.co/6bxsnrKjGc United States #capitol #whiskey #tumbler Glass Etc  https://t.co/7zdTyEyzln\n",
            "\n",
            "Sample number 108 of 187 (Twitter Set)\n",
            "\n",
            "  1:\tListen to: Trump Terror \"How to Heal Your Mental Health Trauma of Him Mocking a Disabled Person and Other of His Traumas!\"   https://t.co/FLzwb0q3mL #uk #london #navy #camp #largo #capitol #rizzo #bryce #miketrout #california #angels #anaheim #minutemen\n",
            "\n",
            "Sample number 109 of 187 (Twitter Set)\n",
            "\n",
            "  0:\tPeople of Georgia. Members of Congress.  I hear-by call for the immediate removal of Marjorie Taylor Greene @RepMTG @mtgreenee from Congress.  She poses a clear and imminent threat to the nation and is overwhelmingly ridiculous.  #MarjorieTaylorGreene #GOPBetrayedAmerica #Capitol\n",
            "\n",
            "Sample number 110 of 187 (Twitter Set)\n",
            "\n",
            "  1:\t#Army now #acknowledges the #brother of #Michael #Flynn was a part of #Army response to #Capitol #riot   https://t.co/2ePxTT3272\n",
            "\n",
            "Sample number 111 of 187 (Twitter Set)\n",
            "\n",
            "  1:\tWe dig deep into the legacy of white supremacy and uneven policing, as we enter a new national chapter  New episode with David Cunningham @DCunningham_STL live   #WhiteSupremacy  #Policing #Capitol #Insurrection   https://t.co/ZweZEbkDwI\n",
            "\n",
            "Sample number 112 of 187 (Twitter Set)\n",
            "\n",
            "  0:\t@laurenboebert Tick tock tick tock tick tock the FBI will be along shortly to discuss your treasonous acts on the days leading up to the riot. #BoebertIsATraitor #CapitolBuilding #CapitolRiot #Capitol #LaurenBoebertForPrison #Boebert\n",
            "\n",
            "Sample number 113 of 187 (Twitter Set)\n",
            "\n",
            "  0:\tBREAKING NEWS   @BernieSanders pre-inauguration tunes #revealed   #BernieSanders #BREAKING #Inauguration2021 #InaugurationDay #Capitol #BCMG #Honored  https://t.co/ob53YvW1oW\n",
            "\n",
            "Sample number 114 of 187 (Twitter Set)\n",
            "\n",
            "  0:\t“The Scream!” #berniesanders #berniememe #mittens #medicareforall #democrats  #capitol #inauguration #feelthebern #feelthebrrrn  https://t.co/jTO7VWxPn0\n",
            "\n",
            "Sample number 115 of 187 (Twitter Set)\n",
            "\n",
            "  1:\t#Capitol #CapitolRiots #capitolbreach #incitementofinsurrection #JAN6  “@POTUS45” #Trump #StopTheSteal #Alexander #Gosar #Biggs #Brooks #SaveAmericaMarch #PAC “#electiondefense” #insurrection #sedition “#weakRepublicans” “#fightlikehell” #Giuliani “#trialbycombat” #impeachment\n",
            "\n",
            "Sample number 116 of 187 (Twitter Set)\n",
            "\n",
            "  0:\t\"In the wake of siege on #US #Capitol Jan 6 #America is facing fundamentally imp questions. On Jan 25 panel of experts will focus on causes &amp; consequences of Capitol siege at a Munk School Zoom from 3 – 4 PM ET. Discuss future of American democratic experiment\" #democracy\n",
            "\n",
            "Sample number 117 of 187 (Twitter Set)\n",
            "\n",
            "  1:\tOn #donors &amp; #Insurrection - #PeterThiel helped bankroll the #GOP #politicians who incited the #Capitol insurrection.   https://t.co/hypi99vM1P\n",
            "\n",
            "Sample number 118 of 187 (Twitter Set)\n",
            "\n",
            "  1:\tJoe Biden official actions as president For full details visit 👇  https://t.co/NJ61pcSWUn #CapitolRiot #CapitolRiots #AmericaOrTrump #AfterTrump #11thHour #Capitol #14thAmendmentSection3\n",
            "\n",
            "Sample number 119 of 187 (Twitter Set)\n",
            "\n",
            "  1:\t https://t.co/p1B3be4w7S #Faith #corona #SiguemeYTeSigo #BREAKING #Vtuber #coronavirus  #CoronaVaccine #buyingcontent #liveline  #coronadebat #Coronasverige #COVID19 #Instagram #Warzone #insurrection #lockdown #attackontitan #Capitol #win  #WWENXT #indiedev #INDvsAUS #art #WHO ,/?\n",
            "\n",
            "Sample number 120 of 187 (Twitter Set)\n",
            "\n",
            "  1:\t https://t.co/p1B3be4w7S #Faith #corona #SiguemeYTeSigo #BREAKING #Vtuber #coronavirus  #CoronaVaccine #buyingcontent #liveline  #coronadebat #Coronasverige #COVID19 #Instagram #Warzone #insurrection #lockdown #attackontitan #Capitol #win  #WWENXT #indiedev #INDvsAUS #art #WHO mn\n",
            "\n",
            "Sample number 121 of 187 (Twitter Set)\n",
            "\n",
            "  1:\t#schoolmemories #tvkantine #Bernie #ThisMorning #Pelosi #14thAmendmentSection3 @Thogden #impeachment #ImpeachedTwice #ConvictAndRemove #JusticeMatters #11thHour #25thAmendment #1776Again #11thHour #Boebert #14thAmendmentSection3 #American #Capitol #CapitolRiot #AliAlexander\n",
            "\n",
            "Sample number 122 of 187 (Twitter Set)\n",
            "\n",
            "  1:\t@cbrennansports Frankly, I think it’s shameful that #JackNicklaus, #GaryPlayer and #AnnikaSorenstam are still #Trump supporters after #Trump urged his followers to march to the #Capitol, which ended in chaos and dead bodies.\n",
            "\n",
            "Sample number 123 of 187 (Twitter Set)\n",
            "\n",
            "  1:\tAnd eggroll strikes again #HellsKitchen #21ISCOMING #furryart #furry #funny #comedy #WearAMask  #holyshit #OMG #imback #img20plus #WeWantMore #NowPlaying #animation #HelluvaBoss #damn #beautiful #Capitol #Chiefs  https://t.co/vDZzs9V6z0\n",
            "\n",
            "Sample number 124 of 187 (Twitter Set)\n",
            "\n",
            "  1:\tOur New Year's Resolution is a #NewYearsRevolution! Join us tonight for A Night in Conversation with #EricMann, on my most recent article: Dr. #MartinLutherKing's Challenge to the Movement as Fascists Storm the #Capitol.   TONIGHT! 6PM PST RSVP NOW:  https://t.co/B93kIjkSUp  https://t.co/N12RfXFVuP\n",
            "\n",
            "Sample number 125 of 187 (Twitter Set)\n",
            "\n",
            "  1:\t@mattgaetz @laurenboebert Taking the #Insurrectionists on a tour throughout the #Capitol is an act of terrorism. You should shut up about her and be concerned about your role in the insurrection. #ConvictAndRemove #GOPBetrayedAmerica #GOPComplicitTraitors #SeditionHasConsequences  #GOPSeditiousTraitors\n",
            "\n",
            "Sample number 126 of 187 (Twitter Set)\n",
            "\n",
            "  0:\tFrist she sucks me in liked a blackhole🕳️ Then she storms me liked I am the #Capitol With her #MeToo lies that has left me baffled While she runs off with this guy &amp; cuts her ties All just to stick it to me &amp; get #married in a chapel After he had preyed on us liked he is a jackal  https://t.co/gZQVIaGUS0\n",
            "\n",
            "Sample number 127 of 187 (Twitter Set)\n",
            "\n",
            "  1:\tAnd eggroll strikes again #HellsKitchen #21ISCOMING #furryart #furry #funny #comedy #WearAMask  #holyshit #OMG #imback #img20plus #WeWantMore #NowPlaying #animation #HelluvaBoss #damn #beautiful #Capitol #Chiefs  https://t.co/kXwMvndmSa\n",
            "\n",
            "Sample number 128 of 187 (Twitter Set)\n",
            "\n",
            "  1:\tAnd eggroll strikes again #HellsKitchen #21ISCOMING #furryart #furry #funny #comedy #WearAMask  #holyshit #OMG #imback #img20plus #WeWantMore #NowPlaying #animation #HelluvaBoss #damn #beautiful #Capitol #Chiefs  https://t.co/jkkzt23TgK\n",
            "\n",
            "Sample number 129 of 187 (Twitter Set)\n",
            "\n",
            "  0:\tMassachusetts Residents Charged Connection with Capitol Breach  https://t.co/DwQpPlSY7N #capitolbreach #CapitolRiot  #Capitol  #CapitolRiots  #NEWS #PressRelease #insurrection  https://t.co/PRPPtglBu9\n",
            "\n",
            "Sample number 130 of 187 (Twitter Set)\n",
            "\n",
            "  0:\t@France24_en @FRANCE24 @LeParisien_75 Any citizens of Paris want to inform Mr. Cruz on your opinions of the Paris Climate Agreement?  127A Russell Senate Office Building Washington, DC 20510 Capitol Phone: (202) 224-5922 Capitol Fax: (202) 228-0755 #Capitol #ParisClimateAgreement\n",
            "\n",
            "Sample number 131 of 187 (Twitter Set)\n",
            "\n",
            "  1:\tBiden has removed Winston Churchill's bust from the Oval office and replaced it with Caesar Chavez's  #Churchill #Chavez #JoeBiden #OvalOffice #Democrats #democracy #InaugurationDay #USA #Capitol    https://t.co/FUfM6B8MFg\n",
            "\n",
            "Sample number 132 of 187 (Twitter Set)\n",
            "\n",
            "  1:\t https://t.co/p1B3be4w7S #Faith #corona #SiguemeYTeSigo #BREAKING #Vtuber #coronavirus  #CoronaVaccine #buyingcontent #liveline  #coronadebat #Coronasverige #COVID19 #Instagram #Warzone #insurrection #lockdown #attackontitan #Capitol #win  #WWENXT #indiedev #INDvsAUS #art #WHO \\/\n",
            "\n",
            "Sample number 133 of 187 (Twitter Set)\n",
            "\n",
            "  1:\t https://t.co/p1B3be4w7S #Faith #corona #SiguemeYTeSigo #BREAKING #Vtuber #coronavirus  #CoronaVaccine #buyingcontent #liveline  #coronadebat #Coronasverige #COVID19 #Instagram #Warzone #insurrection #lockdown #attackontitan #Capitol #win  #WWENXT #indiedev #INDvsAUS #art #WHO /\n",
            "\n",
            "Sample number 134 of 187 (Twitter Set)\n",
            "\n",
            "  0:\t@ericgarland Uh... ... ... ... ... ... ... ... ... ... ... ...Treason with a Reason?  #CapitolRiots #Capitol #CapitolRiot #Treason #Trump\n",
            "\n",
            "Sample number 135 of 187 (Twitter Set)\n",
            "\n",
            "  1:\t@texasdicks @jaketapper @Kathlee64050712 I think we all heard what he said - Something about him being right beside them as the storm the #Capitol\n",
            "\n",
            "Sample number 136 of 187 (Twitter Set)\n",
            "\n",
            "  1:\t@IAMISjp @thomaskaine5 So the #TexomaPatriots posted this prior to their caravan to the #capitol for the #CapitolRiots  https://t.co/ONSnzhjOm1\n",
            "\n",
            "Sample number 137 of 187 (Twitter Set)\n",
            "\n",
            "  1:\tBREAKING: Ted Cruz’s objection to Arizona’s electoral votes set the stage for the riot at the U.S. Capitol and future violence, seven Democratic senators say.  📝 @BenjaminEW  #texas #washingtondc #capitol #riot #senate #congress   https://t.co/0aMGdT2X2P\n",
            "\n",
            "Sample number 138 of 187 (Twitter Set)\n",
            "\n",
            "  0:\t#PresidentBiden #tweeted last week, \"No one can tell me that if it had been a group of #BlackLivesMatter #protestors they wouldn’t have been treated very differently than the #mob that #stormed the #Capitol.\"  Thoughts?\n",
            "\n",
            "Sample number 139 of 187 (Twitter Set)\n",
            "\n",
            "  0:\tNearly 1 In 5 Defendants In #Capitol #Riot Cases Served In The #Military - #terror In fact, an NPR analysis has found that nearly 1 in 5 people charged over their alleged involvement in the attack on the U.S. Capitol appear to have a military history  https://t.co/Rdo1sQkvfS\n",
            "\n",
            "Sample number 140 of 187 (Twitter Set)\n",
            "\n",
            "  0:\tMarjorie Taylor Greene has filed articles of impeachment against Joe Biden for abuse of power, she said she would do this, before he even took office  #Republican #Congress #Capitol #CapitolBuilding #Trump #ImpeachmentDay #ImpeachedTwice #JoeBiden #USA    https://t.co/dTd1i9SKqi\n",
            "\n",
            "Sample number 141 of 187 (Twitter Set)\n",
            "\n",
            "  0:\tThis is going to be a contentious, deliberate vote against the Democrats. 10 Congressmen/Senators were part of the insurgency #Capitol resulting in the violence &amp; death of 6 people including a Capitol Policeman brutally beaten to death with an #AmericanFlag &amp; fire extinguisher.  https://t.co/qqUfAVFytc\n",
            "\n",
            "Sample number 142 of 187 (Twitter Set)\n",
            "\n",
            "  1:\t@GarrettHaake @RepAndyBiggsAZ @SpeakerPelosi they’d be arrested by TSA at the airport yet they get away with this at the capitol?  @HouseDemocrats #LaurenBoebert #AndyBiggs #Capitol\n",
            "\n",
            "Sample number 143 of 187 (Twitter Set)\n",
            "\n",
            "  1:\t@SenTedCruz You keep failing to represent my views as your constituent.  As a Texan, I wish you would resign.  #ResignTedCruz this transfer of power was NOT peaceful because you assaulted the #capitol on January 6th and we will never forget the #TedCoup !\n",
            "\n",
            "Sample number 144 of 187 (Twitter Set)\n",
            "\n",
            "  0:\tParler Was Hacked. Is Everyone At Risk?    https://t.co/QTCc1oD5CO via @observer #CyberSecurity #InfoSec #Parler #USA #socialmedia #Amazon #Privacy #FirstAmendment #USA #Politics #CapitolRiots #CapitolRiot #Capitol #News #TechNews #API\n",
            "\n",
            "Sample number 145 of 187 (Twitter Set)\n",
            "\n",
            "  1:\t#Senate #Democrats file ethics complaint against #Hawley, #Cruz over #Capitol attack/ probe whether Hawley and Cruz’s objections to the #ElectoralCollege results violated the chamber’s ethics rules.  https://t.co/RhWJP5N4sG\n",
            "\n",
            "Sample number 146 of 187 (Twitter Set)\n",
            "\n",
            "  0:\t#dietcoke is trending in Matrix 6a with #JoeBiden #Capitol #2for2 #tron  \"It appears US President Biden has removed the red button on the Resolute Desk that former president Trump used to summon a White House butler with a Diet Coke\"  https://t.co/ihxkN0zCgl\n",
            "\n",
            "Sample number 147 of 187 (Twitter Set)\n",
            "\n",
            "  0:\tEvidence shows Capitol rioters brutally attacked police with flagpoles, fire extinguishers and fists  https://t.co/Qn1GUhcqb1. #Capitol #January2021 #January6th\n",
            "\n",
            "Sample number 148 of 187 (Twitter Set)\n",
            "\n",
            "  1:\tSmh, #OMG, #WashingtonDC #coronavirus #Capitol #MAGA #BlackLivesMatter #BlackTwitter\n",
            "\n",
            "Sample number 149 of 187 (Twitter Set)\n",
            "\n",
            "  0:\tHouse Oversight Committee chairwoman requests #FBI probe of #Parler, including its role in #Capitol siege  https://t.co/wkQpPnOOaH #protests\n",
            "\n",
            "Sample number 150 of 187 (Twitter Set)\n",
            "\n",
            "  1:\t@Katie23626427 @JenDowlingKoin6 @KOINNews Your right! For that matter, show me patriots who beat police officers with the #AmericanFlag on the steps of the U.S. #Capitol\n",
            "\n",
            "Sample number 151 of 187 (Twitter Set)\n",
            "\n",
            "  0:\t\"Many Christian leaders and thinkers decried the attack on the #Capitol, but few went as far as Moore; he laid the blame squarely at the feet of a man many #evangelicals believe to be their hero: President #Trump.\"  “This week we watched an insurrection of domestic terrorists.”\n",
            "\n",
            "Sample number 152 of 187 (Twitter Set)\n",
            "\n",
            "  0:\tHey Loves 💕💘 Catch up wit me on Youtube‼️Make sure you’re subscribed too so you get upload and LIVE broadcast notifications—Link below +  in bio‼️ Check me outtttt‼️Sub too 🔔🙏🏽💕💪🏽 🎁🔥🚀  #RKelly #news #trump #capitol #spirituality #tarot #astrology     https://t.co/qY3shC8G0W\n",
            "\n",
            "Sample number 153 of 187 (Twitter Set)\n",
            "\n",
            "  0:\t#BiDENSinauguralAddress: \"We #celebrate..the cause of #democracy..where..days ago #violence sought to shake this #Capitol's..#foundations..\"  https://t.co/f7mqq35cGQ\n",
            "\n",
            "Sample number 154 of 187 (Twitter Set)\n",
            "\n",
            "  1:\tBREAKING - A local man was arrested for his role in the attack on the #Capitol. @RyanANJax is turning around new info on Bradley Weeks federal court appearance for CBS47 &amp; FOX30 at 5 @ActionNewsJax\n",
            "\n",
            "Sample number 155 of 187 (Twitter Set)\n",
            "\n",
            "  1:\tCapitol Wall Of Death. #Capitol #Riot #CapitolRiots #WallOfDeath #Moshpit #DeathMetal #Deathcore #SlammingDeathMetal #Slamcore #BrutalDeathMetal #Metal #MetalMexa #MexaMetal #MetalMexicano #MetalMexico #Beatdown #Breakdown #Downtemp #Slam #Slamming #Satan #Satanice  https://t.co/k4PyrpOylY\n",
            "\n",
            "Sample number 156 of 187 (Twitter Set)\n",
            "\n",
            "  0:\t@VoteMarsha #Trump's most significant \"contribution\" to our country was The #Capitol #insurrection that he instigated. Something you yourself @MarshaBlackburn encouraged with your lies abt the election. Your behavior resulted in deaths. He's also responsible 4 400K+ #Covid19 related deaths.\n",
            "\n",
            "Sample number 157 of 187 (Twitter Set)\n",
            "\n",
            "  0:\t2CPOs #died_defending the #Capitol thus justice must prevail bc they could have been saved. #StaceyPlaskett #RepAOC #HouseDemWomen #SenBrianSchatz #gtconway #digby56 #SpeakerPelosi #RepSherrill #RepMGS  #glennkirschner2 #RepKatiePorter #RepDebHaaland #RepEscobar\n",
            "\n",
            "Sample number 158 of 187 (Twitter Set)\n",
            "\n",
            "  1:\t.@sinanaral of @MITSloan and Director of @mit_ide recently went #live with @YahooFinance to explain social media’s role in the #Capitol chaos.  https://t.co/76LNCJHRzV\n",
            "\n",
            "Sample number 159 of 187 (Twitter Set)\n",
            "\n",
            "  0:\tWe talk @JHarden13 and the big ass trade, we talk to @KaranMadhok1 about sending Kyrie to the #Capitol and we wonder if Russ and AI have more in common that we thought before. #Podcast #NBA #BallisBae  https://t.co/zP2XhWDGMb\n",
            "\n",
            "Sample number 160 of 187 (Twitter Set)\n",
            "\n",
            "  1:\t“Biggs and other members of his far-right group used radios with earpieces to coordinate “real-time communication” as they smashed their way into the building.” Far-Right Proud Boys Leader Charged  #Capitol #insurrection #Insurrection  https://t.co/AlGevrtH3m via @democracynow\n",
            "\n",
            "Sample number 161 of 187 (Twitter Set)\n",
            "\n",
            "  1:\t\"Our American friends might glean some important lessons from the 2011 Vancouver riot [notably that] the investigation will take time, possibly years\"  #CapitolRiot #CapitolRiots #Capitol #SeditionHunters  @BrandonUni @ASAnews @csa_sociology @jsrailton     https://t.co/CGGmAkbfEA\n",
            "\n",
            "Sample number 162 of 187 (Twitter Set)\n",
            "\n",
            "  0:\tSoo.....we have one question.....  Full video:  https://t.co/wxQ5Y3iMvb  #DonaldTrump #TrumpTreason #TrumpCoupAttempt #CapitolRiots #Capitol #protest #guns #NationalGuard #InaugurationDay #BidenTakeAction  https://t.co/u1dLeQ7s5g\n",
            "\n",
            "Sample number 163 of 187 (Twitter Set)\n",
            "\n",
            "  1:\t#Florida authorities arrest man after #Capitol bomb threat  https://t.co/O012nw8hZY  https://t.co/RJU6FEBA3K\n",
            "\n",
            "Sample number 164 of 187 (Twitter Set)\n",
            "\n",
            "  0:\t@FBIWFO @FBI INSURRECTION  MILITARY COURT TERRORIST - Mike Flynn’s brother helped delay response to the attack on the #Capitol  He should pay reparations to the families of the officers who were murdered or injured by domestic terrorists #CapitolRiots\n",
            "\n",
            "Sample number 165 of 187 (Twitter Set)\n",
            "\n",
            "  0:\tWhat Parler Saw During the Attack on the #Capitol  @propublica reviewed 1000's of videos uploaded publicly to the service that were archived by a programmer before #Parler was taken offline. Here are 500 videos that were taken on Jan. 6.  https://t.co/hvQD06a3n7\n",
            "\n",
            "Sample number 166 of 187 (Twitter Set)\n",
            "\n",
            "  0:\t@AnotherLibtard First mistake. No felony charges added to the Domestic Terrorist who raided, sought to kidnap, looking at top secret documents and stealing top secret documents and equipment. List goes on, but all they get is charges as if they broke into a candy store. #Capitol #CapitolRiot\n",
            "\n",
            "Sample number 167 of 187 (Twitter Set)\n",
            "\n",
            "  1:\t@ProjectLincoln 🔴  With no self-pardon in hand, private citizen Trump faces uncertain legal future. https://t.co/RsRvNDYR7p #ResignTedCruz #ResignJoshHawley #impeachment #RemoveTrumpNow #RemoveTrump #SeditiousGOP #DonaldTrump #Washington #DCRIOTS,#capitol,#Pelosi #presidentialpardons #McConnell\n",
            "\n",
            "Sample number 168 of 187 (Twitter Set)\n",
            "\n",
            "  1:\t@ProjectLincoln 🔴  With no self-pardon in hand, private citizen Trump faces uncertain legal future. https://t.co/RsRvNDYR7p #ResignTedCruz #ResignJoshHawley #impeachment #RemoveTrumpNow #RemoveTrump #SeditiousGOP #DonaldTrump #Washington #DCRIOTS,#capitol,#Pelosi #presidentialpardons #McConnell\n",
            "\n",
            "Sample number 169 of 187 (Twitter Set)\n",
            "\n",
            "  1:\t@ProjectLincoln 🔴  With no self-pardon in hand, private citizen Trump faces uncertain legal future. https://t.co/RsRvNDYR7p #ResignTedCruz #ResignJoshHawley #impeachment #RemoveTrumpNow #RemoveTrump #SeditiousGOP #DonaldTrump #Washington #DCRIOTS,#capitol,#Pelosi #presidentialpardons #McConnell\n",
            "\n",
            "Sample number 170 of 187 (Twitter Set)\n",
            "\n",
            "  1:\tIs anyone really surprised that the slumlord from Queens who peddled a #healthcare plan never before seen also peddled a nonexistent #covid plan?  It is as unsurprising as requesting your base would beat the shit out of people for years only to have them attack the #capitol.\n",
            "\n",
            "Sample number 171 of 187 (Twitter Set)\n",
            "\n",
            "  1:\t@ProjectLincoln 🔴  With no self-pardon in hand, private citizen Trump faces uncertain legal future. https://t.co/RsRvNDYR7p #ResignTedCruz #ResignJoshHawley #impeachment #RemoveTrumpNow #RemoveTrump #SeditiousGOP #DonaldTrump #Washington #DCRIOTS,#capitol,#Pelosi #presidentialpardons #McConnell\n",
            "\n",
            "Sample number 172 of 187 (Twitter Set)\n",
            "\n",
            "  1:\t@ProjectLincoln 🔴  With no self-pardon in hand, private citizen Trump faces uncertain legal future. https://t.co/RsRvNDYR7p #ResignTedCruz #ResignJoshHawley #impeachment #RemoveTrumpNow #RemoveTrump #SeditiousGOP #DonaldTrump #Washington #DCRIOTS,#capitol,#Pelosi #presidentialpardons #McConnell  https://t.co/QRTVL2TK9K\n",
            "\n",
            "Sample number 173 of 187 (Twitter Set)\n",
            "\n",
            "  1:\t@ProjectLincoln 🔴  With no self-pardon in hand, private citizen Trump faces uncertain legal future. https://t.co/RsRvNDYR7p #ResignTedCruz #ResignJoshHawley #impeachment #RemoveTrumpNow #RemoveTrump #SeditiousGOP #DonaldTrump #Washington #DCRIOTS,#capitol,#Pelosi #presidentialpardons #McConnell  https://t.co/ZlbZuMxQkI\n",
            "\n",
            "Sample number 174 of 187 (Twitter Set)\n",
            "\n",
            "  1:\t@ProjectLincoln 🔴  With no self-pardon in hand, private citizen Trump faces uncertain legal future. https://t.co/RsRvNDYR7p #ResignTedCruz #ResignJoshHawley #impeachment #RemoveTrumpNow #RemoveTrump #SeditiousGOP #DonaldTrump #Washington #DCRIOTS,#capitol,#Pelosi #presidentialpardons #McConnell\n",
            "\n",
            "Sample number 175 of 187 (Twitter Set)\n",
            "\n",
            "  1:\t@kaitlancollins 🔴  With no self-pardon in hand, private citizen Trump faces uncertain legal future. https://t.co/RsRvNDYR7p #ResignTedCruz #ResignJoshHawley #impeachment #RemoveTrumpNow #RemoveTrump #SeditiousGOP #DonaldTrump #Washington #DCRIOTS,#capitol,#Pelosi #presidentialpardons #McConnell  https://t.co/aOkmNoXaCz\n",
            "\n",
            "Sample number 176 of 187 (Twitter Set)\n",
            "\n",
            "  1:\t@ProjectLincoln 🔴  With no self-pardon in hand, private citizen Trump faces uncertain legal future. https://t.co/RsRvNDYR7p #ResignTedCruz #ResignJoshHawley #impeachment #RemoveTrumpNow #RemoveTrump #SeditiousGOP #DonaldTrump #Washington #DCRIOTS,#capitol,#Pelosi #presidentialpardons #McConnell  https://t.co/hSPb0AWcYJ\n",
            "\n",
            "Sample number 177 of 187 (Twitter Set)\n",
            "\n",
            "  1:\t@DylanByers @NBCNews @POTUS 🔴  With no self-pardon in hand, private citizen Trump faces uncertain legal future. https://t.co/RsRvNDYR7p #ResignTedCruz #ResignJoshHawley #impeachment #RemoveTrumpNow #RemoveTrump #SeditiousGOP #DonaldTrump #Washington #DCRIOTS,#capitol,#Pelosi #presidentialpardons #McConnell  https://t.co/TX7Z6N1h3q\n",
            "\n",
            "Sample number 178 of 187 (Twitter Set)\n",
            "\n",
            "  1:\t@baratheongirl 🔴  With no self-pardon in hand, private citizen Trump faces uncertain legal future. https://t.co/RsRvNDYR7p #ResignTedCruz #ResignJoshHawley #impeachment #RemoveTrumpNow #RemoveTrump #SeditiousGOP #DonaldTrump #Washington #DCRIOTS,#capitol,#Pelosi #presidentialpardons #McConnell  https://t.co/foGNAZUOCA\n",
            "\n",
            "Sample number 179 of 187 (Twitter Set)\n",
            "\n",
            "  1:\t🔴  With no self-pardon in hand, private citizen Trump faces uncertain legal future. https://t.co/h0Td93AlXU #ResignTedCruz #ResignJoshHawley #impeachment #RemoveTrumpNow #RemoveTrump #SeditiousGOP #DonaldTrump #Washington #DCRIOTS,#capitol,#Pelosi #presidentialpardons #McConnell  https://t.co/3DWxBa88aa\n",
            "\n",
            "Sample number 180 of 187 (Twitter Set)\n",
            "\n",
            "  1:\t🔴  With no self-pardon in hand, private citizen Trump faces uncertain legal future. https://t.co/RsRvNDYR7p #ResignTedCruz #ResignJoshHawley #impeachment #RemoveTrumpNow #RemoveTrump #SeditiousGOP #DonaldTrump #Washington #DCRIOTS,#capitol,#Pelosi #presidentialpardons #McConnell  https://t.co/kCcvtMXPv3\n",
            "\n",
            "Sample number 181 of 187 (Twitter Set)\n",
            "\n",
            "  0:\tA federal judge on Thursday rejected #Parler's demand that  https://t.co/6K6a0bfVtA Inc restore web hosting services for the social media platform, which #Amazon had cut off following the Jan. 6 storming of the US #Capitol.   https://t.co/0o19KzMlpQ\n",
            "\n",
            "Sample number 182 of 187 (Twitter Set)\n",
            "\n",
            "  0:\t https://t.co/p1B3be4w7S #Faith #corona #SiguemeYTeSigo #BREAKING #Vtuber #coronavirus  #CoronaVaccine #buyingcontent #liveline  #coronadebat #Coronasverige #COVID19 #Instagram #Warzone #insurrection #lockdown #attackontitan #Capitol #win  #WWENXT #indiedev #INDvsAUS #art #WHO ,.0\n",
            "\n",
            "Sample number 183 of 187 (Twitter Set)\n",
            "\n",
            "  0:\tUnlike the previous impeachment which was doomed from the start thanks to the Democrats insistence on witness corroboration, there is no need for evidence for this one as #Trump and his aides basically incited the people to launch an attack on #Capitol Hill.  https://t.co/CKb7Y6OQOC\n",
            "\n",
            "Sample number 184 of 187 (Twitter Set)\n",
            "\n",
            "  1:\t#Crimes The #Capitol Rioters Committed  #US #USA #Trump #Kapitol #insurrection #Insurrection2021  https://t.co/6Y9KPajP4N\n",
            "\n",
            "Sample number 185 of 187 (Twitter Set)\n",
            "\n",
            "  1:\tDonald Trump and his rebellious supporters must be judged.#Capitol #CapitolRiot #CapitolRiots #CapitolHill #Pelosi #Democrats #Biden #SenateMajorityLeaderSchumer\n",
            "\n",
            "Sample number 186 of 187 (Twitter Set)\n",
            "\n",
            "  0:\tBingo Cards⬇️ 🔵 debt/deficit.  Jan '17 national debt $19.9T Oct '20 national debt 🚀 $27T   That's almost 36% 🆙 in less than 4 years COVID not yet accounted for @SenRickScott 🤥🤦‍♀️  Accountability for Law &amp; Order &amp; the #Capitol Attack  #DemCast #DemCastFL #ONEV1 #JusticeMatters  https://t.co/e8bryuQhcw\n",
            "\n"
          ],
          "name": "stdout"
        }
      ]
    },
    {
      "cell_type": "markdown",
      "metadata": {
        "id": "tJsJwrPX9RAi"
      },
      "source": [
        "Otro ejemplo:"
      ]
    },
    {
      "cell_type": "code",
      "metadata": {
        "colab": {
          "base_uri": "https://localhost:8080/"
        },
        "id": "l3ptcds-9TU_",
        "outputId": "85f4062a-a28c-46ed-b0d3-aebc10055d87"
      },
      "source": [
        "corpus_congrats = create_twint_object(\"excellent\", \"2021-01-20\", 100)"
      ],
      "execution_count": 67,
      "outputs": [
        {
          "output_type": "stream",
          "text": [
            "1352448335681093633 2021-01-22 02:49:45 +0000 <DrReins> @therecount They always have expectations so High for anyone but the dotard. He shouldn’t be the barometer of where we aim however it is unreasonable set such high expectations. 100 million is exponentially more than we were headed before and an excellent start.\n",
            "1352448335651639296 2021-01-22 02:49:45 +0000 <chocodaddy__> ok ni son las 9 y solo me falta una tarea excellent progress😫\n",
            "1352448335286857728 2021-01-22 02:49:45 +0000 <TruthSurrogate> The Biden Administration is off an excellent start destroying over 50,000 jobs in less than 48 hours. Who is having buyers remorse, be honest?   #NotMyPresident #ImpeachBidenNow #BidenHarrisInauguration #BidenCrimeFamily #HunterBiden #GreatReset #NewWorldOrder #NewAccount #Trump\n",
            "1352448328072486913 2021-01-22 02:49:43 +0000 <dlaw51> @SDuncovered Excellent!\n",
            "1352448322116734976 2021-01-22 02:49:41 +0000 <alteducator216> This is excellent!\n",
            "1352448321818914819 2021-01-22 02:49:41 +0000 <KVP798> @ReesusP @SenTedCruz My union needs to consider that as our work slows and it's slowing enough that people are retiring at 10 years. The welding skills are excellent. It's a requirement, the welders are tested on every job. It's not a one time pass the welding test.\n",
            "1352448318727663619 2021-01-22 02:49:41 +0000 <LIBPrincipal> @BethWinsor1 @ldacompton @nslev116 @Martinez_LCPS @LCPSOfficial This is awesome!  Well-deserved for such a selfless and excellent principal. 👏\n",
            "1352448317461049349 2021-01-22 02:49:40 +0000 <LSFabrication> langesshop with a set of our Stainless Steel Stone shields! These are an excellent way to achieve that nostalgic look on your old or new Squarebody. #Squarebody #K10 #C10 #Chevy #GMC #Stainlesssteel #Nostalgia  https://t.co/j7vgLLuruR\n",
            "1352448312872329216 2021-01-22 02:49:39 +0000 <coloradotravis> @JMemphian @RaoulGMI @Darky999 @memyackett @jared_jensen75 @goodalexander Excellent beer.\n",
            "1352448308082569218 2021-01-22 02:49:38 +0000 <hopelariss> @jbak88 @abbymcdonald Simon is no longer the protagonist, if you are a fan of the beauty of Regé-Jean and not of the show, you should stay away from the second season. Bridgerton is an excellent show and deserves recognition for his genius, and Regé-Jean deserves recognition for his TALENT+\n",
            "1352448302730665985 2021-01-22 02:49:37 +0000 <Pikaclicks> @VaushV excellent tweet\n",
            "1352448293738078211 2021-01-22 02:49:35 +0000 <jendelgadotv> Thank you sister! Excellent teacher!!\n",
            "1352448282660900870 2021-01-22 02:49:32 +0000 <DavidAlbertFar2> \"Total and complete BS\" you say?  An excellent title for your life's story, sold in paperback in slimestores everywhere...\n",
            "1352448278474973185 2021-01-22 02:49:31 +0000 <GBayAssociation> A game-changer in emergency response - 911 call centres are now using what3words to help first responders find callers that can't describe or don’t know their exact location. The app is available for iOS and Android devices and is excellent for Bay safety!  https://t.co/BUZMQttjmo  https://t.co/CX95CFQVMY\n",
            "1352448276017016832 2021-01-22 02:49:30 +0000 <JamesEWhiteJr3> @IAmTheActualET Excellent observation.  It's so critical for this kind of duplicity to be seen and shared.  Thank you!\n",
            "1352448275060842499 2021-01-22 02:49:30 +0000 <bjmurray> @atrupar Excellent article about a man who completely isolated himself and turned on virtually every one of his supporters.  Makes me wonder - even if he ran in 2024, who would want to WORK for him?\n",
            "1352448271931875330 2021-01-22 02:49:29 +0000 <isla_francesca> just like to say a personal fuck you to locked folders which are the only reason all my excellent nudes have been lost to the ether instead of being nicely stored on my removable SD card\n",
            "1352448256035483648 2021-01-22 02:49:26 +0000 <shaunhashim> @mikebrucePT @MouradB The entire leafs roster did the same thing with Babcock.   PLD is still excellent at hockey and would thrive under a normal coach.  Management and players share the blame when a guy wants out   Anyway, KK Armia and Toffoli just connected for a goal, so I’m gonna enjoy that\n",
            "1352448241124651013 2021-01-22 02:49:22 +0000 <WeirdEyeDude> @horrorgal1313 Excellent movie. Goodnight 🌙\n",
            "1352448238079635458 2021-01-22 02:49:21 +0000 <Gronow66> @ClaudioParra007 Excellent\n",
            "1352448231201001474 2021-01-22 02:49:20 +0000 <TeresaCarterCr1> @janeosanders @NaomiAKlein Excellent article.\n",
            "1352448229321842689 2021-01-22 02:49:19 +0000 <kolbeedy3423> @YearnyfiNetwork @HuobiGlobal @UniswapProtocol @MXC_Exchange @AnyswapNetwork This is a great and excellent project and also the reward is great. Thanks for shared this wonderful opportunity. Best wishes for all team members. Keep going and get to the success  #YearnyfiNetwork #yearnyfi #defi #ERC20 #eth #presale #ico #ieo #sale\n",
            "1352448225958113281 2021-01-22 02:49:18 +0000 <ExDread1973> @ollywainwright Excellent piece.\n",
            "1352448217032650756 2021-01-22 02:49:16 +0000 <swyyft> @KaitHerzog they are excellent quality, shits just as solid on the edge as in the middle.\n",
            "1352448211546468352 2021-01-22 02:49:15 +0000 <rwn_509> Mdrrr voir ce tweet apres un airball c’est excellent\n",
            "1352448200540643331 2021-01-22 02:49:12 +0000 <noducksaligned> @LeunamSolar @MAGAGANGGANG @Sethrogen @tedcruz You have to have a low self-esteem and incredible lack of awareness to use “brain disability” as an insult and allow the word retard to ever come out of your mouth. If that’s your idea of an insult, you have a lot of growing to do. I can recommend some excellent inspirations.\n",
            "1352448190109413376 2021-01-22 02:49:10 +0000 <asthanaprav> @saranormous Hard disagree. Excellent in Indian cuisine\n",
            "1352448180663824385 2021-01-22 02:49:08 +0000 <jan_cam001> Excellent\n",
            "1352448172820475904 2021-01-22 02:49:06 +0000 <JoeSummerville_> I’m really tempted to binge watch SOA again lol that show is EXCELLENT\n",
            "1352448171226574849 2021-01-22 02:49:05 +0000 <FLJeepMan> Excellent\n",
            "1352448170089869312 2021-01-22 02:49:05 +0000 <ns_progressive> @digvijaya_28 Excellent\n",
            "1352448163764965378 2021-01-22 02:49:04 +0000 <DominikBarabasz> @SportsRoc2 Isn’t Diggs an excellent hand fighter off the line? He should be fine with a physical DB imo\n",
            "1352448127203160064 2021-01-22 02:48:55 +0000 <DameSparkula> @OhMyGOFF @jendelgadotv @fox5dc An excellent human being - anything over 2 means they’re serious animal lovers ❤️❤️❤️❤️❤️❤️\n",
            "1352448120756428800 2021-01-22 02:48:53 +0000 <scottydog57> @Wutspinner Excellent 👍😎\n",
            "1352448089022468096 2021-01-22 02:48:46 +0000 <popelizbet> @NeolithicSheep this is excellent\n",
            "1352448081057378305 2021-01-22 02:48:44 +0000 <LPOBryan> REVIEWERS AGREE--A Rooster for Asklepios is: Excellent! One of the best! Meticulously researched! A must-read! Brilliant! One word: WOW! Five stars on Amazon!  https://t.co/2nNuWX1yyr @aslavesstory #ancientrome #histfic #Christianity #Judaism  https://t.co/w22MzgLena\n",
            "1352448076481355776 2021-01-22 02:48:43 +0000 <LisaCreed10> @MollyJongFast @ivyjofreeman @JennaEllisEsq Excellent Snark. 😎🌊♐️\n",
            "1352448066486489088 2021-01-22 02:48:40 +0000 <VB_CoachJRod> This great video of Rafael Nadal from 9 years ago is excellent. Forty backhands in 2 minutes with movement! That'll be my next challenge @CommunitySWC This is also a great example of great coaching! Give opportunities! I mean a lot of opportunities! Non stop opportunities!  https://t.co/5fxGNECBz0\n",
            "1352448053408653312 2021-01-22 02:48:37 +0000 <bensynnott> @SteveTighe5 Excellent ces infos\n",
            "1352448053022584832 2021-01-22 02:48:37 +0000 <im_KPS> Excellent thread on #FarmersProtests !\n",
            "1352448047830056960 2021-01-22 02:48:36 +0000 <TARDISisHome> @sentientmstrpce Yeah, excellent bread in this century. What did you do today?\n",
            "1352448039676424192 2021-01-22 02:48:34 +0000 <BotBot53368932> This Is Just To Say     I have ravished   the jujubes   that were in   the iced coffee     and which   you were most likely   saving   for breakfast     Forgive me   they were delicious   so excellent   and so cold\n",
            "1352448034077106181 2021-01-22 02:48:33 +0000 <galeforceVC> @PurInstinct @myfriendjanine @Amanimalc That's excellent too 😍\n",
            "1352448024744751109 2021-01-22 02:48:31 +0000 <simp_rep> @MoonRiver140 excellent, I know what content to aim for now\n",
            "1352448024124022784 2021-01-22 02:48:30 +0000 <TopTrendsWatch> Just started trending in Pakistan.  #محبت_مافیا Holy Quran Bernie Sanders FTA Started Democrats When Allah Prophet Muhammad Carry Excellent Namaz Boss Maam neend Chelsea Arab Woah Umar Akmal Sana Canada pmln Khoob Bacha Shutup seokjin O Allah\n",
            "1352448020634345478 2021-01-22 02:48:30 +0000 <EricWarner9> @BrianZahnd Thank you for the book and to all who worked on the documentary and the panel discussion. This was an excellent and challenging evening.\n",
            "1352448016117067780 2021-01-22 02:48:28 +0000 <stevemfl> @MaryLTrump I watched the press briefing too. Very refreshing!  I'm also reading your book and it's excellent, yet scary of how your uncle became a monster.  Thank you for giving us your experience and insight.\n",
            "1352448010295386114 2021-01-22 02:48:27 +0000 <7305Cooks> @thisbryanguy001 Premier is excellent in terms of bot protection, compared to most skateshops. It stops 80% of bots in my opinion.\n",
            "1352448009896775682 2021-01-22 02:48:27 +0000 <shelleypchan> @yuancube Excellent! So glad 😈\n",
            "1352448009133563904 2021-01-22 02:48:27 +0000 <ExcellentAF> @Whoops_its_me @smartass_moms Enter Sandman\n",
            "1352447991131611138 2021-01-22 02:48:23 +0000 <LycanthropeWit> @PoisedSeraphim { My eyes take in the set currently in your hands as I spoke} Whatever you want, sweetheart. You have excellent taste.\n",
            "1352447974136279048 2021-01-22 02:48:18 +0000 <RakishGentTV> @HeroSkul I didn't but it was worth the wait. The rogue elements are excellent and the whole thing is just making me giddy. Beautiful work.\n",
            "1352447973221756928 2021-01-22 02:48:18 +0000 <supersinga> @NicolleDWallace @DavidJollyFL this was an excellent segment!\n",
            "1352447953307230209 2021-01-22 02:48:13 +0000 <techAU> @jimmyville I just don't agree they need to pay some very select, legacy media organisations anything. The internet and social media has made it possible for everyone to create content and news and that diversity is excellent.\n",
            "1352447937603891200 2021-01-22 02:48:10 +0000 <tabatznik> @SMUCoachHUDDY @SMUSoccerM @MLS Congrats Kevin. Also a true reflection on the excellent job you have done there.\n",
            "1352447929869455361 2021-01-22 02:48:08 +0000 <sondain> @NAOKONO6 窓枠が決定的に違うのと、カーテンが違う。あまりにも安っぽくてペラペラだよね。\n",
            "1352447920667287555 2021-01-22 02:48:06 +0000 <PandemicSg> @kaitlancollins Excellent!\n",
            "1352447914044493827 2021-01-22 02:48:04 +0000 <Esteban_Acuna_G> It is the best advice that can be given to residents, prudence and knowing how to stop the operation. Excellent and shared decision. @ResidentesCAU @ResidentesAEU @ESRUrology @filialendouro @Urolchi @Endo_Society @EAU_YAUroTech @young_endosoc\n",
            "1352447911251087361 2021-01-22 02:48:03 +0000 <Louangie> @Billbrowder @TheEconomist Excellent article to read! 👍 They've got the money fraudulently earned, they've got the bankers and the law that cleans these rich oligarchs of all possible corruption! They launder money in so many ways, weapons, drugs and who knows more? #Switzerland #Geneva\n",
            "1352447910621966337 2021-01-22 02:48:03 +0000 <RockabyeAnnie> @BobSchaller @CNN Excellent news!! My Mom's PCP really isn't a fan of the mRNA vaccines. He doesn't believe they have been tested long enough or well enough. I'm not a fan of the 2 doses within 2 to 3 weeks of each. Look at how many have had the first and no hope of 2nd in that time.\n",
            "1352447901792940034 2021-01-22 02:48:01 +0000 <RosieVegGdn> @LenGrunstein Shabbat Shalom, Leonard. Your courageous father served us well.   Thank you for noticing this excellent piece about zachor by bona fide Jewish Holocaust educator, Avonim Patt of Hertford University.   Please RT far and wide before during and after Yom HaShoah.   #WeRemember\n",
            "1352447896298381312 2021-01-22 02:48:00 +0000 <TNEdReport> @carolinekrueger all excellent points - and no, none of that has been considered ... ZERO educators were included. The Director of Schools in Maryville expressed opposition, but the legislature won't hear it\n",
            "1352447892292661249 2021-01-22 02:47:59 +0000 <shelbeeray> Excellent! I hope he gets the epidemic/public health experts back that Trump removed.\n",
            "1352447887419056129 2021-01-22 02:47:58 +0000 <ThaProfit11> @LinusTech You should reward his excellent math\n",
            "1352447886261325824 2021-01-22 02:47:58 +0000 <Deni1Botticelli> @PreetBharara I read it! It’s excellent.\n",
            "1352447864836820995 2021-01-22 02:47:52 +0000 <veegatot> Do not aspire to be remembered. Aspire to be excellent. ❤\n",
            "1352447850240737280 2021-01-22 02:47:49 +0000 <EastwoodBoxers> Check out these model bridges Ms. Conflitti’s students built! Excellent work, Engineers! We can’t wait to see what projects Cycle 4 brings.  https://t.co/KmQZtUTwuY\n",
            "1352447837221478400 2021-01-22 02:47:46 +0000 <BottleJuan> @pinkbitchy Excellent game, hillbilly family sim\n",
            "1352447795299569666 2021-01-22 02:47:36 +0000 <KariOakes> My mom just got incredible service and value from the Wisconsin Rugby Club @WRC_Rugby who helped her with a move. These lads get it done -- local peeps, contact them when you need odd jobs done. It's a fundraiser for an excellent cause!   https://t.co/nfK8LKS9bA\n",
            "1352447792476807169 2021-01-22 02:47:35 +0000 <SKIPTWEETBOT> Excellent\n",
            "1352447788374749192 2021-01-22 02:47:34 +0000 <DaveBartonUSA> Excellent\n",
            "1352447783035351045 2021-01-22 02:47:33 +0000 <prisonsorguk> #ThePrisonOracle the definitive prisons web site from the publisher's experts trust. 44K pages, 10K members, site-wide cancel anytime access, for the cost of a coffee a week. \"An excellent web site\" former @HMPPS CEO and Prison Oracle member, Michael Spurr  https://t.co/5VDCqWgbMf  https://t.co/174LF27fDZ\n",
            "1352447777477951488 2021-01-22 02:47:32 +0000 <danngameskof> @SNKPofficial Excellent teaser trailer, Meitenkun has a good design and his style is fun, great character, I would love (Shun'ei/Meitenkun/Mian) as China's hero team new faces, original characters from KOF XIV for this new saga, Shun'ei has a lot of potential and more with an original team.  https://t.co/VsDO2OCJFa\n",
            "1352447774554542081 2021-01-22 02:47:31 +0000 <adnan38598163> @IlhanMN Excellent job still wish to stop aids to Israel and whoever breaks human rights in their country\n",
            "1352447764513378306 2021-01-22 02:47:28 +0000 <lizzygenard> Don’t forget @SarahHuckabee too. Both were so excellent. This woman is such a joke. 😑 except I’m not laughing\n",
            "1352447756787458048 2021-01-22 02:47:27 +0000 <MakeMineAmalgam> @arthurstacy excellent pic of Tim Drake’s better half in your header\n",
            "1352447750428905473 2021-01-22 02:47:25 +0000 <UribistaBruno> @CNBC Cuomo is doing an excellent job getting wealthy people out of the city and attracting homeless, drug addicts and illegal immigrants into the city. A true genius. History will vindicate him for his “vision”\n",
            "1352447743214690304 2021-01-22 02:47:23 +0000 <ALEXY333> @JBlackwellH I swear the dad is sexy... and the son is having EXCELLENT thoughts 👀💦\n",
            "1352447739892645889 2021-01-22 02:47:23 +0000 <madeleinejanie> @YearnyfiNetwork @HuobiGlobal @UniswapProtocol @MXC_Exchange @AnyswapNetwork This is a great and excellent project and also the reward is great. Thanks for shared this wonderful opportunity. Best wishes for all team members. Keep going and get to the success  #YearnyfiNetwork #yearnyfi #defi #ERC20 #eth #presale #ico #ieo #sale\n",
            "1352447728190709760 2021-01-22 02:47:20 +0000 <kyalle4> @honeychanteuse @online_reliable For excellent Grades, scores in Essay, LITERATURE, Psychology, PHYSICS, MATH, CHEM, ENGINEERING, anatomy, biology, research paper, projects. please dm\n",
            "1352447715863646210 2021-01-22 02:47:17 +0000 <cshaw12897514> @emcdeezy that's excellent mate--wonderful news!  gotta get to work on the script--LOL  maybe for a title, borrow from 'Dirty Harry':                               The Koalas say                                                                         'go ahead--make my day'   🤣🐨🎶\n",
            "1352447713237991424 2021-01-22 02:47:16 +0000 <yourdataanalyst> @skatetwt Hey, hmu for help in achieving excellent grades in CHEMISTRY at an affordable fee.\n",
            "1352447712604643334 2021-01-22 02:47:16 +0000 <davidoite> @k_3_n_7_0_d @couragemylads Excellent idea BTW.\n",
            "1352447705604214786 2021-01-22 02:47:14 +0000 <nurtureyrhealth> Beets are another excellent liver supportive food that I try to eat more of during the cleanse - I especially love them roasted!  Beets are a high FODMAP food when eaten in larger quantities (2 slices are considered low FODMAP and 1/6 of a large beet is considered medium FODMAP),  https://t.co/F2XyAEpMO2\n",
            "1352447702445903873 2021-01-22 02:47:14 +0000 <anhhabec123> @YearnyfiNetwork @HuobiGlobal @UniswapProtocol @MXC_Exchange @AnyswapNetwork This is a great and excellent project and also the reward is great. Thanks for shared this wonderful opportunity. Best wishes for all team members. Keep going and get to the success  #YearnyfiNetwork #yearnyfi #defi #ERC20 #eth #presale #ico #ieo #sale\n",
            "1352447685266202630 2021-01-22 02:47:10 +0000 <SOAP65794471> @Baddiel 39 essex chambers are an excellent source of info on this David.\n",
            "1352447682892230657 2021-01-22 02:47:09 +0000 <sabo_maureen> Excellent!\n",
            "1352447679381479424 2021-01-22 02:47:08 +0000 <HPWecology> @Pablo_ecology Ah excellent. Thank you. I'll check out your paper and photos, and see if they fit with the section we've written.\n",
            "1352447670061838337 2021-01-22 02:47:06 +0000 <Esteban_Acuna_G> @dremresener @UrologyUK @MarmaraUroloji It is the best advice that can be given to residents, prudence and knowing how to stop the operation. Excellent and shared decision. @ResidentesCAU @ResidentesAEU @ESRUrology @filialendouro @Urolchi @Endo_Society @EAU_YAUroTech @young_endosoc\n",
            "1352447668912418818 2021-01-22 02:47:06 +0000 <Hone_It_Canada> @MrPriceBC Excellent. I love this. Thanks for the link! And yes - I totally missed the quote. I’m like the kid who misses every important, direct instruction but will find the slightest typo the teacher makes, apparently!\n",
            "1352447668409131008 2021-01-22 02:47:06 +0000 <LA49erFan> Huge San Francisco 49ers Team Needs for 2021  https://t.co/eFuTx6EzDz via @ot_heroics.   Excellent article. Ck out the DSW plan. I think it could be extremely viable.\n",
            "1352447663526961153 2021-01-22 02:47:04 +0000 <bigskybabs> @IATSE @WHCOVIDResponse Excellent idea!\n",
            "1352447647001415682 2021-01-22 02:47:00 +0000 <ghosthunter718> @cwwalkersource Seeing Jared back on my screen! He’s excellent! ❤️\n",
            "1352447644103110660 2021-01-22 02:47:00 +0000 <FamilyProcess> . @WileyPsychology   ICYMI: This excellent article looking at the importance of poverty on child well-being through a multidimensional lens.  Authored by Drs. Liwei Zhang and Wen-Jui Han in the December issue of the journal.   https://t.co/Dj6W0IP3Kk\n",
            "1352447629221748737 2021-01-22 02:46:56 +0000 <SACamerasPro> Vintage Signature 2000 Camcorder In Original Case Excellent Condition #ebay #camera #cameras  https://t.co/aUdmvOkKfw\n",
            "1352447617565790208 2021-01-22 02:46:53 +0000 <GRINNGAB> @fred_guttenberg @mtgreenee An excellent reply, sir. How horrible for you.\n",
            "1352447589061439488 2021-01-22 02:46:47 +0000 <JoeKingDem> @ChristianWalk1r I am trying to figure out if you are Excellent at sarcasm or not smarter than a 5th grader\n",
            "1352447582602223622 2021-01-22 02:46:45 +0000 <HadarMr> This is excellent   Remote control glider sets speed record: 548 mph - DroneDJ  https://t.co/dd6nmxhW24\n",
            "1352447569243197440 2021-01-22 02:46:42 +0000 <tiredassteen> @GerrodW_Rashaud omg kelela??? excellent taste i see\n",
            "1352447568639234051 2021-01-22 02:46:42 +0000 <sofiafeycreates> @aproflection @EcotoneMagazine Excellent (-:\n"
          ],
          "name": "stdout"
        }
      ]
    },
    {
      "cell_type": "code",
      "metadata": {
        "colab": {
          "base_uri": "https://localhost:8080/"
        },
        "id": "SxKmmSBt-qkY",
        "outputId": "5dbcee36-f4b1-4776-de4a-aed5ce17a74b"
      },
      "source": [
        "tweets_congrats = export_model.predict(corpus_congrats)\n",
        "labels_congrats = resume_opinions(tweets_congrats)\n",
        "print_predicted(labels_congrats, corpus_congrats)"
      ],
      "execution_count": 82,
      "outputs": [
        {
          "output_type": "stream",
          "text": [
            "Hay más reseñas positvas obre el capitoilio que negativas\n",
            "Sample number 0 of 92 (Twitter Set)\n",
            "\n",
            "Etiqueta  \n",
            "  1:\t@therecount They always have expectations so High for anyone but the dotard. He shouldn’t be the barometer of where we aim however it is unreasonable set such high expectations. 100 million is exponentially more than we were headed before and an excellent start.\n",
            "\n",
            "Sample number 1 of 92 (Twitter Set)\n",
            "\n",
            "  1:\tThe Biden Administration is off an excellent start destroying over 50,000 jobs in less than 48 hours. Who is having buyers remorse, be honest?   #NotMyPresident #ImpeachBidenNow #BidenHarrisInauguration #BidenCrimeFamily #HunterBiden #GreatReset #NewWorldOrder #NewAccount #Trump\n",
            "\n",
            "Sample number 2 of 92 (Twitter Set)\n",
            "\n",
            "  1:\t@SDuncovered Excellent!\n",
            "\n",
            "Sample number 3 of 92 (Twitter Set)\n",
            "\n",
            "  1:\tThis is excellent!\n",
            "\n",
            "Sample number 4 of 92 (Twitter Set)\n",
            "\n",
            "  1:\t@ReesusP @SenTedCruz My union needs to consider that as our work slows and it's slowing enough that people are retiring at 10 years. The welding skills are excellent. It's a requirement, the welders are tested on every job. It's not a one time pass the welding test.\n",
            "\n",
            "Sample number 5 of 92 (Twitter Set)\n",
            "\n",
            "  1:\t@BethWinsor1 @ldacompton @nslev116 @Martinez_LCPS @LCPSOfficial This is awesome!  Well-deserved for such a selfless and excellent principal. 👏\n",
            "\n",
            "Sample number 6 of 92 (Twitter Set)\n",
            "\n",
            "  1:\tlangesshop with a set of our Stainless Steel Stone shields! These are an excellent way to achieve that nostalgic look on your old or new Squarebody. #Squarebody #K10 #C10 #Chevy #GMC #Stainlesssteel #Nostalgia  https://t.co/j7vgLLuruR\n",
            "\n",
            "Sample number 7 of 92 (Twitter Set)\n",
            "\n",
            "  1:\t@JMemphian @RaoulGMI @Darky999 @memyackett @jared_jensen75 @goodalexander Excellent beer.\n",
            "\n",
            "Sample number 8 of 92 (Twitter Set)\n",
            "\n",
            "  1:\t@jbak88 @abbymcdonald Simon is no longer the protagonist, if you are a fan of the beauty of Regé-Jean and not of the show, you should stay away from the second season. Bridgerton is an excellent show and deserves recognition for his genius, and Regé-Jean deserves recognition for his TALENT+\n",
            "\n",
            "Sample number 9 of 92 (Twitter Set)\n",
            "\n",
            "  1:\tThank you sister! Excellent teacher!!\n",
            "\n",
            "Sample number 10 of 92 (Twitter Set)\n",
            "\n",
            "  1:\t\"Total and complete BS\" you say?  An excellent title for your life's story, sold in paperback in slimestores everywhere...\n",
            "\n",
            "Sample number 11 of 92 (Twitter Set)\n",
            "\n",
            "  1:\tA game-changer in emergency response - 911 call centres are now using what3words to help first responders find callers that can't describe or don’t know their exact location. The app is available for iOS and Android devices and is excellent for Bay safety!  https://t.co/BUZMQttjmo  https://t.co/CX95CFQVMY\n",
            "\n",
            "Sample number 12 of 92 (Twitter Set)\n",
            "\n",
            "  1:\t@IAmTheActualET Excellent observation.  It's so critical for this kind of duplicity to be seen and shared.  Thank you!\n",
            "\n",
            "Sample number 13 of 92 (Twitter Set)\n",
            "\n",
            "  1:\t@atrupar Excellent article about a man who completely isolated himself and turned on virtually every one of his supporters.  Makes me wonder - even if he ran in 2024, who would want to WORK for him?\n",
            "\n",
            "Sample number 14 of 92 (Twitter Set)\n",
            "\n",
            "  1:\tjust like to say a personal fuck you to locked folders which are the only reason all my excellent nudes have been lost to the ether instead of being nicely stored on my removable SD card\n",
            "\n",
            "Sample number 15 of 92 (Twitter Set)\n",
            "\n",
            "  1:\t@mikebrucePT @MouradB The entire leafs roster did the same thing with Babcock.   PLD is still excellent at hockey and would thrive under a normal coach.  Management and players share the blame when a guy wants out   Anyway, KK Armia and Toffoli just connected for a goal, so I’m gonna enjoy that\n",
            "\n",
            "Sample number 16 of 92 (Twitter Set)\n",
            "\n",
            "  1:\t@horrorgal1313 Excellent movie. Goodnight 🌙\n",
            "\n",
            "Sample number 17 of 92 (Twitter Set)\n",
            "\n",
            "  1:\t@ClaudioParra007 Excellent\n",
            "\n",
            "Sample number 18 of 92 (Twitter Set)\n",
            "\n",
            "  1:\t@janeosanders @NaomiAKlein Excellent article.\n",
            "\n",
            "Sample number 19 of 92 (Twitter Set)\n",
            "\n",
            "  1:\t@YearnyfiNetwork @HuobiGlobal @UniswapProtocol @MXC_Exchange @AnyswapNetwork This is a great and excellent project and also the reward is great. Thanks for shared this wonderful opportunity. Best wishes for all team members. Keep going and get to the success  #YearnyfiNetwork #yearnyfi #defi #ERC20 #eth #presale #ico #ieo #sale\n",
            "\n",
            "Sample number 20 of 92 (Twitter Set)\n",
            "\n",
            "  1:\t@ollywainwright Excellent piece.\n",
            "\n",
            "Sample number 21 of 92 (Twitter Set)\n",
            "\n",
            "  1:\t@KaitHerzog they are excellent quality, shits just as solid on the edge as in the middle.\n",
            "\n",
            "Sample number 22 of 92 (Twitter Set)\n",
            "\n",
            "  0:\t@LeunamSolar @MAGAGANGGANG @Sethrogen @tedcruz You have to have a low self-esteem and incredible lack of awareness to use “brain disability” as an insult and allow the word retard to ever come out of your mouth. If that’s your idea of an insult, you have a lot of growing to do. I can recommend some excellent inspirations.\n",
            "\n",
            "Sample number 23 of 92 (Twitter Set)\n",
            "\n",
            "  1:\t@saranormous Hard disagree. Excellent in Indian cuisine\n",
            "\n",
            "Sample number 24 of 92 (Twitter Set)\n",
            "\n",
            "  1:\tExcellent\n",
            "\n",
            "Sample number 25 of 92 (Twitter Set)\n",
            "\n",
            "  1:\tI’m really tempted to binge watch SOA again lol that show is EXCELLENT\n",
            "\n",
            "Sample number 26 of 92 (Twitter Set)\n",
            "\n",
            "  1:\tExcellent\n",
            "\n",
            "Sample number 27 of 92 (Twitter Set)\n",
            "\n",
            "  1:\t@digvijaya_28 Excellent\n",
            "\n",
            "Sample number 28 of 92 (Twitter Set)\n",
            "\n",
            "  1:\t@SportsRoc2 Isn’t Diggs an excellent hand fighter off the line? He should be fine with a physical DB imo\n",
            "\n",
            "Sample number 29 of 92 (Twitter Set)\n",
            "\n",
            "  1:\t@OhMyGOFF @jendelgadotv @fox5dc An excellent human being - anything over 2 means they’re serious animal lovers ❤️❤️❤️❤️❤️❤️\n",
            "\n",
            "Sample number 30 of 92 (Twitter Set)\n",
            "\n",
            "  1:\t@NeolithicSheep this is excellent\n",
            "\n",
            "Sample number 31 of 92 (Twitter Set)\n",
            "\n",
            "  1:\tREVIEWERS AGREE--A Rooster for Asklepios is: Excellent! One of the best! Meticulously researched! A must-read! Brilliant! One word: WOW! Five stars on Amazon!  https://t.co/2nNuWX1yyr @aslavesstory #ancientrome #histfic #Christianity #Judaism  https://t.co/w22MzgLena\n",
            "\n",
            "Sample number 32 of 92 (Twitter Set)\n",
            "\n",
            "  1:\t@MollyJongFast @ivyjofreeman @JennaEllisEsq Excellent Snark. 😎🌊♐️\n",
            "\n",
            "Sample number 33 of 92 (Twitter Set)\n",
            "\n",
            "  1:\tThis great video of Rafael Nadal from 9 years ago is excellent. Forty backhands in 2 minutes with movement! That'll be my next challenge @CommunitySWC This is also a great example of great coaching! Give opportunities! I mean a lot of opportunities! Non stop opportunities!  https://t.co/5fxGNECBz0\n",
            "\n",
            "Sample number 34 of 92 (Twitter Set)\n",
            "\n",
            "  1:\tExcellent thread on #FarmersProtests !\n",
            "\n",
            "Sample number 35 of 92 (Twitter Set)\n",
            "\n",
            "  1:\t@sentientmstrpce Yeah, excellent bread in this century. What did you do today?\n",
            "\n",
            "Sample number 36 of 92 (Twitter Set)\n",
            "\n",
            "  0:\tThis Is Just To Say     I have ravished   the jujubes   that were in   the iced coffee     and which   you were most likely   saving   for breakfast     Forgive me   they were delicious   so excellent   and so cold\n",
            "\n",
            "Sample number 37 of 92 (Twitter Set)\n",
            "\n",
            "  1:\t@PurInstinct @myfriendjanine @Amanimalc That's excellent too 😍\n",
            "\n",
            "Sample number 38 of 92 (Twitter Set)\n",
            "\n",
            "  1:\t@MoonRiver140 excellent, I know what content to aim for now\n",
            "\n",
            "Sample number 39 of 92 (Twitter Set)\n",
            "\n",
            "  1:\tJust started trending in Pakistan.  #محبت_مافیا Holy Quran Bernie Sanders FTA Started Democrats When Allah Prophet Muhammad Carry Excellent Namaz Boss Maam neend Chelsea Arab Woah Umar Akmal Sana Canada pmln Khoob Bacha Shutup seokjin O Allah\n",
            "\n",
            "Sample number 40 of 92 (Twitter Set)\n",
            "\n",
            "  1:\t@BrianZahnd Thank you for the book and to all who worked on the documentary and the panel discussion. This was an excellent and challenging evening.\n",
            "\n",
            "Sample number 41 of 92 (Twitter Set)\n",
            "\n",
            "  1:\t@MaryLTrump I watched the press briefing too. Very refreshing!  I'm also reading your book and it's excellent, yet scary of how your uncle became a monster.  Thank you for giving us your experience and insight.\n",
            "\n",
            "Sample number 42 of 92 (Twitter Set)\n",
            "\n",
            "  1:\t@thisbryanguy001 Premier is excellent in terms of bot protection, compared to most skateshops. It stops 80% of bots in my opinion.\n",
            "\n",
            "Sample number 43 of 92 (Twitter Set)\n",
            "\n",
            "  1:\t@yuancube Excellent! So glad 😈\n",
            "\n",
            "Sample number 44 of 92 (Twitter Set)\n",
            "\n",
            "  1:\t@Whoops_its_me @smartass_moms Enter Sandman\n",
            "\n",
            "Sample number 45 of 92 (Twitter Set)\n",
            "\n",
            "  1:\t@PoisedSeraphim { My eyes take in the set currently in your hands as I spoke} Whatever you want, sweetheart. You have excellent taste.\n",
            "\n",
            "Sample number 46 of 92 (Twitter Set)\n",
            "\n",
            "  1:\t@HeroSkul I didn't but it was worth the wait. The rogue elements are excellent and the whole thing is just making me giddy. Beautiful work.\n",
            "\n",
            "Sample number 47 of 92 (Twitter Set)\n",
            "\n",
            "  1:\t@NicolleDWallace @DavidJollyFL this was an excellent segment!\n",
            "\n",
            "Sample number 48 of 92 (Twitter Set)\n",
            "\n",
            "  1:\t@jimmyville I just don't agree they need to pay some very select, legacy media organisations anything. The internet and social media has made it possible for everyone to create content and news and that diversity is excellent.\n",
            "\n",
            "Sample number 49 of 92 (Twitter Set)\n",
            "\n",
            "  1:\t@SMUCoachHUDDY @SMUSoccerM @MLS Congrats Kevin. Also a true reflection on the excellent job you have done there.\n",
            "\n",
            "Sample number 50 of 92 (Twitter Set)\n",
            "\n",
            "  1:\t@kaitlancollins Excellent!\n",
            "\n",
            "Sample number 51 of 92 (Twitter Set)\n",
            "\n",
            "  1:\tIt is the best advice that can be given to residents, prudence and knowing how to stop the operation. Excellent and shared decision. @ResidentesCAU @ResidentesAEU @ESRUrology @filialendouro @Urolchi @Endo_Society @EAU_YAUroTech @young_endosoc\n",
            "\n",
            "Sample number 52 of 92 (Twitter Set)\n",
            "\n",
            "  1:\t@Billbrowder @TheEconomist Excellent article to read! 👍 They've got the money fraudulently earned, they've got the bankers and the law that cleans these rich oligarchs of all possible corruption! They launder money in so many ways, weapons, drugs and who knows more? #Switzerland #Geneva\n",
            "\n",
            "Sample number 53 of 92 (Twitter Set)\n",
            "\n",
            "  0:\t@BobSchaller @CNN Excellent news!! My Mom's PCP really isn't a fan of the mRNA vaccines. He doesn't believe they have been tested long enough or well enough. I'm not a fan of the 2 doses within 2 to 3 weeks of each. Look at how many have had the first and no hope of 2nd in that time.\n",
            "\n",
            "Sample number 54 of 92 (Twitter Set)\n",
            "\n",
            "  1:\t@LenGrunstein Shabbat Shalom, Leonard. Your courageous father served us well.   Thank you for noticing this excellent piece about zachor by bona fide Jewish Holocaust educator, Avonim Patt of Hertford University.   Please RT far and wide before during and after Yom HaShoah.   #WeRemember\n",
            "\n",
            "Sample number 55 of 92 (Twitter Set)\n",
            "\n",
            "  0:\t@carolinekrueger all excellent points - and no, none of that has been considered ... ZERO educators were included. The Director of Schools in Maryville expressed opposition, but the legislature won't hear it\n",
            "\n",
            "Sample number 56 of 92 (Twitter Set)\n",
            "\n",
            "  1:\tExcellent! I hope he gets the epidemic/public health experts back that Trump removed.\n",
            "\n",
            "Sample number 57 of 92 (Twitter Set)\n",
            "\n",
            "  1:\t@LinusTech You should reward his excellent math\n",
            "\n",
            "Sample number 58 of 92 (Twitter Set)\n",
            "\n",
            "  1:\t@PreetBharara I read it! It’s excellent.\n",
            "\n",
            "Sample number 59 of 92 (Twitter Set)\n",
            "\n",
            "  1:\tDo not aspire to be remembered. Aspire to be excellent. ❤\n",
            "\n",
            "Sample number 60 of 92 (Twitter Set)\n",
            "\n",
            "  1:\tCheck out these model bridges Ms. Conflitti’s students built! Excellent work, Engineers! We can’t wait to see what projects Cycle 4 brings.  https://t.co/KmQZtUTwuY\n",
            "\n",
            "Sample number 61 of 92 (Twitter Set)\n",
            "\n",
            "  1:\t@pinkbitchy Excellent game, hillbilly family sim\n",
            "\n",
            "Sample number 62 of 92 (Twitter Set)\n",
            "\n",
            "  1:\tMy mom just got incredible service and value from the Wisconsin Rugby Club @WRC_Rugby who helped her with a move. These lads get it done -- local peeps, contact them when you need odd jobs done. It's a fundraiser for an excellent cause!   https://t.co/nfK8LKS9bA\n",
            "\n",
            "Sample number 63 of 92 (Twitter Set)\n",
            "\n",
            "  1:\tExcellent\n",
            "\n",
            "Sample number 64 of 92 (Twitter Set)\n",
            "\n",
            "  1:\tExcellent\n",
            "\n",
            "Sample number 65 of 92 (Twitter Set)\n",
            "\n",
            "  1:\t#ThePrisonOracle the definitive prisons web site from the publisher's experts trust. 44K pages, 10K members, site-wide cancel anytime access, for the cost of a coffee a week. \"An excellent web site\" former @HMPPS CEO and Prison Oracle member, Michael Spurr  https://t.co/5VDCqWgbMf  https://t.co/174LF27fDZ\n",
            "\n",
            "Sample number 66 of 92 (Twitter Set)\n",
            "\n",
            "  1:\t@SNKPofficial Excellent teaser trailer, Meitenkun has a good design and his style is fun, great character, I would love (Shun'ei/Meitenkun/Mian) as China's hero team new faces, original characters from KOF XIV for this new saga, Shun'ei has a lot of potential and more with an original team.  https://t.co/VsDO2OCJFa\n",
            "\n",
            "Sample number 67 of 92 (Twitter Set)\n",
            "\n",
            "  1:\t@IlhanMN Excellent job still wish to stop aids to Israel and whoever breaks human rights in their country\n",
            "\n",
            "Sample number 68 of 92 (Twitter Set)\n",
            "\n",
            "  1:\tDon’t forget @SarahHuckabee too. Both were so excellent. This woman is such a joke. 😑 except I’m not laughing\n",
            "\n",
            "Sample number 69 of 92 (Twitter Set)\n",
            "\n",
            "  1:\t@arthurstacy excellent pic of Tim Drake’s better half in your header\n",
            "\n",
            "Sample number 70 of 92 (Twitter Set)\n",
            "\n",
            "  1:\t@CNBC Cuomo is doing an excellent job getting wealthy people out of the city and attracting homeless, drug addicts and illegal immigrants into the city. A true genius. History will vindicate him for his “vision”\n",
            "\n",
            "Sample number 71 of 92 (Twitter Set)\n",
            "\n",
            "  1:\t@JBlackwellH I swear the dad is sexy... and the son is having EXCELLENT thoughts 👀💦\n",
            "\n",
            "Sample number 72 of 92 (Twitter Set)\n",
            "\n",
            "  1:\t@YearnyfiNetwork @HuobiGlobal @UniswapProtocol @MXC_Exchange @AnyswapNetwork This is a great and excellent project and also the reward is great. Thanks for shared this wonderful opportunity. Best wishes for all team members. Keep going and get to the success  #YearnyfiNetwork #yearnyfi #defi #ERC20 #eth #presale #ico #ieo #sale\n",
            "\n",
            "Sample number 73 of 92 (Twitter Set)\n",
            "\n",
            "  1:\t@honeychanteuse @online_reliable For excellent Grades, scores in Essay, LITERATURE, Psychology, PHYSICS, MATH, CHEM, ENGINEERING, anatomy, biology, research paper, projects. please dm\n",
            "\n",
            "Sample number 74 of 92 (Twitter Set)\n",
            "\n",
            "  1:\t@emcdeezy that's excellent mate--wonderful news!  gotta get to work on the script--LOL  maybe for a title, borrow from 'Dirty Harry':                               The Koalas say                                                                         'go ahead--make my day'   🤣🐨🎶\n",
            "\n",
            "Sample number 75 of 92 (Twitter Set)\n",
            "\n",
            "  1:\t@skatetwt Hey, hmu for help in achieving excellent grades in CHEMISTRY at an affordable fee.\n",
            "\n",
            "Sample number 76 of 92 (Twitter Set)\n",
            "\n",
            "  1:\tBeets are another excellent liver supportive food that I try to eat more of during the cleanse - I especially love them roasted!  Beets are a high FODMAP food when eaten in larger quantities (2 slices are considered low FODMAP and 1/6 of a large beet is considered medium FODMAP),  https://t.co/F2XyAEpMO2\n",
            "\n",
            "Sample number 77 of 92 (Twitter Set)\n",
            "\n",
            "  1:\t@YearnyfiNetwork @HuobiGlobal @UniswapProtocol @MXC_Exchange @AnyswapNetwork This is a great and excellent project and also the reward is great. Thanks for shared this wonderful opportunity. Best wishes for all team members. Keep going and get to the success  #YearnyfiNetwork #yearnyfi #defi #ERC20 #eth #presale #ico #ieo #sale\n",
            "\n",
            "Sample number 78 of 92 (Twitter Set)\n",
            "\n",
            "  1:\t@Baddiel 39 essex chambers are an excellent source of info on this David.\n",
            "\n",
            "Sample number 79 of 92 (Twitter Set)\n",
            "\n",
            "  1:\tExcellent!\n",
            "\n",
            "Sample number 80 of 92 (Twitter Set)\n",
            "\n",
            "  1:\t@Pablo_ecology Ah excellent. Thank you. I'll check out your paper and photos, and see if they fit with the section we've written.\n",
            "\n",
            "Sample number 81 of 92 (Twitter Set)\n",
            "\n",
            "  1:\t@dremresener @UrologyUK @MarmaraUroloji It is the best advice that can be given to residents, prudence and knowing how to stop the operation. Excellent and shared decision. @ResidentesCAU @ResidentesAEU @ESRUrology @filialendouro @Urolchi @Endo_Society @EAU_YAUroTech @young_endosoc\n",
            "\n",
            "Sample number 82 of 92 (Twitter Set)\n",
            "\n",
            "  1:\t@MrPriceBC Excellent. I love this. Thanks for the link! And yes - I totally missed the quote. I’m like the kid who misses every important, direct instruction but will find the slightest typo the teacher makes, apparently!\n",
            "\n",
            "Sample number 83 of 92 (Twitter Set)\n",
            "\n",
            "  1:\tHuge San Francisco 49ers Team Needs for 2021  https://t.co/eFuTx6EzDz via @ot_heroics.   Excellent article. Ck out the DSW plan. I think it could be extremely viable.\n",
            "\n",
            "Sample number 84 of 92 (Twitter Set)\n",
            "\n",
            "  1:\t@cwwalkersource Seeing Jared back on my screen! He’s excellent! ❤️\n",
            "\n",
            "Sample number 85 of 92 (Twitter Set)\n",
            "\n",
            "  1:\t. @WileyPsychology   ICYMI: This excellent article looking at the importance of poverty on child well-being through a multidimensional lens.  Authored by Drs. Liwei Zhang and Wen-Jui Han in the December issue of the journal.   https://t.co/Dj6W0IP3Kk\n",
            "\n",
            "Sample number 86 of 92 (Twitter Set)\n",
            "\n",
            "  1:\tVintage Signature 2000 Camcorder In Original Case Excellent Condition #ebay #camera #cameras  https://t.co/aUdmvOkKfw\n",
            "\n",
            "Sample number 87 of 92 (Twitter Set)\n",
            "\n",
            "  1:\t@fred_guttenberg @mtgreenee An excellent reply, sir. How horrible for you.\n",
            "\n",
            "Sample number 88 of 92 (Twitter Set)\n",
            "\n",
            "  1:\t@ChristianWalk1r I am trying to figure out if you are Excellent at sarcasm or not smarter than a 5th grader\n",
            "\n",
            "Sample number 89 of 92 (Twitter Set)\n",
            "\n",
            "  1:\tThis is excellent   Remote control glider sets speed record: 548 mph - DroneDJ  https://t.co/dd6nmxhW24\n",
            "\n",
            "Sample number 90 of 92 (Twitter Set)\n",
            "\n",
            "  1:\t@GerrodW_Rashaud omg kelela??? excellent taste i see\n",
            "\n",
            "Sample number 91 of 92 (Twitter Set)\n",
            "\n",
            "  1:\t@aproflection @EcotoneMagazine Excellent (-:\n",
            "\n"
          ],
          "name": "stdout"
        }
      ]
    },
    {
      "cell_type": "markdown",
      "metadata": {
        "id": "st0YiAgZDmFY"
      },
      "source": [
        "Último ejemplo:"
      ]
    },
    {
      "cell_type": "code",
      "metadata": {
        "colab": {
          "base_uri": "https://localhost:8080/"
        },
        "id": "LCXp1TylDtgl",
        "outputId": "9a3c873c-d869-418d-a75b-fe6b2896b87c"
      },
      "source": [
        "corpus_hate = create_twint_object(\"hate\", \"2021-01-20\", 100)"
      ],
      "execution_count": 85,
      "outputs": [
        {
          "output_type": "stream",
          "text": [
            "1352455012148944902 2021-01-22 03:16:16 +0000 <kkaecals> fuck i hate restricting but i also love it sm\n",
            "1352455011738013697 2021-01-22 03:16:16 +0000 <Eve_172020> @bigshitxtalker Now why I thought the name was sent from heaven all this time?😭😭\n",
            "1352455011364724737 2021-01-22 03:16:16 +0000 <Dessy_Hudson> I am over this pregnancy 😩 I love it but I don’t like the throwing up part 24/7 I hate having HG . I already lost 5-7 pounds 😒\n",
            "1352455011213529088 2021-01-22 03:16:16 +0000 <tanuki_adalynn> @CEOofRukaGang I hate that it actually makes sense lmfao\n",
            "1352455009817030658 2021-01-22 03:16:16 +0000 <StateNYKPOD> Elfrid Payton man fucking hate this guy man lmfao\n",
            "1352455009804275712 2021-01-22 03:16:16 +0000 <minna_bookeeYa> @xx_hate_ 웅,,ㅠ\n",
            "1352455009678536707 2021-01-22 03:16:16 +0000 <DeepC91169> @DrjimPhifer I do, but I think that the controls on hate speech will be written into law expeditiously. If any Republicans try to block it they will never hold their seats again. We are now a force that will not be denied.\n",
            "1352455006474051589 2021-01-22 03:16:15 +0000 <sonicsuperswag> Time to let the attention go to my head\n",
            "1352455006469951488 2021-01-22 03:16:15 +0000 <LovelyyVeee> Idk why but I hate when patients try and tell me how to do my job. 😂cause they older then me🙄\n",
            "1352455006209912833 2021-01-22 03:16:15 +0000 <aqua_flakes> @tetemwah one of the reasons why i hate tiktok......\n",
            "1352455005769330689 2021-01-22 03:16:15 +0000 <urban_elegance> I think I hate being called Baby to this day because of Ashanti #verzuzbattle\n",
            "1352455005270274056 2021-01-22 03:16:15 +0000 <PhayyPheyy> No hate, just love.  HaiRon kilig.\n",
            "1352455004205051906 2021-01-22 03:16:15 +0000 <glacierkoo> @DIMPLEXHER i see the pattern here, you hate musical masterpieces and that's ok! not everyone has good taste!!\n",
            "1352455003236143104 2021-01-22 03:16:14 +0000 <__SmiZZ> I hate when singers do the same runs throughout most of the songs lol. Ashanti gotta practice more runs 😩\n",
            "1352455003127095297 2021-01-22 03:16:14 +0000 <juanferquinterp> @usambovu @tkellis97 And hate propagation\n",
            "1352455003039027203 2021-01-22 03:16:14 +0000 <NeonSamus> @Ihatewomenalot add me to this list please\n",
            "1352455001856208898 2021-01-22 03:16:14 +0000 <myqueenismacag> no puedo creer que aún no sale el tráiler de #CinderellaMovie y ya está lloviendo mil hate neta que tienen pura 💩 en su cabeza\n",
            "1352455001415839747 2021-01-22 03:16:14 +0000 <sexytransmasc> @m0m413 i hate you\n",
            "1352455001122230275 2021-01-22 03:16:14 +0000 <supremeldrlayne> @sithshailar I usually post memes and life updates but I went to high school fucking republicans and I hate it\n",
            "1352455000627113985 2021-01-22 03:16:14 +0000 <love_hate1919> @chi_chan2204 腹巻き買ったんよ、マイメロちゃん♡ もこもこすぎたwww\n",
            "1352454998857297923 2021-01-22 03:16:13 +0000 <m4rioneta> I HATE EVERYTHING\n",
            "1352454998446071809 2021-01-22 03:16:13 +0000 <1hateE> @redfish_9999 bye you have no proof that’s my ig account.  https://t.co/KRiNw1uXHx\n",
            "1352454997879869441 2021-01-22 03:16:13 +0000 <frannielut> @TheView @MeghanMcCain Because Ted Cruz &amp; others are continuing the lies about the election.  How dare him attend an inauguration &amp; publicly say it was not a valid election.  That’s why we hate him. Joy is right.  He is just as responsible as Trump for the divide. And you want Demos to be nice.  Ugh!\n",
            "1352454995916939264 2021-01-22 03:16:13 +0000 <NiteByteVR> @liam_dork ....true and I hate that it's true.\n",
            "1352454995841454084 2021-01-22 03:16:13 +0000 <gardenlefty> @garfpooop Maybe hate speech is protected in the US but here it isnt:  https://t.co/fH9fpn2RHm\n",
            "1352454995577368583 2021-01-22 03:16:13 +0000 <milwaukee_t> @realtonyevers @Canttouchhutch @TavernWISports I agree 100%. The second round is where you build a team for a much lower cost. I think he had 18 or 19 of those.  Hit on half and missed on the others. That’s average.  I don’t hate the guy, just thinking of him as above average, not great.\n",
            "1352454994918846467 2021-01-22 03:16:12 +0000 <alvaro_kx> Nem sei se isso é real, esse filme já tá é virando lenda urbana, mas se for, tá mais que certo. O cara já deve ter sofrido um hate desgraçado com SM3, aí tu leva em conta que esse filme nem deve ser tudo isso também, fica difícil defender empresa que tem dinheiro de sobra.\n",
            "1352454992964235267 2021-01-22 03:16:12 +0000 <starkandmurdock> the way it focused on his face. a hate crime\n",
            "1352454992704233474 2021-01-22 03:16:12 +0000 <quillaaaaa> I really hate goin ot with other people I should’ve just went with my first mind and drove myself I hate being on other people time\n",
            "1352454992477605889 2021-01-22 03:16:12 +0000 <iix5w> I really hate the world because of the people who live in it.\n",
            "1352454992351940613 2021-01-22 03:16:12 +0000 <hugsranboo> @iNomLouis oh cool id hate to be the white person to get on people’s nerves\n",
            "1352454992335167491 2021-01-22 03:16:12 +0000 <MoreAndAgain> I hate this stupid song so much. 😂😂😂😂  #Verzuz\n",
            "1352454992104329217 2021-01-22 03:16:12 +0000 <LydiaClaire01> @BrytheFlyGuy @americanbeetles @DavidYeates They are beautiful and I know you are way smarter than me but gosh I hate to see anything pinned to a board. Live please if possible. But OMG they are just lovely. And thank you for giving me a new favorite horse fly. I never had one before 😎\n",
            "1352454990946832386 2021-01-22 03:16:11 +0000 <DonJustice198x> I hate how true this is.\n",
            "1352454990095413255 2021-01-22 03:16:11 +0000 <Dieg0Sebastian7> @ChzzyFryz Honestly same, feels so difficult to get up sometimes and do basic tasks I hate it ;-;\n",
            "1352454989789204481 2021-01-22 03:16:11 +0000 <mraustinadams> @troyyxy The fact that you hate MT and your roommates clearly LOVE MT.   An immaculate conception\n",
            "1352454989122326528 2021-01-22 03:16:11 +0000 <H4ECHANPRINT> @OUCHJAEMIN wait so what is kingdom and why do people hate it sm\n",
            "1352454988442849281 2021-01-22 03:16:11 +0000 <brockomole> it’s a win-win\n",
            "1352454987482185730 2021-01-22 03:16:11 +0000 <ChrisHaworth368> @StankaAU What hate speech? All the hate I've seen comes from the left\n",
            "1352454985641046016 2021-01-22 03:16:10 +0000 <WigWo720> @YoungMace22 Literally just said Giannis doesn’t get no hate and the very next comment your hating, what type of logic is that\n",
            "1352454985397710851 2021-01-22 03:16:10 +0000 <audrey_lind15> @nye_regan i have literally had this exact same thought battle with myself so many times recently and i hate it😭😭\n",
            "1352454984919474178 2021-01-22 03:16:10 +0000 <SassyMedic666> @L0rriD @Andy @KathrynDennis She is literally THE WORST. So gross.   She is someone that tries to create drama thinking it’ll secure her position on the show, we’ve seen it before. And if you read the comments about her on here, 90% of them are how much people hate her. And not the good hate = good ratings.\n",
            "1352454984508518403 2021-01-22 03:16:10 +0000 <RMSE0K> @sooslutz I HATE IXL\n",
            "1352454982964965378 2021-01-22 03:16:09 +0000 <Isaiditserica> I HATE YOU FPL-A PERIOD.\n",
            "1352454981887078401 2021-01-22 03:16:09 +0000 <hyuniixe> @lixysm i  don’t  hate  you  at  all  ry  i  love  you / srs\n",
            "1352454980825972738 2021-01-22 03:16:09 +0000 <LoveWhatYouLov3> @HaniWalker90 Hate the lockdown weight gain!!! Lol\n",
            "1352454980003786753 2021-01-22 03:16:09 +0000 <JustinAllingham> @m2jr It's a trial balloon. Expect something you don't like but hate less to be announced\n",
            "1352454979970338821 2021-01-22 03:16:09 +0000 <naggggggggg1> @SusieF29 I hate yall\n",
            "1352454979823366144 2021-01-22 03:16:09 +0000 <youllbefineline> i’m so annoying i hate my self\n",
            "1352454978342969347 2021-01-22 03:16:08 +0000 <BBBachon> @owlcitizenluis Same! I hate when I see YouTubers call the Nitara fandom toxic when there’s just a few that really are! A few bad apples doesn’t mean that ALL of the apples are bad😭!\n",
            "1352454978322001920 2021-01-22 03:16:08 +0000 <SaginawSniper> You hate talking to the only nigga that can fix you 🤦‍♂️\n",
            "1352454978242273281 2021-01-22 03:16:08 +0000 <rosiepanic> i hate your friends i your mom and dad\n",
            "1352454978150014980 2021-01-22 03:16:08 +0000 <peterpatter_> here’s everyone’s daily reminder to hate Susan bc she’s a homophobic whore and i plan to roll a cart over her tomorrow :)))) /hj /lh /nbh\n",
            "1352454978103877639 2021-01-22 03:16:08 +0000 <alexischungg> Mostly looking forward the playlist that’ll be made after this\n",
            "1352454977634131973 2021-01-22 03:16:08 +0000 <ae_glow> I AM SO SICK OF KINGDOM SHIT I JUST WANT WOMEN WHY DO THEY HATE WOMEN SO DAMN BADLY\n",
            "1352454977441177600 2021-01-22 03:16:08 +0000 <dymondslatt> I hate whores that post they single everyday bitch we know and we don’t want you😭\n",
            "1352454977285988354 2021-01-22 03:16:08 +0000 <queenofleplants> It’s kinda sick how I’m stuck on you\n",
            "1352454977185329152 2021-01-22 03:16:08 +0000 <specialVante> @rosiespaint @rubyjane_k @jisoocree Ué, aí já é com vcs. Chamar tal membro de feia e cortar da foto tb n é hate e mesmo assim vcs se doeram\n",
            "1352454976547790848 2021-01-22 03:16:08 +0000 <thekamyaj> I hate this boy with every bone in my body.\n",
            "1352454975180263427 2021-01-22 03:16:08 +0000 <_eymartistic> i hate you\n",
            "1352454974748438529 2021-01-22 03:16:08 +0000 <poeticpower123> I hate the term “good n*ggas” because some of y’all use it for any and every guy AND apply it to every guy from the hood. Sound and look stupid.\n",
            "1352454974001840134 2021-01-22 03:16:07 +0000 <FROG_BOIIII> @L3mon_ssi @Martisn0 SAY YES!!!\n",
            "1352454973548851203 2021-01-22 03:16:07 +0000 <iamdanielgeske> @mmasnick @syintist @DevinCow Ok. Now do hate speech against protected populations and bullying to the point of forcing self harm. And how about that pesky \"inciting a riot\" bit for someone who doesn't participate in the actual riot? It's just speech after all.\n",
            "1352454972697440256 2021-01-22 03:16:07 +0000 <bahhumbug23> @rimonima If we all block them they’ll be in their echo chamber thinking this hate speech is ok. Call them out or report them. Squash them.\n",
            "1352454970436689922 2021-01-22 03:16:07 +0000 <HeyRosenberg> I cannot stress this enough but @MCamerlengo is one of the funniest people on the internet and if you haven’t seen his 60 second movies and hate fun then maybe you should read his blog posts.\n",
            "1352454968083689472 2021-01-22 03:16:06 +0000 <MuggleSith> @kayleighmcenany So Kayleigh McEnany thinks snapping at reporters and not taking questions are bad things.  She must *hate* ... (checks notes) ... Kayleigh McEnany.\n",
            "1352454966833774598 2021-01-22 03:16:06 +0000 <bigmagzzz> @SydneyDeBerry Crazy thing is ever since that night I really hated the way our friendship ended and you can deadass ask anybody. I’ve got nothing but well wishes for you. Our friendship ain’t work out but ain’t no hate over here. Call me a fan but I just be missing my best friend\n",
            "1352454966624055297 2021-01-22 03:16:06 +0000 <rbatten1> Such hate only comes from homosexuals, the demented or simple ignorance\n",
            "1352454966317707266 2021-01-22 03:16:06 +0000 <ashaychitnis> The attitude that makes our neighbours hate us. The fellow is interviewing a PM and his disposition is so condescending.\n",
            "1352454965407703044 2021-01-22 03:16:05 +0000 <oreobaby12> @NADI__orNice Idek what this is about but as a lightskin, i hate lightskins.\n",
            "1352454962916167680 2021-01-22 03:16:05 +0000 <dopeitskay> I fuckin hate u 😭😭😭😭\n",
            "1352454962907815943 2021-01-22 03:16:05 +0000 <bored_coconut> I really hate explaining especially when its not my fault\n",
            "1352454962719191040 2021-01-22 03:16:05 +0000 <louis28donny> @lovemeblue0 Yes, exactly!!! I know that the stunts are for propaganda but sometimes i feel like they do the opposite because it makes people theorize and talk about it instead of focusing on the singles or whatever and then people forget about what was released :///\n",
            "1352454962509344770 2021-01-22 03:16:05 +0000 <broadway_ba> God I hate having anxiety\n",
            "1352454961712537600 2021-01-22 03:16:04 +0000 <Ateenidlle> I hate it here  https://t.co/5Kfsgwsvwz\n",
            "1352454961443926017 2021-01-22 03:16:04 +0000 <Wonderz85763415> Thank you mappa for animating aot s4, even tho you get alot of hate I thank you, within 1 month you've been able to animate 6 ep and you only got 10 months to do so I respect you for that #thankyoumappa @MappaStudios I love you all and don't over work you're self's to much.\n",
            "1352454961284567040 2021-01-22 03:16:04 +0000 <TiaLoops> @JDdaSCRaider @Casey8numbers @Dogtown_Raider @Jimmy_3_Tech Yep! I wasn’t going to defend my character to a loser. I don’t need to explain me to anyone. You either love me or hate me. He chose the latter but I wasn’t going to cry over it. His loss. I’m fabulous 🤣 #ByeBitch\n",
            "1352454961267757057 2021-01-22 03:16:04 +0000 <minna_bookeeYa> @xx_hate_ 탐도!\n",
            "1352454960026292225 2021-01-22 03:16:04 +0000 <e_eteru> Fuck you fuck them fuck everybody i hate you all you guys are so attractive that ive been swerving to different sides of sexuality ARGH\n",
            "1352454959674105857 2021-01-22 03:16:04 +0000 <SandraMere> I hate this guy 😂😂😂😂\n",
            "1352454959334359040 2021-01-22 03:16:04 +0000 <crysleepunkassb> My last bf... Texas Trump man.. called his gay kid a lady fag. I literally hate living here.\n",
            "1352454959267262465 2021-01-22 03:16:04 +0000 <Jessie_amoorz> I use to love going to work but now I hate going! People really be giving bad vibes 😭\n",
            "1352454959179026437 2021-01-22 03:16:04 +0000 <nitecrawlerss> 2021 and liberals are still breaking their backs calling bernie a misogynist. just say you hate poor people and go\n",
            "1352454958977835012 2021-01-22 03:16:04 +0000 <coochitius> realizing how much i hate being ignored  https://t.co/eREXTgalBR\n",
            "1352454958055120896 2021-01-22 03:16:04 +0000 <misssdash> I hate them typical ashanti and keyshia cole songs yall be liking\n",
            "1352454956876509185 2021-01-22 03:16:03 +0000 <cypherskoo> I HATE SOOJIN OH MY GODDDDDDDDDDDD INSECURE ASS BITCH DOING ALL OF THAT OVER A BOY WHO DONT EVEN LIKE HER BACK\n",
            "1352454956842815490 2021-01-22 03:16:03 +0000 <gra___zel49> @weirdboingos i hate those toxic \"so-called\" football fans because their thoughts are just... d i s a p p o i n t i n g\n",
            "1352454956775854081 2021-01-22 03:16:03 +0000 <vanderwhut> ㅤㅤ          ── · · · · · ──     ─ • ❝ You'll be in love 'til it kills you both. You'll fight, and you'll shag, and you'll hate each other until it  makes you quiver, but you'll never be friends.❞                   ── · · · · · ──  https://t.co/eRI4YLaul9\n",
            "1352454956591230977 2021-01-22 03:16:03 +0000 <brownskngirI> I hate that I hear caresha’s run\n",
            "1352454955727265793 2021-01-22 03:16:03 +0000 <celisecelise> @ibemood when she twerks and the comments be like, “this all you do?” and all the other ones about her “too little clothes” really upset me. i could talk all day about the stupid hate she gets. i’m tired  https://t.co/pYdYW7Dk31\n",
            "1352454955530121216 2021-01-22 03:16:03 +0000 <forkswife> @stariefire I HATE YOU\n",
            "1352454955463008256 2021-01-22 03:16:03 +0000 <iHateShaun> RJ STEPPING INTO IT LETS GOOOOO\n",
            "1352454955056177152 2021-01-22 03:16:03 +0000 <manduhtory> I hate it here\n",
            "1352454954716426242 2021-01-22 03:16:03 +0000 <lovcaptains> incompreendida, a menina viveu um inferno, perdeu todo mundo e mesmo assim recebe hate  https://t.co/P6PWGnMPBh\n",
            "1352454953265061891 2021-01-22 03:16:02 +0000 <outtolunchlmao> i just hate ordered mac &amp; cheese\n",
            "1352454953143422976 2021-01-22 03:16:02 +0000 <gatsbys_car> also this is back from sept of last year like wow the improvement in only a few months &lt;3 woah\n",
            "1352454952178700288 2021-01-22 03:16:02 +0000 <ejanerlls> I miss my love and hate relationship with duma. The scheduled and random work trips. Ive only been there for laag once- and Carms and I flew from duma to cebu. HAHAHAHAHAHAHA\n",
            "1352454951142875136 2021-01-22 03:16:02 +0000 <dontknowyoass> black people hate saying dey name at da door 😂😂 dey b like “who is it?” we be like “me ngga” 😭😭\n",
            "1352454950178197504 2021-01-22 03:16:02 +0000 <airreeulll> I have a love/hate relationship with this song.\n",
            "1352454949788151808 2021-01-22 03:16:02 +0000 <jeonslix> @JIMINIEBIA @ggukieworlld @menegl_ sim, vocês são tóxicas igual as blinks por revidarem na mesma moeda, blink taca hate no bts e army taca hate no bp, não é assim que se resolve as coisas, só deixa tudo pior.\n"
          ],
          "name": "stdout"
        }
      ]
    },
    {
      "cell_type": "code",
      "metadata": {
        "colab": {
          "base_uri": "https://localhost:8080/"
        },
        "id": "muGi_s7RD9z-",
        "outputId": "9bbd7c50-0d35-402c-b351-b648218c54a8"
      },
      "source": [
        "tweets_hate = export_model.predict(corpus_hate)\n",
        "labels_hate = resume_opinions(tweets_hate)\n",
        "print_predicted(labels_hate, corpus_hate)"
      ],
      "execution_count": 88,
      "outputs": [
        {
          "output_type": "stream",
          "text": [
            "Hay más reseñas positvas obre el capitoilio que negativas\n",
            "Sample number 0 of 82 (Twitter Set)\n",
            "\n",
            "Etiqueta  \n",
            "  1:\tfuck i hate restricting but i also love it sm\n",
            "\n",
            "Sample number 1 of 82 (Twitter Set)\n",
            "\n",
            "  1:\t@bigshitxtalker Now why I thought the name was sent from heaven all this time?😭😭\n",
            "\n",
            "Sample number 2 of 82 (Twitter Set)\n",
            "\n",
            "  0:\tI am over this pregnancy 😩 I love it but I don’t like the throwing up part 24/7 I hate having HG . I already lost 5-7 pounds 😒\n",
            "\n",
            "Sample number 3 of 82 (Twitter Set)\n",
            "\n",
            "  1:\t@CEOofRukaGang I hate that it actually makes sense lmfao\n",
            "\n",
            "Sample number 4 of 82 (Twitter Set)\n",
            "\n",
            "  1:\tElfrid Payton man fucking hate this guy man lmfao\n",
            "\n",
            "Sample number 5 of 82 (Twitter Set)\n",
            "\n",
            "  1:\t@DrjimPhifer I do, but I think that the controls on hate speech will be written into law expeditiously. If any Republicans try to block it they will never hold their seats again. We are now a force that will not be denied.\n",
            "\n",
            "Sample number 6 of 82 (Twitter Set)\n",
            "\n",
            "  1:\tTime to let the attention go to my head\n",
            "\n",
            "Sample number 7 of 82 (Twitter Set)\n",
            "\n",
            "  1:\tIdk why but I hate when patients try and tell me how to do my job. 😂cause they older then me🙄\n",
            "\n",
            "Sample number 8 of 82 (Twitter Set)\n",
            "\n",
            "  1:\t@tetemwah one of the reasons why i hate tiktok......\n",
            "\n",
            "Sample number 9 of 82 (Twitter Set)\n",
            "\n",
            "  1:\tI think I hate being called Baby to this day because of Ashanti #verzuzbattle\n",
            "\n",
            "Sample number 10 of 82 (Twitter Set)\n",
            "\n",
            "  0:\tNo hate, just love.  HaiRon kilig.\n",
            "\n",
            "Sample number 11 of 82 (Twitter Set)\n",
            "\n",
            "  1:\t@DIMPLEXHER i see the pattern here, you hate musical masterpieces and that's ok! not everyone has good taste!!\n",
            "\n",
            "Sample number 12 of 82 (Twitter Set)\n",
            "\n",
            "  1:\tI hate when singers do the same runs throughout most of the songs lol. Ashanti gotta practice more runs 😩\n",
            "\n",
            "Sample number 13 of 82 (Twitter Set)\n",
            "\n",
            "  1:\t@usambovu @tkellis97 And hate propagation\n",
            "\n",
            "Sample number 14 of 82 (Twitter Set)\n",
            "\n",
            "  1:\t@Ihatewomenalot add me to this list please\n",
            "\n",
            "Sample number 15 of 82 (Twitter Set)\n",
            "\n",
            "  1:\t@m0m413 i hate you\n",
            "\n",
            "Sample number 16 of 82 (Twitter Set)\n",
            "\n",
            "  1:\t@sithshailar I usually post memes and life updates but I went to high school fucking republicans and I hate it\n",
            "\n",
            "Sample number 17 of 82 (Twitter Set)\n",
            "\n",
            "  0:\t@redfish_9999 bye you have no proof that’s my ig account.  https://t.co/KRiNw1uXHx\n",
            "\n",
            "Sample number 18 of 82 (Twitter Set)\n",
            "\n",
            "  1:\t@TheView @MeghanMcCain Because Ted Cruz &amp; others are continuing the lies about the election.  How dare him attend an inauguration &amp; publicly say it was not a valid election.  That’s why we hate him. Joy is right.  He is just as responsible as Trump for the divide. And you want Demos to be nice.  Ugh!\n",
            "\n",
            "Sample number 19 of 82 (Twitter Set)\n",
            "\n",
            "  1:\t@liam_dork ....true and I hate that it's true.\n",
            "\n",
            "Sample number 20 of 82 (Twitter Set)\n",
            "\n",
            "  1:\t@garfpooop Maybe hate speech is protected in the US but here it isnt:  https://t.co/fH9fpn2RHm\n",
            "\n",
            "Sample number 21 of 82 (Twitter Set)\n",
            "\n",
            "  1:\t@realtonyevers @Canttouchhutch @TavernWISports I agree 100%. The second round is where you build a team for a much lower cost. I think he had 18 or 19 of those.  Hit on half and missed on the others. That’s average.  I don’t hate the guy, just thinking of him as above average, not great.\n",
            "\n",
            "Sample number 22 of 82 (Twitter Set)\n",
            "\n",
            "  1:\tthe way it focused on his face. a hate crime\n",
            "\n",
            "Sample number 23 of 82 (Twitter Set)\n",
            "\n",
            "  1:\tI really hate goin ot with other people I should’ve just went with my first mind and drove myself I hate being on other people time\n",
            "\n",
            "Sample number 24 of 82 (Twitter Set)\n",
            "\n",
            "  1:\tI really hate the world because of the people who live in it.\n",
            "\n",
            "Sample number 25 of 82 (Twitter Set)\n",
            "\n",
            "  0:\t@iNomLouis oh cool id hate to be the white person to get on people’s nerves\n",
            "\n",
            "Sample number 26 of 82 (Twitter Set)\n",
            "\n",
            "  0:\tI hate this stupid song so much. 😂😂😂😂  #Verzuz\n",
            "\n",
            "Sample number 27 of 82 (Twitter Set)\n",
            "\n",
            "  1:\t@BrytheFlyGuy @americanbeetles @DavidYeates They are beautiful and I know you are way smarter than me but gosh I hate to see anything pinned to a board. Live please if possible. But OMG they are just lovely. And thank you for giving me a new favorite horse fly. I never had one before 😎\n",
            "\n",
            "Sample number 28 of 82 (Twitter Set)\n",
            "\n",
            "  1:\tI hate how true this is.\n",
            "\n",
            "Sample number 29 of 82 (Twitter Set)\n",
            "\n",
            "  0:\t@ChzzyFryz Honestly same, feels so difficult to get up sometimes and do basic tasks I hate it ;-;\n",
            "\n",
            "Sample number 30 of 82 (Twitter Set)\n",
            "\n",
            "  1:\t@troyyxy The fact that you hate MT and your roommates clearly LOVE MT.   An immaculate conception\n",
            "\n",
            "Sample number 31 of 82 (Twitter Set)\n",
            "\n",
            "  1:\t@OUCHJAEMIN wait so what is kingdom and why do people hate it sm\n",
            "\n",
            "Sample number 32 of 82 (Twitter Set)\n",
            "\n",
            "  1:\t@StankaAU What hate speech? All the hate I've seen comes from the left\n",
            "\n",
            "Sample number 33 of 82 (Twitter Set)\n",
            "\n",
            "  0:\t@YoungMace22 Literally just said Giannis doesn’t get no hate and the very next comment your hating, what type of logic is that\n",
            "\n",
            "Sample number 34 of 82 (Twitter Set)\n",
            "\n",
            "  1:\t@nye_regan i have literally had this exact same thought battle with myself so many times recently and i hate it😭😭\n",
            "\n",
            "Sample number 35 of 82 (Twitter Set)\n",
            "\n",
            "  0:\t@L0rriD @Andy @KathrynDennis She is literally THE WORST. So gross.   She is someone that tries to create drama thinking it’ll secure her position on the show, we’ve seen it before. And if you read the comments about her on here, 90% of them are how much people hate her. And not the good hate = good ratings.\n",
            "\n",
            "Sample number 36 of 82 (Twitter Set)\n",
            "\n",
            "  1:\tI HATE YOU FPL-A PERIOD.\n",
            "\n",
            "Sample number 37 of 82 (Twitter Set)\n",
            "\n",
            "  1:\t@lixysm i  don’t  hate  you  at  all  ry  i  love  you / srs\n",
            "\n",
            "Sample number 38 of 82 (Twitter Set)\n",
            "\n",
            "  1:\t@HaniWalker90 Hate the lockdown weight gain!!! Lol\n",
            "\n",
            "Sample number 39 of 82 (Twitter Set)\n",
            "\n",
            "  1:\t@m2jr It's a trial balloon. Expect something you don't like but hate less to be announced\n",
            "\n",
            "Sample number 40 of 82 (Twitter Set)\n",
            "\n",
            "  0:\ti’m so annoying i hate my self\n",
            "\n",
            "Sample number 41 of 82 (Twitter Set)\n",
            "\n",
            "  0:\t@owlcitizenluis Same! I hate when I see YouTubers call the Nitara fandom toxic when there’s just a few that really are! A few bad apples doesn’t mean that ALL of the apples are bad😭!\n",
            "\n",
            "Sample number 42 of 82 (Twitter Set)\n",
            "\n",
            "  1:\tYou hate talking to the only nigga that can fix you 🤦‍♂️\n",
            "\n",
            "Sample number 43 of 82 (Twitter Set)\n",
            "\n",
            "  1:\ti hate your friends i your mom and dad\n",
            "\n",
            "Sample number 44 of 82 (Twitter Set)\n",
            "\n",
            "  1:\there’s everyone’s daily reminder to hate Susan bc she’s a homophobic whore and i plan to roll a cart over her tomorrow :)))) /hj /lh /nbh\n",
            "\n",
            "Sample number 45 of 82 (Twitter Set)\n",
            "\n",
            "  0:\tMostly looking forward the playlist that’ll be made after this\n",
            "\n",
            "Sample number 46 of 82 (Twitter Set)\n",
            "\n",
            "  1:\tI hate whores that post they single everyday bitch we know and we don’t want you😭\n",
            "\n",
            "Sample number 47 of 82 (Twitter Set)\n",
            "\n",
            "  1:\tI hate this boy with every bone in my body.\n",
            "\n",
            "Sample number 48 of 82 (Twitter Set)\n",
            "\n",
            "  1:\ti hate you\n",
            "\n",
            "Sample number 49 of 82 (Twitter Set)\n",
            "\n",
            "  0:\tI hate the term “good n*ggas” because some of y’all use it for any and every guy AND apply it to every guy from the hood. Sound and look stupid.\n",
            "\n",
            "Sample number 50 of 82 (Twitter Set)\n",
            "\n",
            "  0:\t@mmasnick @syintist @DevinCow Ok. Now do hate speech against protected populations and bullying to the point of forcing self harm. And how about that pesky \"inciting a riot\" bit for someone who doesn't participate in the actual riot? It's just speech after all.\n",
            "\n",
            "Sample number 51 of 82 (Twitter Set)\n",
            "\n",
            "  0:\t@rimonima If we all block them they’ll be in their echo chamber thinking this hate speech is ok. Call them out or report them. Squash them.\n",
            "\n",
            "Sample number 52 of 82 (Twitter Set)\n",
            "\n",
            "  1:\tI cannot stress this enough but @MCamerlengo is one of the funniest people on the internet and if you haven’t seen his 60 second movies and hate fun then maybe you should read his blog posts.\n",
            "\n",
            "Sample number 53 of 82 (Twitter Set)\n",
            "\n",
            "  0:\t@kayleighmcenany So Kayleigh McEnany thinks snapping at reporters and not taking questions are bad things.  She must *hate* ... (checks notes) ... Kayleigh McEnany.\n",
            "\n",
            "Sample number 54 of 82 (Twitter Set)\n",
            "\n",
            "  1:\t@SydneyDeBerry Crazy thing is ever since that night I really hated the way our friendship ended and you can deadass ask anybody. I’ve got nothing but well wishes for you. Our friendship ain’t work out but ain’t no hate over here. Call me a fan but I just be missing my best friend\n",
            "\n",
            "Sample number 55 of 82 (Twitter Set)\n",
            "\n",
            "  1:\tSuch hate only comes from homosexuals, the demented or simple ignorance\n",
            "\n",
            "Sample number 56 of 82 (Twitter Set)\n",
            "\n",
            "  1:\tThe attitude that makes our neighbours hate us. The fellow is interviewing a PM and his disposition is so condescending.\n",
            "\n",
            "Sample number 57 of 82 (Twitter Set)\n",
            "\n",
            "  1:\t@NADI__orNice Idek what this is about but as a lightskin, i hate lightskins.\n",
            "\n",
            "Sample number 58 of 82 (Twitter Set)\n",
            "\n",
            "  1:\tI fuckin hate u 😭😭😭😭\n",
            "\n",
            "Sample number 59 of 82 (Twitter Set)\n",
            "\n",
            "  1:\tI really hate explaining especially when its not my fault\n",
            "\n",
            "Sample number 60 of 82 (Twitter Set)\n",
            "\n",
            "  1:\t@lovemeblue0 Yes, exactly!!! I know that the stunts are for propaganda but sometimes i feel like they do the opposite because it makes people theorize and talk about it instead of focusing on the singles or whatever and then people forget about what was released :///\n",
            "\n",
            "Sample number 61 of 82 (Twitter Set)\n",
            "\n",
            "  1:\tGod I hate having anxiety\n",
            "\n",
            "Sample number 62 of 82 (Twitter Set)\n",
            "\n",
            "  1:\tI hate it here  https://t.co/5Kfsgwsvwz\n",
            "\n",
            "Sample number 63 of 82 (Twitter Set)\n",
            "\n",
            "  1:\tThank you mappa for animating aot s4, even tho you get alot of hate I thank you, within 1 month you've been able to animate 6 ep and you only got 10 months to do so I respect you for that #thankyoumappa @MappaStudios I love you all and don't over work you're self's to much.\n",
            "\n",
            "Sample number 64 of 82 (Twitter Set)\n",
            "\n",
            "  1:\t@JDdaSCRaider @Casey8numbers @Dogtown_Raider @Jimmy_3_Tech Yep! I wasn’t going to defend my character to a loser. I don’t need to explain me to anyone. You either love me or hate me. He chose the latter but I wasn’t going to cry over it. His loss. I’m fabulous 🤣 #ByeBitch\n",
            "\n",
            "Sample number 65 of 82 (Twitter Set)\n",
            "\n",
            "  1:\tFuck you fuck them fuck everybody i hate you all you guys are so attractive that ive been swerving to different sides of sexuality ARGH\n",
            "\n",
            "Sample number 66 of 82 (Twitter Set)\n",
            "\n",
            "  1:\tI hate this guy 😂😂😂😂\n",
            "\n",
            "Sample number 67 of 82 (Twitter Set)\n",
            "\n",
            "  1:\tMy last bf... Texas Trump man.. called his gay kid a lady fag. I literally hate living here.\n",
            "\n",
            "Sample number 68 of 82 (Twitter Set)\n",
            "\n",
            "  0:\tI use to love going to work but now I hate going! People really be giving bad vibes 😭\n",
            "\n",
            "Sample number 69 of 82 (Twitter Set)\n",
            "\n",
            "  0:\t2021 and liberals are still breaking their backs calling bernie a misogynist. just say you hate poor people and go\n",
            "\n",
            "Sample number 70 of 82 (Twitter Set)\n",
            "\n",
            "  1:\trealizing how much i hate being ignored  https://t.co/eREXTgalBR\n",
            "\n",
            "Sample number 71 of 82 (Twitter Set)\n",
            "\n",
            "  1:\tI hate them typical ashanti and keyshia cole songs yall be liking\n",
            "\n",
            "Sample number 72 of 82 (Twitter Set)\n",
            "\n",
            "  0:\t@weirdboingos i hate those toxic \"so-called\" football fans because their thoughts are just... d i s a p p o i n t i n g\n",
            "\n",
            "Sample number 73 of 82 (Twitter Set)\n",
            "\n",
            "  1:\tㅤㅤ          ── · · · · · ──     ─ • ❝ You'll be in love 'til it kills you both. You'll fight, and you'll shag, and you'll hate each other until it  makes you quiver, but you'll never be friends.❞                   ── · · · · · ──  https://t.co/eRI4YLaul9\n",
            "\n",
            "Sample number 74 of 82 (Twitter Set)\n",
            "\n",
            "  1:\tI hate that I hear caresha’s run\n",
            "\n",
            "Sample number 75 of 82 (Twitter Set)\n",
            "\n",
            "  0:\t@ibemood when she twerks and the comments be like, “this all you do?” and all the other ones about her “too little clothes” really upset me. i could talk all day about the stupid hate she gets. i’m tired  https://t.co/pYdYW7Dk31\n",
            "\n",
            "Sample number 76 of 82 (Twitter Set)\n",
            "\n",
            "  1:\tRJ STEPPING INTO IT LETS GOOOOO\n",
            "\n",
            "Sample number 77 of 82 (Twitter Set)\n",
            "\n",
            "  1:\tI hate it here\n",
            "\n",
            "Sample number 78 of 82 (Twitter Set)\n",
            "\n",
            "  0:\ti just hate ordered mac &amp; cheese\n",
            "\n",
            "Sample number 79 of 82 (Twitter Set)\n",
            "\n",
            "  1:\talso this is back from sept of last year like wow the improvement in only a few months &lt;3 woah\n",
            "\n",
            "Sample number 80 of 82 (Twitter Set)\n",
            "\n",
            "  1:\tI miss my love and hate relationship with duma. The scheduled and random work trips. Ive only been there for laag once- and Carms and I flew from duma to cebu. HAHAHAHAHAHAHA\n",
            "\n",
            "Sample number 81 of 82 (Twitter Set)\n",
            "\n",
            "  0:\tblack people hate saying dey name at da door 😂😂 dey b like “who is it?” we be like “me ngga” 😭😭\n",
            "\n",
            "Sample number 82 of 82 (Twitter Set)\n",
            "\n",
            "  1:\tI have a love/hate relationship with this song.\n",
            "\n"
          ],
          "name": "stdout"
        }
      ]
    },
    {
      "cell_type": "markdown",
      "metadata": {
        "id": "bQWbiUzctFJh"
      },
      "source": [
        "__Conclusiones:__\n",
        "\n",
        "Los textos classificados o etiquetados son poco comunes, así que en este caso solo se utilizó el dataset clasificado en 2 clases para entrenar el modelo y poder clasificar tweets.\n",
        "\n",
        "Al crear un modelo que su primera capa limpia el texto y lo vectoriza permite un uso muy flexible del desarrollo, también es muy sencillo modificar los hiperparámetros, lo que hace que usar el modelo sea tan sencillo como pasarle una lista como argumento al método _.predic_ del modelo.\n"
      ]
    },
    {
      "cell_type": "markdown",
      "metadata": {
        "id": "dNiD92zDJR2y"
      },
      "source": [
        "###**Referencias:**\r\n",
        "\r\n",
        "*   https://colab.research.google.com/drive/17p3ef9HyZ9N9rixGdr5yhLd_VGT0zpNk?usp=sharing\r\n",
        "*   https://github.com/VMijangos/Curso-Procesamiento-de-Lenguaje-Natural/blob/master/Notebooks/09b%20Language_model_bigram_big.ipynb\r\n",
        "*   https://github.com/penserbjorne/clase-pln-2020-2/blob/master/02_practica/practica_2.ipynb\r\n",
        "*   Yoshua Bengio, Réjean Ducharme, Pascal Vincent, and Christian Jauvin.\r\n",
        "A neural probabilistic language model.\r\n",
        "Journal of machine learning research, 3(Feb):1137–1155, 2003.\r\n",
        "\r\n"
      ]
    }
  ]
}